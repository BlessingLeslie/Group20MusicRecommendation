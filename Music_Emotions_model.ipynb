{
  "cells": [
    {
      "cell_type": "code",
      "execution_count": null,
      "metadata": {
        "colab": {
          "base_uri": "https://localhost:8080/"
        },
        "id": "wj0z1YZq1xYD",
        "outputId": "9ade2bf1-cba3-4bc5-b17a-2786bbc404da"
      },
      "outputs": [
        {
          "output_type": "stream",
          "name": "stdout",
          "text": [
            "Mounted at /content/drive\n"
          ]
        }
      ],
      "source": [
        "from google.colab import drive\n",
        "drive.mount('/content/drive')"
      ]
    },
    {
      "cell_type": "code",
      "execution_count": null,
      "metadata": {
        "colab": {
          "base_uri": "https://localhost:8080/",
          "height": 461
        },
        "id": "OAyAW2lce5Dn",
        "outputId": "188ea4e5-c783-4882-f163-095a1e808236"
      },
      "outputs": [
        {
          "output_type": "execute_result",
          "data": {
            "text/plain": [
              "      track id      genre   amazement   solemnity   tenderness   nostalgia  \\\n",
              "0            1  classical           0           1            0           0   \n",
              "1            1  classical           0           0            0           1   \n",
              "2            1  classical           0           0            0           1   \n",
              "3            1  classical           0           0            0           0   \n",
              "4            1  classical           0           0            0           1   \n",
              "...        ...        ...         ...         ...          ...         ...   \n",
              "8402       400        pop           1           1            0           0   \n",
              "8403       400        pop           0           0            0           1   \n",
              "8404       400        pop           0           0            0           0   \n",
              "8405       400        pop           1           0            0           0   \n",
              "8406       400        pop           1           0            0           0   \n",
              "\n",
              "       calmness   power   joyful_activation   tension   sadness   mood  \\\n",
              "0             0       0                   1         1         0      3   \n",
              "1             0       0                   0         0         0      3   \n",
              "2             0       0                   0         0         1      3   \n",
              "3             1       0                   0         0         0      3   \n",
              "4             1       0                   0         0         0      4   \n",
              "...         ...     ...                 ...       ...       ...    ...   \n",
              "8402          0       0                   1         0         0      3   \n",
              "8403          0       0                   1         0         1      3   \n",
              "8404          0       0                   0         1         0      4   \n",
              "8405          0       0                   1         1         0      5   \n",
              "8406          0       0                   0         1         0      4   \n",
              "\n",
              "       liked   disliked   age   gender  mother tongue  \n",
              "0          1          0    21        1        English  \n",
              "1          0          1    41        1          Dutch  \n",
              "2          0          0    24        1        English  \n",
              "3          0          0    32        0        Spanish  \n",
              "4          0          1    21        0        English  \n",
              "...      ...        ...   ...      ...            ...  \n",
              "8402       0          0    26        1        Russian  \n",
              "8403       0          1    29        0        Russian  \n",
              "8404       0          1    34        1         Polish  \n",
              "8405       0          0    39        1         French  \n",
              "8406       0          1    18        1        Russian  \n",
              "\n",
              "[8407 rows x 17 columns]"
            ],
            "text/html": [
              "\n",
              "  <div id=\"df-a354fe51-33a1-4a73-898b-a316a2ee9b6e\" class=\"colab-df-container\">\n",
              "    <div>\n",
              "<style scoped>\n",
              "    .dataframe tbody tr th:only-of-type {\n",
              "        vertical-align: middle;\n",
              "    }\n",
              "\n",
              "    .dataframe tbody tr th {\n",
              "        vertical-align: top;\n",
              "    }\n",
              "\n",
              "    .dataframe thead th {\n",
              "        text-align: right;\n",
              "    }\n",
              "</style>\n",
              "<table border=\"1\" class=\"dataframe\">\n",
              "  <thead>\n",
              "    <tr style=\"text-align: right;\">\n",
              "      <th></th>\n",
              "      <th>track id</th>\n",
              "      <th>genre</th>\n",
              "      <th>amazement</th>\n",
              "      <th>solemnity</th>\n",
              "      <th>tenderness</th>\n",
              "      <th>nostalgia</th>\n",
              "      <th>calmness</th>\n",
              "      <th>power</th>\n",
              "      <th>joyful_activation</th>\n",
              "      <th>tension</th>\n",
              "      <th>sadness</th>\n",
              "      <th>mood</th>\n",
              "      <th>liked</th>\n",
              "      <th>disliked</th>\n",
              "      <th>age</th>\n",
              "      <th>gender</th>\n",
              "      <th>mother tongue</th>\n",
              "    </tr>\n",
              "  </thead>\n",
              "  <tbody>\n",
              "    <tr>\n",
              "      <th>0</th>\n",
              "      <td>1</td>\n",
              "      <td>classical</td>\n",
              "      <td>0</td>\n",
              "      <td>1</td>\n",
              "      <td>0</td>\n",
              "      <td>0</td>\n",
              "      <td>0</td>\n",
              "      <td>0</td>\n",
              "      <td>1</td>\n",
              "      <td>1</td>\n",
              "      <td>0</td>\n",
              "      <td>3</td>\n",
              "      <td>1</td>\n",
              "      <td>0</td>\n",
              "      <td>21</td>\n",
              "      <td>1</td>\n",
              "      <td>English</td>\n",
              "    </tr>\n",
              "    <tr>\n",
              "      <th>1</th>\n",
              "      <td>1</td>\n",
              "      <td>classical</td>\n",
              "      <td>0</td>\n",
              "      <td>0</td>\n",
              "      <td>0</td>\n",
              "      <td>1</td>\n",
              "      <td>0</td>\n",
              "      <td>0</td>\n",
              "      <td>0</td>\n",
              "      <td>0</td>\n",
              "      <td>0</td>\n",
              "      <td>3</td>\n",
              "      <td>0</td>\n",
              "      <td>1</td>\n",
              "      <td>41</td>\n",
              "      <td>1</td>\n",
              "      <td>Dutch</td>\n",
              "    </tr>\n",
              "    <tr>\n",
              "      <th>2</th>\n",
              "      <td>1</td>\n",
              "      <td>classical</td>\n",
              "      <td>0</td>\n",
              "      <td>0</td>\n",
              "      <td>0</td>\n",
              "      <td>1</td>\n",
              "      <td>0</td>\n",
              "      <td>0</td>\n",
              "      <td>0</td>\n",
              "      <td>0</td>\n",
              "      <td>1</td>\n",
              "      <td>3</td>\n",
              "      <td>0</td>\n",
              "      <td>0</td>\n",
              "      <td>24</td>\n",
              "      <td>1</td>\n",
              "      <td>English</td>\n",
              "    </tr>\n",
              "    <tr>\n",
              "      <th>3</th>\n",
              "      <td>1</td>\n",
              "      <td>classical</td>\n",
              "      <td>0</td>\n",
              "      <td>0</td>\n",
              "      <td>0</td>\n",
              "      <td>0</td>\n",
              "      <td>1</td>\n",
              "      <td>0</td>\n",
              "      <td>0</td>\n",
              "      <td>0</td>\n",
              "      <td>0</td>\n",
              "      <td>3</td>\n",
              "      <td>0</td>\n",
              "      <td>0</td>\n",
              "      <td>32</td>\n",
              "      <td>0</td>\n",
              "      <td>Spanish</td>\n",
              "    </tr>\n",
              "    <tr>\n",
              "      <th>4</th>\n",
              "      <td>1</td>\n",
              "      <td>classical</td>\n",
              "      <td>0</td>\n",
              "      <td>0</td>\n",
              "      <td>0</td>\n",
              "      <td>1</td>\n",
              "      <td>1</td>\n",
              "      <td>0</td>\n",
              "      <td>0</td>\n",
              "      <td>0</td>\n",
              "      <td>0</td>\n",
              "      <td>4</td>\n",
              "      <td>0</td>\n",
              "      <td>1</td>\n",
              "      <td>21</td>\n",
              "      <td>0</td>\n",
              "      <td>English</td>\n",
              "    </tr>\n",
              "    <tr>\n",
              "      <th>...</th>\n",
              "      <td>...</td>\n",
              "      <td>...</td>\n",
              "      <td>...</td>\n",
              "      <td>...</td>\n",
              "      <td>...</td>\n",
              "      <td>...</td>\n",
              "      <td>...</td>\n",
              "      <td>...</td>\n",
              "      <td>...</td>\n",
              "      <td>...</td>\n",
              "      <td>...</td>\n",
              "      <td>...</td>\n",
              "      <td>...</td>\n",
              "      <td>...</td>\n",
              "      <td>...</td>\n",
              "      <td>...</td>\n",
              "      <td>...</td>\n",
              "    </tr>\n",
              "    <tr>\n",
              "      <th>8402</th>\n",
              "      <td>400</td>\n",
              "      <td>pop</td>\n",
              "      <td>1</td>\n",
              "      <td>1</td>\n",
              "      <td>0</td>\n",
              "      <td>0</td>\n",
              "      <td>0</td>\n",
              "      <td>0</td>\n",
              "      <td>1</td>\n",
              "      <td>0</td>\n",
              "      <td>0</td>\n",
              "      <td>3</td>\n",
              "      <td>0</td>\n",
              "      <td>0</td>\n",
              "      <td>26</td>\n",
              "      <td>1</td>\n",
              "      <td>Russian</td>\n",
              "    </tr>\n",
              "    <tr>\n",
              "      <th>8403</th>\n",
              "      <td>400</td>\n",
              "      <td>pop</td>\n",
              "      <td>0</td>\n",
              "      <td>0</td>\n",
              "      <td>0</td>\n",
              "      <td>1</td>\n",
              "      <td>0</td>\n",
              "      <td>0</td>\n",
              "      <td>1</td>\n",
              "      <td>0</td>\n",
              "      <td>1</td>\n",
              "      <td>3</td>\n",
              "      <td>0</td>\n",
              "      <td>1</td>\n",
              "      <td>29</td>\n",
              "      <td>0</td>\n",
              "      <td>Russian</td>\n",
              "    </tr>\n",
              "    <tr>\n",
              "      <th>8404</th>\n",
              "      <td>400</td>\n",
              "      <td>pop</td>\n",
              "      <td>0</td>\n",
              "      <td>0</td>\n",
              "      <td>0</td>\n",
              "      <td>0</td>\n",
              "      <td>0</td>\n",
              "      <td>0</td>\n",
              "      <td>0</td>\n",
              "      <td>1</td>\n",
              "      <td>0</td>\n",
              "      <td>4</td>\n",
              "      <td>0</td>\n",
              "      <td>1</td>\n",
              "      <td>34</td>\n",
              "      <td>1</td>\n",
              "      <td>Polish</td>\n",
              "    </tr>\n",
              "    <tr>\n",
              "      <th>8405</th>\n",
              "      <td>400</td>\n",
              "      <td>pop</td>\n",
              "      <td>1</td>\n",
              "      <td>0</td>\n",
              "      <td>0</td>\n",
              "      <td>0</td>\n",
              "      <td>0</td>\n",
              "      <td>0</td>\n",
              "      <td>1</td>\n",
              "      <td>1</td>\n",
              "      <td>0</td>\n",
              "      <td>5</td>\n",
              "      <td>0</td>\n",
              "      <td>0</td>\n",
              "      <td>39</td>\n",
              "      <td>1</td>\n",
              "      <td>French</td>\n",
              "    </tr>\n",
              "    <tr>\n",
              "      <th>8406</th>\n",
              "      <td>400</td>\n",
              "      <td>pop</td>\n",
              "      <td>1</td>\n",
              "      <td>0</td>\n",
              "      <td>0</td>\n",
              "      <td>0</td>\n",
              "      <td>0</td>\n",
              "      <td>0</td>\n",
              "      <td>0</td>\n",
              "      <td>1</td>\n",
              "      <td>0</td>\n",
              "      <td>4</td>\n",
              "      <td>0</td>\n",
              "      <td>1</td>\n",
              "      <td>18</td>\n",
              "      <td>1</td>\n",
              "      <td>Russian</td>\n",
              "    </tr>\n",
              "  </tbody>\n",
              "</table>\n",
              "<p>8407 rows × 17 columns</p>\n",
              "</div>\n",
              "    <div class=\"colab-df-buttons\">\n",
              "\n",
              "  <div class=\"colab-df-container\">\n",
              "    <button class=\"colab-df-convert\" onclick=\"convertToInteractive('df-a354fe51-33a1-4a73-898b-a316a2ee9b6e')\"\n",
              "            title=\"Convert this dataframe to an interactive table.\"\n",
              "            style=\"display:none;\">\n",
              "\n",
              "  <svg xmlns=\"http://www.w3.org/2000/svg\" height=\"24px\" viewBox=\"0 -960 960 960\">\n",
              "    <path d=\"M120-120v-720h720v720H120Zm60-500h600v-160H180v160Zm220 220h160v-160H400v160Zm0 220h160v-160H400v160ZM180-400h160v-160H180v160Zm440 0h160v-160H620v160ZM180-180h160v-160H180v160Zm440 0h160v-160H620v160Z\"/>\n",
              "  </svg>\n",
              "    </button>\n",
              "\n",
              "  <style>\n",
              "    .colab-df-container {\n",
              "      display:flex;\n",
              "      gap: 12px;\n",
              "    }\n",
              "\n",
              "    .colab-df-convert {\n",
              "      background-color: #E8F0FE;\n",
              "      border: none;\n",
              "      border-radius: 50%;\n",
              "      cursor: pointer;\n",
              "      display: none;\n",
              "      fill: #1967D2;\n",
              "      height: 32px;\n",
              "      padding: 0 0 0 0;\n",
              "      width: 32px;\n",
              "    }\n",
              "\n",
              "    .colab-df-convert:hover {\n",
              "      background-color: #E2EBFA;\n",
              "      box-shadow: 0px 1px 2px rgba(60, 64, 67, 0.3), 0px 1px 3px 1px rgba(60, 64, 67, 0.15);\n",
              "      fill: #174EA6;\n",
              "    }\n",
              "\n",
              "    .colab-df-buttons div {\n",
              "      margin-bottom: 4px;\n",
              "    }\n",
              "\n",
              "    [theme=dark] .colab-df-convert {\n",
              "      background-color: #3B4455;\n",
              "      fill: #D2E3FC;\n",
              "    }\n",
              "\n",
              "    [theme=dark] .colab-df-convert:hover {\n",
              "      background-color: #434B5C;\n",
              "      box-shadow: 0px 1px 3px 1px rgba(0, 0, 0, 0.15);\n",
              "      filter: drop-shadow(0px 1px 2px rgba(0, 0, 0, 0.3));\n",
              "      fill: #FFFFFF;\n",
              "    }\n",
              "  </style>\n",
              "\n",
              "    <script>\n",
              "      const buttonEl =\n",
              "        document.querySelector('#df-a354fe51-33a1-4a73-898b-a316a2ee9b6e button.colab-df-convert');\n",
              "      buttonEl.style.display =\n",
              "        google.colab.kernel.accessAllowed ? 'block' : 'none';\n",
              "\n",
              "      async function convertToInteractive(key) {\n",
              "        const element = document.querySelector('#df-a354fe51-33a1-4a73-898b-a316a2ee9b6e');\n",
              "        const dataTable =\n",
              "          await google.colab.kernel.invokeFunction('convertToInteractive',\n",
              "                                                    [key], {});\n",
              "        if (!dataTable) return;\n",
              "\n",
              "        const docLinkHtml = 'Like what you see? Visit the ' +\n",
              "          '<a target=\"_blank\" href=https://colab.research.google.com/notebooks/data_table.ipynb>data table notebook</a>'\n",
              "          + ' to learn more about interactive tables.';\n",
              "        element.innerHTML = '';\n",
              "        dataTable['output_type'] = 'display_data';\n",
              "        await google.colab.output.renderOutput(dataTable, element);\n",
              "        const docLink = document.createElement('div');\n",
              "        docLink.innerHTML = docLinkHtml;\n",
              "        element.appendChild(docLink);\n",
              "      }\n",
              "    </script>\n",
              "  </div>\n",
              "\n",
              "\n",
              "<div id=\"df-cbb37c85-85c7-40a7-bff8-9a21af75ff83\">\n",
              "  <button class=\"colab-df-quickchart\" onclick=\"quickchart('df-cbb37c85-85c7-40a7-bff8-9a21af75ff83')\"\n",
              "            title=\"Suggest charts\"\n",
              "            style=\"display:none;\">\n",
              "\n",
              "<svg xmlns=\"http://www.w3.org/2000/svg\" height=\"24px\"viewBox=\"0 0 24 24\"\n",
              "     width=\"24px\">\n",
              "    <g>\n",
              "        <path d=\"M19 3H5c-1.1 0-2 .9-2 2v14c0 1.1.9 2 2 2h14c1.1 0 2-.9 2-2V5c0-1.1-.9-2-2-2zM9 17H7v-7h2v7zm4 0h-2V7h2v10zm4 0h-2v-4h2v4z\"/>\n",
              "    </g>\n",
              "</svg>\n",
              "  </button>\n",
              "\n",
              "<style>\n",
              "  .colab-df-quickchart {\n",
              "      --bg-color: #E8F0FE;\n",
              "      --fill-color: #1967D2;\n",
              "      --hover-bg-color: #E2EBFA;\n",
              "      --hover-fill-color: #174EA6;\n",
              "      --disabled-fill-color: #AAA;\n",
              "      --disabled-bg-color: #DDD;\n",
              "  }\n",
              "\n",
              "  [theme=dark] .colab-df-quickchart {\n",
              "      --bg-color: #3B4455;\n",
              "      --fill-color: #D2E3FC;\n",
              "      --hover-bg-color: #434B5C;\n",
              "      --hover-fill-color: #FFFFFF;\n",
              "      --disabled-bg-color: #3B4455;\n",
              "      --disabled-fill-color: #666;\n",
              "  }\n",
              "\n",
              "  .colab-df-quickchart {\n",
              "    background-color: var(--bg-color);\n",
              "    border: none;\n",
              "    border-radius: 50%;\n",
              "    cursor: pointer;\n",
              "    display: none;\n",
              "    fill: var(--fill-color);\n",
              "    height: 32px;\n",
              "    padding: 0;\n",
              "    width: 32px;\n",
              "  }\n",
              "\n",
              "  .colab-df-quickchart:hover {\n",
              "    background-color: var(--hover-bg-color);\n",
              "    box-shadow: 0 1px 2px rgba(60, 64, 67, 0.3), 0 1px 3px 1px rgba(60, 64, 67, 0.15);\n",
              "    fill: var(--button-hover-fill-color);\n",
              "  }\n",
              "\n",
              "  .colab-df-quickchart-complete:disabled,\n",
              "  .colab-df-quickchart-complete:disabled:hover {\n",
              "    background-color: var(--disabled-bg-color);\n",
              "    fill: var(--disabled-fill-color);\n",
              "    box-shadow: none;\n",
              "  }\n",
              "\n",
              "  .colab-df-spinner {\n",
              "    border: 2px solid var(--fill-color);\n",
              "    border-color: transparent;\n",
              "    border-bottom-color: var(--fill-color);\n",
              "    animation:\n",
              "      spin 1s steps(1) infinite;\n",
              "  }\n",
              "\n",
              "  @keyframes spin {\n",
              "    0% {\n",
              "      border-color: transparent;\n",
              "      border-bottom-color: var(--fill-color);\n",
              "      border-left-color: var(--fill-color);\n",
              "    }\n",
              "    20% {\n",
              "      border-color: transparent;\n",
              "      border-left-color: var(--fill-color);\n",
              "      border-top-color: var(--fill-color);\n",
              "    }\n",
              "    30% {\n",
              "      border-color: transparent;\n",
              "      border-left-color: var(--fill-color);\n",
              "      border-top-color: var(--fill-color);\n",
              "      border-right-color: var(--fill-color);\n",
              "    }\n",
              "    40% {\n",
              "      border-color: transparent;\n",
              "      border-right-color: var(--fill-color);\n",
              "      border-top-color: var(--fill-color);\n",
              "    }\n",
              "    60% {\n",
              "      border-color: transparent;\n",
              "      border-right-color: var(--fill-color);\n",
              "    }\n",
              "    80% {\n",
              "      border-color: transparent;\n",
              "      border-right-color: var(--fill-color);\n",
              "      border-bottom-color: var(--fill-color);\n",
              "    }\n",
              "    90% {\n",
              "      border-color: transparent;\n",
              "      border-bottom-color: var(--fill-color);\n",
              "    }\n",
              "  }\n",
              "</style>\n",
              "\n",
              "  <script>\n",
              "    async function quickchart(key) {\n",
              "      const quickchartButtonEl =\n",
              "        document.querySelector('#' + key + ' button');\n",
              "      quickchartButtonEl.disabled = true;  // To prevent multiple clicks.\n",
              "      quickchartButtonEl.classList.add('colab-df-spinner');\n",
              "      try {\n",
              "        const charts = await google.colab.kernel.invokeFunction(\n",
              "            'suggestCharts', [key], {});\n",
              "      } catch (error) {\n",
              "        console.error('Error during call to suggestCharts:', error);\n",
              "      }\n",
              "      quickchartButtonEl.classList.remove('colab-df-spinner');\n",
              "      quickchartButtonEl.classList.add('colab-df-quickchart-complete');\n",
              "    }\n",
              "    (() => {\n",
              "      let quickchartButtonEl =\n",
              "        document.querySelector('#df-cbb37c85-85c7-40a7-bff8-9a21af75ff83 button');\n",
              "      quickchartButtonEl.style.display =\n",
              "        google.colab.kernel.accessAllowed ? 'block' : 'none';\n",
              "    })();\n",
              "  </script>\n",
              "</div>\n",
              "    </div>\n",
              "  </div>\n"
            ]
          },
          "metadata": {},
          "execution_count": 49
        }
      ],
      "source": [
        "import pandas as pd\n",
        "dataset_track ='/content/drive/My Drive/Colab Notebooks/data.csv'\n",
        "data = pd.read_csv(dataset_track)\n",
        "data"
      ]
    },
    {
      "cell_type": "code",
      "execution_count": null,
      "metadata": {
        "colab": {
          "base_uri": "https://localhost:8080/"
        },
        "id": "Ov8O4x1Ae8r1",
        "outputId": "e8f48bc2-c9ca-4e98-8630-7b3820f1437d"
      },
      "outputs": [
        {
          "output_type": "stream",
          "name": "stdout",
          "text": [
            "Data size after loading: (8407, 4)\n"
          ]
        }
      ],
      "source": [
        "# Print the size of the DataFrame after loading\n",
        "print(\"Data size after loading:\", data.shape)"
      ]
    },
    {
      "cell_type": "markdown",
      "source": [
        "**MUSIC EMOTIONS CLASSIFICATION**"
      ],
      "metadata": {
        "id": "hxRRD19sGGMh"
      }
    },
    {
      "cell_type": "markdown",
      "source": [
        "**MODEL 1**"
      ],
      "metadata": {
        "id": "v_yRp87hLYSR"
      }
    },
    {
      "cell_type": "markdown",
      "source": [
        "*Firstly, I am performing Feature Engineering and Emotion Mapping*: Defining emotional indicator columns, creating functions to detect significant mood shifts and to map emotions based on dataset criteria\n",
        "\n"
      ],
      "metadata": {
        "id": "c8vuIDmLGM2x"
      }
    },
    {
      "cell_type": "code",
      "execution_count": null,
      "metadata": {
        "id": "sLg__qmss1LW"
      },
      "outputs": [],
      "source": [
        "import pandas as pd\n",
        "from sklearn.model_selection import train_test_split\n",
        "from sklearn.ensemble import RandomForestClassifier\n",
        "from sklearn.metrics import classification_report, accuracy_score\n",
        "from sklearn.preprocessing import StandardScaler\n",
        "\n",
        "# Define the emotional indicators columns\n",
        "emotion_columns = [\n",
        "    ' amazement', ' solemnity', ' tenderness', ' nostalgia',\n",
        "    ' calmness', ' power', ' joyful_activation', ' tension', ' sadness', ' mood', ' liked', ' disliked']\n",
        "\n",
        "# Define a function to determine if there is a significant mood shift for a track\n",
        "def significant_mood_shift(row, threshold=2):\n",
        "    track_data = data[data['track id'] == row['track id']]\n",
        "    mood_range = track_data[' mood'].max() - track_data[' mood'].min()\n",
        "    return mood_range >= threshold\n"
      ]
    },
    {
      "cell_type": "code",
      "execution_count": null,
      "metadata": {
        "id": "gpFYYvUsBel_"
      },
      "outputs": [],
      "source": [
        "\n",
        "# Function to map emotions based on dataset rows\n",
        "def map_emotions(row):\n",
        "    # High joy and high mood indicate happiness\n",
        "    if row[' liked'] == 1 and row[' mood'] >= 4:\n",
        "        if row[' joyful_activation'] == 1:\n",
        "            return 'Happy'\n",
        "        return 'Happy'\n",
        "    # High tension and low mood indicate anger or fear\n",
        "    if row[' tension'] == 1:\n",
        "        if row[' power'] == 1 or row[' disliked'] == 1:\n",
        "            return 'Angry'\n",
        "        if row[' amazement'] == 1:\n",
        "            return 'Fear'\n",
        "\n",
        "    # Sadness can be a standalone indicator if mood is low\n",
        "    if row[' sadness'] == 1 and row[' mood'] <= 2:\n",
        "        return 'Sad'\n",
        "    # Amazement combined with a mood shift indicates surprise\n",
        "    if row[' amazement'] == 1 and significant_mood_shift(row):\n",
        "        return 'Surprised'\n",
        "    # Disgust is indicated by low tenderness, especially with solemnity\n",
        "    if row[' tenderness'] == 0 and row[' mood'] <= 2:\n",
        "        if row[' solemnity'] == 1:\n",
        "            return 'Disgust'\n",
        "    # Neutral is a default for moderate mood without strong indicators\n",
        "    if row[' mood'] == 3:\n",
        "        if row[' tension'] == 0 and row[' sadness'] == 0 and row[' joyful_activation'] == 0:\n",
        "            return 'Neutral'\n",
        "    # If no strong emotion is detected, the default is to check for the most dominant\n",
        "    # emotional indicators present and map accordingly\n",
        "    dominant_emotion = 'Neutral'  # Default to 'Neutral'\n",
        "    if row[' joyful_activation'] == 1:\n",
        "        dominant_emotion = 'Happy'\n",
        "    elif row[' sadness'] == 1:\n",
        "        dominant_emotion = 'Sad'\n",
        "    elif row[' tension'] == 1:\n",
        "        dominant_emotion = 'Angry'\n",
        "    return dominant_emotion"
      ]
    },
    {
      "cell_type": "markdown",
      "source": [
        "**Setting Up the Machine Learning Environment and Preprocessing Data**"
      ],
      "metadata": {
        "id": "Z0fWvfJEIq3D"
      }
    },
    {
      "cell_type": "markdown",
      "source": [
        "*Secondly, I am \"Preparing Data and Feature Scaling*\": I apply the emotion mapping to define the target variable, split the dataset for training and testing, and standardize the features to optimize model performance."
      ],
      "metadata": {
        "id": "2TPzgjVOHz9o"
      }
    },
    {
      "cell_type": "code",
      "source": [
        "\n",
        "# Apply the emotion mapping function to create a new column for the target emotion\n",
        "data['target_emotion'] = data.apply(map_emotions, axis=1)\n",
        "\n",
        "# Prepare the features (X) and target variable (y) for the model\n",
        "X = data[emotion_columns]  # Features\n",
        "y = data['target_emotion']  # Target variable\n",
        "\n",
        "# Split the dataset into training and test sets\n",
        "X_train, X_test, y_train, y_test = train_test_split(X, y, test_size=0.3, random_state=42)\n",
        "\n",
        "# Standardize the features\n",
        "scaler = StandardScaler()\n",
        "X_train_scaled = scaler.fit_transform(X_train)\n",
        "X_test_scaled = scaler.transform(X_test)"
      ],
      "metadata": {
        "id": "4mRfyHwmyHuF"
      },
      "execution_count": null,
      "outputs": []
    },
    {
      "cell_type": "markdown",
      "source": [
        "\n",
        "*Thirdly, I am performing \"Model Training and Evaluation\"*: Here, I initialize the Random Forest Classifier, train it on the scaled training data, and then make predictions on the test set. The model's performance is evaluated using accuracy and a detailed classification report, which are both displayed as output."
      ],
      "metadata": {
        "id": "rBAu9A_eIUBN"
      }
    },
    {
      "cell_type": "code",
      "execution_count": null,
      "metadata": {
        "colab": {
          "base_uri": "https://localhost:8080/"
        },
        "id": "hpbpMBm6hCpg",
        "outputId": "abd83cf5-f2e9-48f4-94c7-0c3f47f3585e"
      },
      "outputs": [
        {
          "output_type": "stream",
          "name": "stdout",
          "text": [
            "Accuracy: 0.9956401109789933\n",
            "              precision    recall  f1-score   support\n",
            "\n",
            "       Angry       1.00      1.00      1.00       395\n",
            "     Disgust       1.00      0.92      0.96        38\n",
            "        Fear       1.00      1.00      1.00        16\n",
            "       Happy       0.99      1.00      1.00       907\n",
            "     Neutral       1.00      1.00      1.00       673\n",
            "         Sad       1.00      0.98      0.99       305\n",
            "   Surprised       0.99      1.00      0.99       189\n",
            "\n",
            "    accuracy                           1.00      2523\n",
            "   macro avg       1.00      0.99      0.99      2523\n",
            "weighted avg       1.00      1.00      1.00      2523\n",
            "\n"
          ]
        }
      ],
      "source": [
        "# Initialize the Random Forest Classifier\n",
        "rf_classifier = RandomForestClassifier(n_estimators=100, random_state=42)\n",
        "\n",
        "# Train the model on the training data\n",
        "rf_classifier.fit(X_train_scaled, y_train)\n",
        "\n",
        "# Predict the target emotions on the test set\n",
        "y_pred = rf_classifier.predict(X_test_scaled)\n",
        "\n",
        "# Evaluate the model's performance\n",
        "accuracy = accuracy_score(y_test, y_pred)\n",
        "classification_rep = classification_report(y_test, y_pred)\n",
        "\n",
        "# Print the results\n",
        "print(f\"Accuracy: {accuracy}\")\n",
        "print(classification_rep)\n"
      ]
    },
    {
      "cell_type": "markdown",
      "source": [
        "*Fourthly, I am \"Visualizing Feature Importances\"*: This step involves extracting feature importances from the Random Forest model and visualizing them using a bar chart. I create a pandas series for the importances, sort them, and then plot them using Matplotlib to identify which features have the most influence on the model's predictions."
      ],
      "metadata": {
        "id": "nhqOPwOpJUrj"
      }
    },
    {
      "cell_type": "code",
      "execution_count": null,
      "metadata": {
        "colab": {
          "base_uri": "https://localhost:8080/",
          "height": 669
        },
        "id": "I7mTAtoTlKCO",
        "outputId": "6172706b-21f1-4db1-bf1c-e6ef5ede21c9"
      },
      "outputs": [
        {
          "output_type": "display_data",
          "data": {
            "text/plain": [
              "<Figure size 1000x600 with 1 Axes>"
            ],
            "image/png": "[encoded data removed]"
          },
          "metadata": {}
        }
      ],
      "source": [
        "import matplotlib.pyplot as plt\n",
        "\n",
        "# Get feature importances from the model\n",
        "feature_importances = rf_classifier.feature_importances_\n",
        "\n",
        "# Create a pandas series to visualize them\n",
        "importances = pd.Series(feature_importances, index=emotion_columns)\n",
        "\n",
        "# Sort the feature importances\n",
        "sorted_importances = importances.sort_values(ascending=False)\n",
        "\n",
        "# Plot the feature importances\n",
        "plt.figure(figsize=(10,6))\n",
        "sorted_importances.plot(kind='bar')\n",
        "plt.title('Feature Importances in Random Forest Model')\n",
        "plt.ylabel('Importance')\n",
        "plt.show()\n"
      ]
    },
    {
      "cell_type": "markdown",
      "source": [
        "\n",
        "*Fifthly, I am \"Implementing Cross-Validation\":* In this phase, I conduct K-Fold cross-validation (with K=10) using a new Random Forest Classifier. This process evaluates the model's performance across different subsets of the training data, providing a more robust measure of its accuracy. The scores for each fold and the average cross-validation score are calculated and displayed to assess the model's consistency and reliability."
      ],
      "metadata": {
        "id": "jl5GbvniJxNq"
      }
    },
    {
      "cell_type": "code",
      "execution_count": null,
      "metadata": {
        "colab": {
          "base_uri": "https://localhost:8080/"
        },
        "id": "-guocPIeltOK",
        "outputId": "5118e6d7-7f57-45e1-a865-67af70491ca7"
      },
      "outputs": [
        {
          "output_type": "stream",
          "name": "stdout",
          "text": [
            "[0.99830221 0.99490662 0.99660441 1.         0.99489796 0.99489796\n",
            " 0.99829932 1.         1.         0.99829932]\n",
            "Average CV Score: 0.997620780060751\n"
          ]
        }
      ],
      "source": [
        "from sklearn.model_selection import cross_val_score\n",
        "\n",
        "# Initialize a new Random Forest Classifier\n",
        "rf_cv_classifier = RandomForestClassifier(n_estimators=100, random_state=42)\n",
        "\n",
        "# Perform K-Fold cross-validation (let's use K=10)\n",
        "cv_scores = cross_val_score(rf_cv_classifier, X_train_scaled, y_train, cv=10)\n",
        "\n",
        "# Print the cross-validation scores for each fold\n",
        "print(cv_scores)\n",
        "\n",
        "# Print the average cross-validation score\n",
        "print(f\"Average CV Score: {cv_scores.mean()}\")\n"
      ]
    },
    {
      "cell_type": "markdown",
      "source": [
        "*Lastly, I am \"Optimizing Model Parameters with Grid Search\":* This involves using GridSearchCV to fine-tune the Random Forest Classifier's parameters, specifically the number of estimators. I define a parameter grid, perform grid search across different values within this grid, and fit it to the scaled training data. The best parameters and the best score obtained from the grid search are then displayed, which helps in identifying the most effective configuration for the model."
      ],
      "metadata": {
        "id": "SKLWYlJPKIwv"
      }
    },
    {
      "cell_type": "code",
      "execution_count": null,
      "metadata": {
        "colab": {
          "base_uri": "https://localhost:8080/"
        },
        "id": "St_rM-W7mIVd",
        "outputId": "79b1e78a-cd59-4923-b573-44f0b97cc592"
      },
      "outputs": [
        {
          "output_type": "stream",
          "name": "stdout",
          "text": [
            "Best Parameters: {'n_estimators': 100}\n",
            "Best Score: 0.997620780060751\n"
          ]
        }
      ],
      "source": [
        "from sklearn.model_selection import GridSearchCV\n",
        "\n",
        "# Define the parameter grid\n",
        "param_grid = {\n",
        "    'n_estimators': [50, 100, 150, 200]\n",
        "}\n",
        "\n",
        "# Initialize the grid search\n",
        "grid_search = GridSearchCV(estimator=rf_cv_classifier, param_grid=param_grid, cv=10)\n",
        "\n",
        "# Fit the grid search to the data\n",
        "grid_search.fit(X_train_scaled, y_train)\n",
        "\n",
        "# Print the best parameters found by grid search\n",
        "print(f\"Best Parameters: {grid_search.best_params_}\")\n",
        "\n",
        "# Print the best score found by grid search\n",
        "print(f\"Best Score: {grid_search.best_score_}\")\n"
      ]
    },
    {
      "cell_type": "code",
      "execution_count": null,
      "metadata": {
        "id": "Bg14_dgM12OB"
      },
      "outputs": [],
      "source": [
        "!pip install librosa"
      ]
    },
    {
      "cell_type": "code",
      "execution_count": null,
      "metadata": {
        "colab": {
          "base_uri": "https://localhost:8080/"
        },
        "id": "h9pokJhA755M",
        "outputId": "a766004a-017f-4037-da83-6fb9520ff456"
      },
      "outputs": [
        {
          "name": "stdout",
          "output_type": "stream",
          "text": [
            "Collecting pydub\n",
            "  Downloading pydub-0.25.1-py2.py3-none-any.whl (32 kB)\n",
            "Installing collected packages: pydub\n",
            "Successfully installed pydub-0.25.1\n"
          ]
        }
      ],
      "source": [
        "!pip install pydub"
      ]
    },
    {
      "cell_type": "code",
      "execution_count": null,
      "metadata": {
        "colab": {
          "base_uri": "https://localhost:8080/"
        },
        "id": "VZfC7vzE8EAx",
        "outputId": "07ce9abd-1a87-4842-d59f-057e18948d90"
      },
      "outputs": [
        {
          "name": "stdout",
          "output_type": "stream",
          "text": [
            "Collecting resampy\n",
            "  Downloading resampy-0.4.2-py3-none-any.whl (3.1 MB)\n",
            "\u001b[2K     \u001b[90m━━━━━━━━━━━━━━━━━━━━━━━━━━━━━━━━━━━━━━━━\u001b[0m \u001b[32m3.1/3.1 MB\u001b[0m \u001b[31m18.8 MB/s\u001b[0m eta \u001b[36m0:00:00\u001b[0m\n",
            "\u001b[?25hRequirement already satisfied: numpy>=1.17 in /usr/local/lib/python3.10/dist-packages (from resampy) (1.23.5)\n",
            "Requirement already satisfied: numba>=0.53 in /usr/local/lib/python3.10/dist-packages (from resampy) (0.58.1)\n",
            "Requirement already satisfied: llvmlite<0.42,>=0.41.0dev0 in /usr/local/lib/python3.10/dist-packages (from numba>=0.53->resampy) (0.41.1)\n",
            "Installing collected packages: resampy\n",
            "Successfully installed resampy-0.4.2\n"
          ]
        }
      ],
      "source": [
        "!pip install resampy"
      ]
    },
    {
      "cell_type": "code",
      "execution_count": null,
      "metadata": {
        "colab": {
          "base_uri": "https://localhost:8080/"
        },
        "id": "avh4e_5_9Lzu",
        "outputId": "c293e754-a78e-4aac-f340-16982cacc38d"
      },
      "outputs": [
        {
          "name": "stdout",
          "output_type": "stream",
          "text": [
            "Collecting essentia\n",
            "  Downloading essentia-2.1b6.dev1110-cp310-cp310-manylinux_2_17_x86_64.manylinux2014_x86_64.whl (13.7 MB)\n",
            "\u001b[2K     \u001b[90m━━━━━━━━━━━━━━━━━━━━━━━━━━━━━━━━━━━━━━━━\u001b[0m \u001b[32m13.7/13.7 MB\u001b[0m \u001b[31m72.0 MB/s\u001b[0m eta \u001b[36m0:00:00\u001b[0m\n",
            "\u001b[?25hRequirement already satisfied: numpy>=1.8.2 in /usr/local/lib/python3.10/dist-packages (from essentia) (1.23.5)\n",
            "Requirement already satisfied: six in /usr/local/lib/python3.10/dist-packages (from essentia) (1.16.0)\n",
            "Requirement already satisfied: pyyaml in /usr/local/lib/python3.10/dist-packages (from essentia) (6.0.1)\n",
            "Installing collected packages: essentia\n",
            "Successfully installed essentia-2.1b6.dev1110\n"
          ]
        }
      ],
      "source": [
        "!pip install essentia"
      ]
    },
    {
      "cell_type": "markdown",
      "source": [
        "**MODEL 2**"
      ],
      "metadata": {
        "id": "32hjt3u4LkqY"
      }
    },
    {
      "cell_type": "markdown",
      "source": [
        "*Environment Setup and Data Access*"
      ],
      "metadata": {
        "id": "lboS9mKgNT0d"
      }
    },
    {
      "cell_type": "code",
      "execution_count": null,
      "metadata": {
        "id": "C7P37B4gD3_6"
      },
      "outputs": [],
      "source": [
        "from google.colab import drive\n",
        "import os\n",
        "\n",
        "# Base path as seen in the picture\n",
        "base_path = '/content/drive/My Drive/Colab Notebooks/'\n",
        "\n",
        "# Path to the 'classical' folder, change 'classical' to 'electronic', 'pop', 'rock' accordingly\n",
        "path_to_folder = os.path.join(base_path, 'classical')"
      ]
    },
    {
      "cell_type": "code",
      "execution_count": null,
      "metadata": {
        "colab": {
          "base_uri": "https://localhost:8080/"
        },
        "id": "RkEtNTExH64g",
        "outputId": "277e7e1a-4a15-4ab6-9861-bbac96aee155"
      },
      "outputs": [
        {
          "output_type": "stream",
          "name": "stdout",
          "text": [
            "Found 100 MP3 files in classical folder.\n"
          ]
        }
      ],
      "source": [
        "# List all MP3 files in the 'classical' folder\n",
        "classical_files = [os.path.join(path_to_folder, file) for file in os.listdir(path_to_folder) if file.endswith('.mp3')]\n",
        "print(f'Found {len(classical_files)} MP3 files in classical folder.')\n"
      ]
    },
    {
      "cell_type": "markdown",
      "source": [
        "Organizing and Sorting Music Data*"
      ],
      "metadata": {
        "id": "qqnjEjMwNHir"
      }
    },
    {
      "cell_type": "markdown",
      "source": [
        " I am implementing a function to convert filenames into a format that will sort them numerically. The atoi() and natural_keys() functions are defined to achieve this. Then, I apply the natural_keys() function to sort the file paths of my classical music dataset in a human-readable order. This sorting is essential to ensure that the dataset is properly ordered for subsequent processing and analysis."
      ],
      "metadata": {
        "id": "j2Tg3xpXM7vS"
      }
    },
    {
      "cell_type": "code",
      "execution_count": null,
      "metadata": {
        "colab": {
          "base_uri": "https://localhost:8080/"
        },
        "id": "ObIRSGcWJiff",
        "outputId": "a915b691-cb9d-48b8-8dc7-3191b802da55"
      },
      "outputs": [
        {
          "output_type": "stream",
          "name": "stdout",
          "text": [
            "/content/drive/My Drive/Colab Notebooks/classical/1.mp3\n",
            "/content/drive/My Drive/Colab Notebooks/classical/2.mp3\n",
            "/content/drive/My Drive/Colab Notebooks/classical/3.mp3\n",
            "/content/drive/My Drive/Colab Notebooks/classical/4.mp3\n",
            "/content/drive/My Drive/Colab Notebooks/classical/5.mp3\n",
            "/content/drive/My Drive/Colab Notebooks/classical/6.mp3\n",
            "/content/drive/My Drive/Colab Notebooks/classical/7.mp3\n",
            "/content/drive/My Drive/Colab Notebooks/classical/8.mp3\n",
            "/content/drive/My Drive/Colab Notebooks/classical/9.mp3\n",
            "/content/drive/My Drive/Colab Notebooks/classical/10.mp3\n",
            "/content/drive/My Drive/Colab Notebooks/classical/11.mp3\n",
            "/content/drive/My Drive/Colab Notebooks/classical/12.mp3\n",
            "/content/drive/My Drive/Colab Notebooks/classical/13.mp3\n",
            "/content/drive/My Drive/Colab Notebooks/classical/14.mp3\n",
            "/content/drive/My Drive/Colab Notebooks/classical/15.mp3\n",
            "/content/drive/My Drive/Colab Notebooks/classical/16.mp3\n",
            "/content/drive/My Drive/Colab Notebooks/classical/17.mp3\n",
            "/content/drive/My Drive/Colab Notebooks/classical/18.mp3\n",
            "/content/drive/My Drive/Colab Notebooks/classical/19.mp3\n",
            "/content/drive/My Drive/Colab Notebooks/classical/20.mp3\n",
            "/content/drive/My Drive/Colab Notebooks/classical/21.mp3\n",
            "/content/drive/My Drive/Colab Notebooks/classical/22.mp3\n",
            "/content/drive/My Drive/Colab Notebooks/classical/23.mp3\n",
            "/content/drive/My Drive/Colab Notebooks/classical/24.mp3\n",
            "/content/drive/My Drive/Colab Notebooks/classical/25.mp3\n",
            "/content/drive/My Drive/Colab Notebooks/classical/26.mp3\n",
            "/content/drive/My Drive/Colab Notebooks/classical/27.mp3\n",
            "/content/drive/My Drive/Colab Notebooks/classical/28.mp3\n",
            "/content/drive/My Drive/Colab Notebooks/classical/29.mp3\n",
            "/content/drive/My Drive/Colab Notebooks/classical/30.mp3\n",
            "/content/drive/My Drive/Colab Notebooks/classical/31.mp3\n",
            "/content/drive/My Drive/Colab Notebooks/classical/32.mp3\n",
            "/content/drive/My Drive/Colab Notebooks/classical/33.mp3\n",
            "/content/drive/My Drive/Colab Notebooks/classical/34.mp3\n",
            "/content/drive/My Drive/Colab Notebooks/classical/35.mp3\n",
            "/content/drive/My Drive/Colab Notebooks/classical/36.mp3\n",
            "/content/drive/My Drive/Colab Notebooks/classical/37.mp3\n",
            "/content/drive/My Drive/Colab Notebooks/classical/38.mp3\n",
            "/content/drive/My Drive/Colab Notebooks/classical/39.mp3\n",
            "/content/drive/My Drive/Colab Notebooks/classical/40.mp3\n",
            "/content/drive/My Drive/Colab Notebooks/classical/41.mp3\n",
            "/content/drive/My Drive/Colab Notebooks/classical/42.mp3\n",
            "/content/drive/My Drive/Colab Notebooks/classical/43.mp3\n",
            "/content/drive/My Drive/Colab Notebooks/classical/44.mp3\n",
            "/content/drive/My Drive/Colab Notebooks/classical/45.mp3\n",
            "/content/drive/My Drive/Colab Notebooks/classical/46.mp3\n",
            "/content/drive/My Drive/Colab Notebooks/classical/47.mp3\n",
            "/content/drive/My Drive/Colab Notebooks/classical/48.mp3\n",
            "/content/drive/My Drive/Colab Notebooks/classical/49.mp3\n",
            "/content/drive/My Drive/Colab Notebooks/classical/50.mp3\n",
            "/content/drive/My Drive/Colab Notebooks/classical/51.mp3\n",
            "/content/drive/My Drive/Colab Notebooks/classical/52.mp3\n",
            "/content/drive/My Drive/Colab Notebooks/classical/53.mp3\n",
            "/content/drive/My Drive/Colab Notebooks/classical/54.mp3\n",
            "/content/drive/My Drive/Colab Notebooks/classical/55.mp3\n",
            "/content/drive/My Drive/Colab Notebooks/classical/56.mp3\n",
            "/content/drive/My Drive/Colab Notebooks/classical/57.mp3\n",
            "/content/drive/My Drive/Colab Notebooks/classical/58.mp3\n",
            "/content/drive/My Drive/Colab Notebooks/classical/59.mp3\n",
            "/content/drive/My Drive/Colab Notebooks/classical/60.mp3\n",
            "/content/drive/My Drive/Colab Notebooks/classical/61.mp3\n",
            "/content/drive/My Drive/Colab Notebooks/classical/62.mp3\n",
            "/content/drive/My Drive/Colab Notebooks/classical/63.mp3\n",
            "/content/drive/My Drive/Colab Notebooks/classical/64.mp3\n",
            "/content/drive/My Drive/Colab Notebooks/classical/65.mp3\n",
            "/content/drive/My Drive/Colab Notebooks/classical/66.mp3\n",
            "/content/drive/My Drive/Colab Notebooks/classical/67.mp3\n",
            "/content/drive/My Drive/Colab Notebooks/classical/68.mp3\n",
            "/content/drive/My Drive/Colab Notebooks/classical/69.mp3\n",
            "/content/drive/My Drive/Colab Notebooks/classical/70.mp3\n",
            "/content/drive/My Drive/Colab Notebooks/classical/71.mp3\n",
            "/content/drive/My Drive/Colab Notebooks/classical/72.mp3\n",
            "/content/drive/My Drive/Colab Notebooks/classical/73.mp3\n",
            "/content/drive/My Drive/Colab Notebooks/classical/74.mp3\n",
            "/content/drive/My Drive/Colab Notebooks/classical/75.mp3\n",
            "/content/drive/My Drive/Colab Notebooks/classical/76.mp3\n",
            "/content/drive/My Drive/Colab Notebooks/classical/77.mp3\n",
            "/content/drive/My Drive/Colab Notebooks/classical/78.mp3\n",
            "/content/drive/My Drive/Colab Notebooks/classical/79.mp3\n",
            "/content/drive/My Drive/Colab Notebooks/classical/80.mp3\n",
            "/content/drive/My Drive/Colab Notebooks/classical/81.mp3\n",
            "/content/drive/My Drive/Colab Notebooks/classical/82.mp3\n",
            "/content/drive/My Drive/Colab Notebooks/classical/83.mp3\n",
            "/content/drive/My Drive/Colab Notebooks/classical/84.mp3\n",
            "/content/drive/My Drive/Colab Notebooks/classical/85.mp3\n",
            "/content/drive/My Drive/Colab Notebooks/classical/86.mp3\n",
            "/content/drive/My Drive/Colab Notebooks/classical/87.mp3\n",
            "/content/drive/My Drive/Colab Notebooks/classical/88.mp3\n",
            "/content/drive/My Drive/Colab Notebooks/classical/89.mp3\n",
            "/content/drive/My Drive/Colab Notebooks/classical/90.mp3\n",
            "/content/drive/My Drive/Colab Notebooks/classical/91.mp3\n",
            "/content/drive/My Drive/Colab Notebooks/classical/92.mp3\n",
            "/content/drive/My Drive/Colab Notebooks/classical/93.mp3\n",
            "/content/drive/My Drive/Colab Notebooks/classical/94.mp3\n",
            "/content/drive/My Drive/Colab Notebooks/classical/95.mp3\n",
            "/content/drive/My Drive/Colab Notebooks/classical/96.mp3\n",
            "/content/drive/My Drive/Colab Notebooks/classical/97.mp3\n",
            "/content/drive/My Drive/Colab Notebooks/classical/98.mp3\n",
            "/content/drive/My Drive/Colab Notebooks/classical/99.mp3\n",
            "/content/drive/My Drive/Colab Notebooks/classical/100.mp3\n"
          ]
        }
      ],
      "source": [
        "import re\n",
        "\n",
        "# Function to convert the filenames into a form that will sort numerically\n",
        "def atoi(text):\n",
        "    return int(text) if text.isdigit() else text\n",
        "\n",
        "def natural_keys(text):\n",
        "    '''\n",
        "    alist.sort(key=natural_keys) sorts in human order\n",
        "    '''\n",
        "    return [atoi(c) for c in re.split(r'(\\d+)', text)]\n",
        "\n",
        "# Now sort the files using the natural_keys function\n",
        "classical_files.sort(key=natural_keys)\n",
        "\n",
        "# Print the sorted file paths\n",
        "for file_path in classical_files:\n",
        "    print(file_path)\n"
      ]
    },
    {
      "cell_type": "markdown",
      "source": [
        "*Thirdly, I am  \"Loading Audio Data,\" I am using the librosa library to load the audio data from the sorted file paths of my classical music dataset*"
      ],
      "metadata": {
        "id": "N5_gFsh_N6ob"
      }
    },
    {
      "cell_type": "code",
      "execution_count": null,
      "metadata": {
        "id": "9GmMikvUH5cE"
      },
      "outputs": [],
      "source": [
        "import librosa\n",
        "\n",
        "# Initialize a list to hold the audio data and sample rates\n",
        "audio_data = []\n",
        "\n",
        "# Loop through the sorted file paths and load each one\n",
        "for file_path in classical_files:\n",
        "    try:\n",
        "        # Load the audio file\n",
        "        audio, sr = librosa.load(file_path, sr=None)\n",
        "        # Append the audio data and sample rate to your list\n",
        "        audio_data.append((audio, sr))\n",
        "    except Exception as e:\n",
        "        # If there's an error loading a file, print the error message\n",
        "        print(f\"Could not load file {file_path}: {e}\")\n",
        "\n",
        "# Now you have your audio_data list populated with the audio and sample rates\n"
      ]
    },
    {
      "cell_type": "markdown",
      "source": [
        "* Below, I applied the same data loading and preprocessing steps to the music genres, Rock, Pop, and Electronic*"
      ],
      "metadata": {
        "id": "xIetXNu5Ok3v"
      }
    },
    {
      "cell_type": "code",
      "execution_count": null,
      "metadata": {
        "id": "8M5eQ8T1MgBx"
      },
      "outputs": [],
      "source": [
        "import os\n",
        "\n",
        "# Base path as seen in the picture\n",
        "base_path = '/content/drive/My Drive/Colab Notebooks'\n",
        "\n",
        "# Path to the 'electronic' folder\n",
        "path_to_electronic = os.path.join(base_path, 'electronic')\n"
      ]
    },
    {
      "cell_type": "code",
      "execution_count": null,
      "metadata": {
        "colab": {
          "base_uri": "https://localhost:8080/"
        },
        "id": "7VYSUj8mMiF4",
        "outputId": "55b3e1dc-3861-4f1f-e5a9-3d4f7c70afb3"
      },
      "outputs": [
        {
          "output_type": "stream",
          "name": "stdout",
          "text": [
            "/content/drive/My Drive/Colab Notebooks/electronic/1.mp3\n",
            "/content/drive/My Drive/Colab Notebooks/electronic/2.mp3\n",
            "/content/drive/My Drive/Colab Notebooks/electronic/3.mp3\n",
            "/content/drive/My Drive/Colab Notebooks/electronic/4.mp3\n",
            "/content/drive/My Drive/Colab Notebooks/electronic/5.mp3\n",
            "/content/drive/My Drive/Colab Notebooks/electronic/6.mp3\n",
            "/content/drive/My Drive/Colab Notebooks/electronic/7.mp3\n",
            "/content/drive/My Drive/Colab Notebooks/electronic/8.mp3\n",
            "/content/drive/My Drive/Colab Notebooks/electronic/9.mp3\n",
            "/content/drive/My Drive/Colab Notebooks/electronic/10.mp3\n",
            "/content/drive/My Drive/Colab Notebooks/electronic/11.mp3\n",
            "/content/drive/My Drive/Colab Notebooks/electronic/12.mp3\n",
            "/content/drive/My Drive/Colab Notebooks/electronic/13.mp3\n",
            "/content/drive/My Drive/Colab Notebooks/electronic/14.mp3\n",
            "/content/drive/My Drive/Colab Notebooks/electronic/15.mp3\n",
            "/content/drive/My Drive/Colab Notebooks/electronic/16.mp3\n",
            "/content/drive/My Drive/Colab Notebooks/electronic/17.mp3\n",
            "/content/drive/My Drive/Colab Notebooks/electronic/18.mp3\n",
            "/content/drive/My Drive/Colab Notebooks/electronic/19.mp3\n",
            "/content/drive/My Drive/Colab Notebooks/electronic/20.mp3\n",
            "/content/drive/My Drive/Colab Notebooks/electronic/21.mp3\n",
            "/content/drive/My Drive/Colab Notebooks/electronic/22.mp3\n",
            "/content/drive/My Drive/Colab Notebooks/electronic/23.mp3\n",
            "/content/drive/My Drive/Colab Notebooks/electronic/24.mp3\n",
            "/content/drive/My Drive/Colab Notebooks/electronic/25.mp3\n",
            "/content/drive/My Drive/Colab Notebooks/electronic/26.mp3\n",
            "/content/drive/My Drive/Colab Notebooks/electronic/27.mp3\n",
            "/content/drive/My Drive/Colab Notebooks/electronic/28.mp3\n",
            "/content/drive/My Drive/Colab Notebooks/electronic/29.mp3\n",
            "/content/drive/My Drive/Colab Notebooks/electronic/30.mp3\n",
            "/content/drive/My Drive/Colab Notebooks/electronic/31.mp3\n",
            "/content/drive/My Drive/Colab Notebooks/electronic/32.mp3\n",
            "/content/drive/My Drive/Colab Notebooks/electronic/33.mp3\n",
            "/content/drive/My Drive/Colab Notebooks/electronic/34.mp3\n",
            "/content/drive/My Drive/Colab Notebooks/electronic/35.mp3\n",
            "/content/drive/My Drive/Colab Notebooks/electronic/36.mp3\n",
            "/content/drive/My Drive/Colab Notebooks/electronic/37.mp3\n",
            "/content/drive/My Drive/Colab Notebooks/electronic/38.mp3\n",
            "/content/drive/My Drive/Colab Notebooks/electronic/39.mp3\n",
            "/content/drive/My Drive/Colab Notebooks/electronic/40.mp3\n",
            "/content/drive/My Drive/Colab Notebooks/electronic/41.mp3\n",
            "/content/drive/My Drive/Colab Notebooks/electronic/42.mp3\n",
            "/content/drive/My Drive/Colab Notebooks/electronic/43.mp3\n",
            "/content/drive/My Drive/Colab Notebooks/electronic/44.mp3\n",
            "/content/drive/My Drive/Colab Notebooks/electronic/45.mp3\n",
            "/content/drive/My Drive/Colab Notebooks/electronic/46.mp3\n",
            "/content/drive/My Drive/Colab Notebooks/electronic/47.mp3\n",
            "/content/drive/My Drive/Colab Notebooks/electronic/48.mp3\n",
            "/content/drive/My Drive/Colab Notebooks/electronic/49.mp3\n",
            "/content/drive/My Drive/Colab Notebooks/electronic/50.mp3\n",
            "/content/drive/My Drive/Colab Notebooks/electronic/51.mp3\n",
            "/content/drive/My Drive/Colab Notebooks/electronic/52.mp3\n",
            "/content/drive/My Drive/Colab Notebooks/electronic/53.mp3\n",
            "/content/drive/My Drive/Colab Notebooks/electronic/54.mp3\n",
            "/content/drive/My Drive/Colab Notebooks/electronic/55.mp3\n",
            "/content/drive/My Drive/Colab Notebooks/electronic/56.mp3\n",
            "/content/drive/My Drive/Colab Notebooks/electronic/57.mp3\n",
            "/content/drive/My Drive/Colab Notebooks/electronic/58.mp3\n",
            "/content/drive/My Drive/Colab Notebooks/electronic/59.mp3\n",
            "/content/drive/My Drive/Colab Notebooks/electronic/60.mp3\n",
            "/content/drive/My Drive/Colab Notebooks/electronic/61.mp3\n",
            "/content/drive/My Drive/Colab Notebooks/electronic/62.mp3\n",
            "/content/drive/My Drive/Colab Notebooks/electronic/63.mp3\n",
            "/content/drive/My Drive/Colab Notebooks/electronic/64.mp3\n",
            "/content/drive/My Drive/Colab Notebooks/electronic/65.mp3\n",
            "/content/drive/My Drive/Colab Notebooks/electronic/66.mp3\n",
            "/content/drive/My Drive/Colab Notebooks/electronic/67.mp3\n",
            "/content/drive/My Drive/Colab Notebooks/electronic/68.mp3\n",
            "/content/drive/My Drive/Colab Notebooks/electronic/69.mp3\n",
            "/content/drive/My Drive/Colab Notebooks/electronic/70.mp3\n",
            "/content/drive/My Drive/Colab Notebooks/electronic/71.mp3\n",
            "/content/drive/My Drive/Colab Notebooks/electronic/72.mp3\n",
            "/content/drive/My Drive/Colab Notebooks/electronic/73.mp3\n",
            "/content/drive/My Drive/Colab Notebooks/electronic/74.mp3\n",
            "/content/drive/My Drive/Colab Notebooks/electronic/75.mp3\n",
            "/content/drive/My Drive/Colab Notebooks/electronic/76.mp3\n",
            "/content/drive/My Drive/Colab Notebooks/electronic/77.mp3\n",
            "/content/drive/My Drive/Colab Notebooks/electronic/78.mp3\n",
            "/content/drive/My Drive/Colab Notebooks/electronic/79.mp3\n",
            "/content/drive/My Drive/Colab Notebooks/electronic/80.mp3\n",
            "/content/drive/My Drive/Colab Notebooks/electronic/81.mp3\n",
            "/content/drive/My Drive/Colab Notebooks/electronic/82.mp3\n",
            "/content/drive/My Drive/Colab Notebooks/electronic/83.mp3\n",
            "/content/drive/My Drive/Colab Notebooks/electronic/84.mp3\n",
            "/content/drive/My Drive/Colab Notebooks/electronic/85.mp3\n",
            "/content/drive/My Drive/Colab Notebooks/electronic/86.mp3\n",
            "/content/drive/My Drive/Colab Notebooks/electronic/87.mp3\n",
            "/content/drive/My Drive/Colab Notebooks/electronic/88.mp3\n",
            "/content/drive/My Drive/Colab Notebooks/electronic/89.mp3\n",
            "/content/drive/My Drive/Colab Notebooks/electronic/90.mp3\n",
            "/content/drive/My Drive/Colab Notebooks/electronic/91.mp3\n",
            "/content/drive/My Drive/Colab Notebooks/electronic/92.mp3\n",
            "/content/drive/My Drive/Colab Notebooks/electronic/93.mp3\n",
            "/content/drive/My Drive/Colab Notebooks/electronic/94.mp3\n",
            "/content/drive/My Drive/Colab Notebooks/electronic/95.mp3\n",
            "/content/drive/My Drive/Colab Notebooks/electronic/96.mp3\n",
            "/content/drive/My Drive/Colab Notebooks/electronic/97.mp3\n",
            "/content/drive/My Drive/Colab Notebooks/electronic/98.mp3\n",
            "/content/drive/My Drive/Colab Notebooks/electronic/99.mp3\n",
            "/content/drive/My Drive/Colab Notebooks/electronic/100.mp3\n"
          ]
        }
      ],
      "source": [
        "import os\n",
        "import re\n",
        "\n",
        "# Function to sort the files in human order\n",
        "def atoi(text):\n",
        "    return int(text) if text.isdigit() else text\n",
        "\n",
        "def natural_keys(text):\n",
        "    return [atoi(c) for c in re.split(r'(\\d+)', text)]\n",
        "\n",
        "# Base path as seen in the picture\n",
        "base_path = '/content/drive/My Drive/Colab Notebooks'\n",
        "\n",
        "# Path to the 'electronic' folder\n",
        "path_to_electronic = os.path.join(base_path, 'electronic')\n",
        "\n",
        "# List all MP3 files in the 'electronic' folder, excluding duplicates\n",
        "electronic_files = [os.path.join(path_to_electronic, file) for file in os.listdir(path_to_electronic) if file.endswith('.mp3') and \"(1)\" not in file]\n",
        "electronic_files.sort(key=natural_keys)\n",
        "\n",
        "# Print the sorted file paths (optional)\n",
        "for file_path in electronic_files:\n",
        "    print(file_path)\n",
        "\n"
      ]
    },
    {
      "cell_type": "code",
      "execution_count": null,
      "metadata": {
        "colab": {
          "base_uri": "https://localhost:8080/"
        },
        "id": "gNUVuzMNM39t",
        "outputId": "9e9dc421-4646-401c-b1b3-44c66e27b0e4"
      },
      "outputs": [
        {
          "output_type": "stream",
          "name": "stdout",
          "text": [
            "Loaded file: /content/drive/My Drive/Colab Notebooks/electronic/1.mp3\n",
            "Loaded file: /content/drive/My Drive/Colab Notebooks/electronic/2.mp3\n",
            "Loaded file: /content/drive/My Drive/Colab Notebooks/electronic/3.mp3\n",
            "Loaded file: /content/drive/My Drive/Colab Notebooks/electronic/4.mp3\n",
            "Loaded file: /content/drive/My Drive/Colab Notebooks/electronic/5.mp3\n",
            "Loaded file: /content/drive/My Drive/Colab Notebooks/electronic/6.mp3\n",
            "Loaded file: /content/drive/My Drive/Colab Notebooks/electronic/7.mp3\n",
            "Loaded file: /content/drive/My Drive/Colab Notebooks/electronic/8.mp3\n",
            "Loaded file: /content/drive/My Drive/Colab Notebooks/electronic/9.mp3\n",
            "Loaded file: /content/drive/My Drive/Colab Notebooks/electronic/10.mp3\n",
            "Loaded file: /content/drive/My Drive/Colab Notebooks/electronic/11.mp3\n",
            "Loaded file: /content/drive/My Drive/Colab Notebooks/electronic/12.mp3\n",
            "Loaded file: /content/drive/My Drive/Colab Notebooks/electronic/13.mp3\n",
            "Loaded file: /content/drive/My Drive/Colab Notebooks/electronic/14.mp3\n",
            "Loaded file: /content/drive/My Drive/Colab Notebooks/electronic/15.mp3\n",
            "Loaded file: /content/drive/My Drive/Colab Notebooks/electronic/16.mp3\n",
            "Loaded file: /content/drive/My Drive/Colab Notebooks/electronic/17.mp3\n",
            "Loaded file: /content/drive/My Drive/Colab Notebooks/electronic/18.mp3\n",
            "Loaded file: /content/drive/My Drive/Colab Notebooks/electronic/19.mp3\n",
            "Loaded file: /content/drive/My Drive/Colab Notebooks/electronic/20.mp3\n",
            "Loaded file: /content/drive/My Drive/Colab Notebooks/electronic/21.mp3\n",
            "Loaded file: /content/drive/My Drive/Colab Notebooks/electronic/22.mp3\n",
            "Loaded file: /content/drive/My Drive/Colab Notebooks/electronic/23.mp3\n",
            "Loaded file: /content/drive/My Drive/Colab Notebooks/electronic/24.mp3\n",
            "Loaded file: /content/drive/My Drive/Colab Notebooks/electronic/25.mp3\n",
            "Loaded file: /content/drive/My Drive/Colab Notebooks/electronic/26.mp3\n",
            "Loaded file: /content/drive/My Drive/Colab Notebooks/electronic/27.mp3\n",
            "Loaded file: /content/drive/My Drive/Colab Notebooks/electronic/28.mp3\n",
            "Loaded file: /content/drive/My Drive/Colab Notebooks/electronic/29.mp3\n",
            "Loaded file: /content/drive/My Drive/Colab Notebooks/electronic/30.mp3\n",
            "Loaded file: /content/drive/My Drive/Colab Notebooks/electronic/31.mp3\n",
            "Loaded file: /content/drive/My Drive/Colab Notebooks/electronic/32.mp3\n",
            "Loaded file: /content/drive/My Drive/Colab Notebooks/electronic/33.mp3\n",
            "Loaded file: /content/drive/My Drive/Colab Notebooks/electronic/34.mp3\n",
            "Loaded file: /content/drive/My Drive/Colab Notebooks/electronic/35.mp3\n",
            "Loaded file: /content/drive/My Drive/Colab Notebooks/electronic/36.mp3\n",
            "Loaded file: /content/drive/My Drive/Colab Notebooks/electronic/37.mp3\n",
            "Loaded file: /content/drive/My Drive/Colab Notebooks/electronic/38.mp3\n",
            "Loaded file: /content/drive/My Drive/Colab Notebooks/electronic/39.mp3\n",
            "Loaded file: /content/drive/My Drive/Colab Notebooks/electronic/40.mp3\n",
            "Loaded file: /content/drive/My Drive/Colab Notebooks/electronic/41.mp3\n",
            "Loaded file: /content/drive/My Drive/Colab Notebooks/electronic/42.mp3\n",
            "Loaded file: /content/drive/My Drive/Colab Notebooks/electronic/43.mp3\n",
            "Loaded file: /content/drive/My Drive/Colab Notebooks/electronic/44.mp3\n",
            "Loaded file: /content/drive/My Drive/Colab Notebooks/electronic/45.mp3\n",
            "Loaded file: /content/drive/My Drive/Colab Notebooks/electronic/46.mp3\n",
            "Loaded file: /content/drive/My Drive/Colab Notebooks/electronic/47.mp3\n",
            "Loaded file: /content/drive/My Drive/Colab Notebooks/electronic/48.mp3\n",
            "Loaded file: /content/drive/My Drive/Colab Notebooks/electronic/49.mp3\n",
            "Loaded file: /content/drive/My Drive/Colab Notebooks/electronic/50.mp3\n",
            "Loaded file: /content/drive/My Drive/Colab Notebooks/electronic/51.mp3\n",
            "Loaded file: /content/drive/My Drive/Colab Notebooks/electronic/52.mp3\n",
            "Loaded file: /content/drive/My Drive/Colab Notebooks/electronic/53.mp3\n",
            "Loaded file: /content/drive/My Drive/Colab Notebooks/electronic/54.mp3\n",
            "Loaded file: /content/drive/My Drive/Colab Notebooks/electronic/55.mp3\n",
            "Loaded file: /content/drive/My Drive/Colab Notebooks/electronic/56.mp3\n",
            "Loaded file: /content/drive/My Drive/Colab Notebooks/electronic/57.mp3\n",
            "Loaded file: /content/drive/My Drive/Colab Notebooks/electronic/58.mp3\n",
            "Loaded file: /content/drive/My Drive/Colab Notebooks/electronic/59.mp3\n",
            "Loaded file: /content/drive/My Drive/Colab Notebooks/electronic/60.mp3\n",
            "Loaded file: /content/drive/My Drive/Colab Notebooks/electronic/61.mp3\n",
            "Loaded file: /content/drive/My Drive/Colab Notebooks/electronic/62.mp3\n",
            "Loaded file: /content/drive/My Drive/Colab Notebooks/electronic/63.mp3\n",
            "Loaded file: /content/drive/My Drive/Colab Notebooks/electronic/64.mp3\n",
            "Loaded file: /content/drive/My Drive/Colab Notebooks/electronic/65.mp3\n",
            "Loaded file: /content/drive/My Drive/Colab Notebooks/electronic/66.mp3\n",
            "Loaded file: /content/drive/My Drive/Colab Notebooks/electronic/67.mp3\n",
            "Loaded file: /content/drive/My Drive/Colab Notebooks/electronic/68.mp3\n",
            "Loaded file: /content/drive/My Drive/Colab Notebooks/electronic/69.mp3\n",
            "Loaded file: /content/drive/My Drive/Colab Notebooks/electronic/70.mp3\n",
            "Loaded file: /content/drive/My Drive/Colab Notebooks/electronic/71.mp3\n",
            "Loaded file: /content/drive/My Drive/Colab Notebooks/electronic/72.mp3\n",
            "Loaded file: /content/drive/My Drive/Colab Notebooks/electronic/73.mp3\n",
            "Loaded file: /content/drive/My Drive/Colab Notebooks/electronic/74.mp3\n",
            "Loaded file: /content/drive/My Drive/Colab Notebooks/electronic/75.mp3\n",
            "Loaded file: /content/drive/My Drive/Colab Notebooks/electronic/76.mp3\n",
            "Loaded file: /content/drive/My Drive/Colab Notebooks/electronic/77.mp3\n",
            "Loaded file: /content/drive/My Drive/Colab Notebooks/electronic/78.mp3\n",
            "Loaded file: /content/drive/My Drive/Colab Notebooks/electronic/79.mp3\n",
            "Loaded file: /content/drive/My Drive/Colab Notebooks/electronic/80.mp3\n",
            "Loaded file: /content/drive/My Drive/Colab Notebooks/electronic/81.mp3\n",
            "Loaded file: /content/drive/My Drive/Colab Notebooks/electronic/82.mp3\n",
            "Loaded file: /content/drive/My Drive/Colab Notebooks/electronic/83.mp3\n",
            "Loaded file: /content/drive/My Drive/Colab Notebooks/electronic/84.mp3\n",
            "Loaded file: /content/drive/My Drive/Colab Notebooks/electronic/85.mp3\n",
            "Loaded file: /content/drive/My Drive/Colab Notebooks/electronic/86.mp3\n",
            "Loaded file: /content/drive/My Drive/Colab Notebooks/electronic/87.mp3\n",
            "Loaded file: /content/drive/My Drive/Colab Notebooks/electronic/88.mp3\n",
            "Loaded file: /content/drive/My Drive/Colab Notebooks/electronic/89.mp3\n",
            "Loaded file: /content/drive/My Drive/Colab Notebooks/electronic/90.mp3\n",
            "Loaded file: /content/drive/My Drive/Colab Notebooks/electronic/91.mp3\n",
            "Loaded file: /content/drive/My Drive/Colab Notebooks/electronic/92.mp3\n",
            "Loaded file: /content/drive/My Drive/Colab Notebooks/electronic/93.mp3\n",
            "Loaded file: /content/drive/My Drive/Colab Notebooks/electronic/94.mp3\n",
            "Loaded file: /content/drive/My Drive/Colab Notebooks/electronic/95.mp3\n",
            "Loaded file: /content/drive/My Drive/Colab Notebooks/electronic/96.mp3\n",
            "Loaded file: /content/drive/My Drive/Colab Notebooks/electronic/97.mp3\n",
            "Loaded file: /content/drive/My Drive/Colab Notebooks/electronic/98.mp3\n",
            "Loaded file: /content/drive/My Drive/Colab Notebooks/electronic/99.mp3\n",
            "Loaded file: /content/drive/My Drive/Colab Notebooks/electronic/100.mp3\n",
            "Loaded 100 audio files into memory.\n"
          ]
        }
      ],
      "source": [
        "import librosa\n",
        "\n",
        "# Initialize a list to hold your audio data and sample rates\n",
        "audio_data_electronic = []\n",
        "\n",
        "# Loop through the sorted file paths and load each one\n",
        "for file_path in electronic_files:\n",
        "    try:\n",
        "        # Load the audio file\n",
        "        audio, sr = librosa.load(file_path, sr=None)\n",
        "        # Append the audio data and sample rate to your list\n",
        "        audio_data_electronic.append((audio, sr))\n",
        "        # Print a message after each successful load (optional)\n",
        "        print(f\"Loaded file: {file_path}\")\n",
        "    except Exception as e:\n",
        "        # Print out which file caused an exception and the exception message\n",
        "        print(f\"Could not load file {file_path}: {e}\")\n",
        "\n",
        "# Check if the expected number of files are loaded\n",
        "expected_file_count = 100\n",
        "if len(audio_data_electronic) == expected_file_count:\n",
        "    print(f\"Loaded {expected_file_count} audio files into memory.\")\n",
        "else:\n",
        "    print(f\"Loaded {len(audio_data_electronic)} audio files into memory. Some files may not have been loaded correctly.\")\n"
      ]
    },
    {
      "cell_type": "code",
      "execution_count": null,
      "metadata": {
        "id": "kBfFcfUHPm0-"
      },
      "outputs": [],
      "source": [
        "import os\n",
        "\n",
        "# Base path as seen in the picture\n",
        "base_path = '/content/drive/My Drive/Colab Notebooks'\n",
        "\n",
        "# Path to the 'pop' folder\n",
        "path_to_pop = os.path.join(base_path, 'pop')\n"
      ]
    },
    {
      "cell_type": "code",
      "execution_count": null,
      "metadata": {
        "colab": {
          "base_uri": "https://localhost:8080/"
        },
        "id": "pa1MpqF7QAL_",
        "outputId": "63a6a860-69d5-490e-dda0-8cf9af9a1f61"
      },
      "outputs": [
        {
          "output_type": "stream",
          "name": "stdout",
          "text": [
            "/content/drive/My Drive/Colab Notebooks/pop/1.mp3\n",
            "/content/drive/My Drive/Colab Notebooks/pop/2.mp3\n",
            "/content/drive/My Drive/Colab Notebooks/pop/3.mp3\n",
            "/content/drive/My Drive/Colab Notebooks/pop/4.mp3\n",
            "/content/drive/My Drive/Colab Notebooks/pop/5.mp3\n",
            "/content/drive/My Drive/Colab Notebooks/pop/6.mp3\n",
            "/content/drive/My Drive/Colab Notebooks/pop/7.mp3\n",
            "/content/drive/My Drive/Colab Notebooks/pop/8.mp3\n",
            "/content/drive/My Drive/Colab Notebooks/pop/9.mp3\n",
            "/content/drive/My Drive/Colab Notebooks/pop/10.mp3\n",
            "/content/drive/My Drive/Colab Notebooks/pop/11.mp3\n",
            "/content/drive/My Drive/Colab Notebooks/pop/12.mp3\n",
            "/content/drive/My Drive/Colab Notebooks/pop/13.mp3\n",
            "/content/drive/My Drive/Colab Notebooks/pop/14.mp3\n",
            "/content/drive/My Drive/Colab Notebooks/pop/15.mp3\n",
            "/content/drive/My Drive/Colab Notebooks/pop/16.mp3\n",
            "/content/drive/My Drive/Colab Notebooks/pop/17.mp3\n",
            "/content/drive/My Drive/Colab Notebooks/pop/18.mp3\n",
            "/content/drive/My Drive/Colab Notebooks/pop/19.mp3\n",
            "/content/drive/My Drive/Colab Notebooks/pop/20.mp3\n",
            "/content/drive/My Drive/Colab Notebooks/pop/21.mp3\n",
            "/content/drive/My Drive/Colab Notebooks/pop/22.mp3\n",
            "/content/drive/My Drive/Colab Notebooks/pop/23.mp3\n",
            "/content/drive/My Drive/Colab Notebooks/pop/24.mp3\n",
            "/content/drive/My Drive/Colab Notebooks/pop/25.mp3\n",
            "/content/drive/My Drive/Colab Notebooks/pop/26.mp3\n",
            "/content/drive/My Drive/Colab Notebooks/pop/27.mp3\n",
            "/content/drive/My Drive/Colab Notebooks/pop/28.mp3\n",
            "/content/drive/My Drive/Colab Notebooks/pop/29.mp3\n",
            "/content/drive/My Drive/Colab Notebooks/pop/30.mp3\n",
            "/content/drive/My Drive/Colab Notebooks/pop/31.mp3\n",
            "/content/drive/My Drive/Colab Notebooks/pop/32.mp3\n",
            "/content/drive/My Drive/Colab Notebooks/pop/33.mp3\n",
            "/content/drive/My Drive/Colab Notebooks/pop/34.mp3\n",
            "/content/drive/My Drive/Colab Notebooks/pop/35.mp3\n",
            "/content/drive/My Drive/Colab Notebooks/pop/36.mp3\n",
            "/content/drive/My Drive/Colab Notebooks/pop/37.mp3\n",
            "/content/drive/My Drive/Colab Notebooks/pop/38.mp3\n",
            "/content/drive/My Drive/Colab Notebooks/pop/39.mp3\n",
            "/content/drive/My Drive/Colab Notebooks/pop/40.mp3\n",
            "/content/drive/My Drive/Colab Notebooks/pop/41.mp3\n",
            "/content/drive/My Drive/Colab Notebooks/pop/42.mp3\n",
            "/content/drive/My Drive/Colab Notebooks/pop/43.mp3\n",
            "/content/drive/My Drive/Colab Notebooks/pop/44.mp3\n",
            "/content/drive/My Drive/Colab Notebooks/pop/45.mp3\n",
            "/content/drive/My Drive/Colab Notebooks/pop/46.mp3\n",
            "/content/drive/My Drive/Colab Notebooks/pop/47.mp3\n",
            "/content/drive/My Drive/Colab Notebooks/pop/48.mp3\n",
            "/content/drive/My Drive/Colab Notebooks/pop/49.mp3\n",
            "/content/drive/My Drive/Colab Notebooks/pop/50.mp3\n",
            "/content/drive/My Drive/Colab Notebooks/pop/51.mp3\n",
            "/content/drive/My Drive/Colab Notebooks/pop/52.mp3\n",
            "/content/drive/My Drive/Colab Notebooks/pop/53.mp3\n",
            "/content/drive/My Drive/Colab Notebooks/pop/54.mp3\n",
            "/content/drive/My Drive/Colab Notebooks/pop/55.mp3\n",
            "/content/drive/My Drive/Colab Notebooks/pop/56.mp3\n",
            "/content/drive/My Drive/Colab Notebooks/pop/57.mp3\n",
            "/content/drive/My Drive/Colab Notebooks/pop/58.mp3\n",
            "/content/drive/My Drive/Colab Notebooks/pop/59.mp3\n",
            "/content/drive/My Drive/Colab Notebooks/pop/60.mp3\n",
            "/content/drive/My Drive/Colab Notebooks/pop/61.mp3\n",
            "/content/drive/My Drive/Colab Notebooks/pop/62.mp3\n",
            "/content/drive/My Drive/Colab Notebooks/pop/63.mp3\n",
            "/content/drive/My Drive/Colab Notebooks/pop/64.mp3\n",
            "/content/drive/My Drive/Colab Notebooks/pop/65.mp3\n",
            "/content/drive/My Drive/Colab Notebooks/pop/66.mp3\n",
            "/content/drive/My Drive/Colab Notebooks/pop/67.mp3\n",
            "/content/drive/My Drive/Colab Notebooks/pop/68.mp3\n",
            "/content/drive/My Drive/Colab Notebooks/pop/69.mp3\n",
            "/content/drive/My Drive/Colab Notebooks/pop/70.mp3\n",
            "/content/drive/My Drive/Colab Notebooks/pop/71.mp3\n",
            "/content/drive/My Drive/Colab Notebooks/pop/72.mp3\n",
            "/content/drive/My Drive/Colab Notebooks/pop/73.mp3\n",
            "/content/drive/My Drive/Colab Notebooks/pop/74.mp3\n",
            "/content/drive/My Drive/Colab Notebooks/pop/75.mp3\n",
            "/content/drive/My Drive/Colab Notebooks/pop/76.mp3\n",
            "/content/drive/My Drive/Colab Notebooks/pop/77.mp3\n",
            "/content/drive/My Drive/Colab Notebooks/pop/78.mp3\n",
            "/content/drive/My Drive/Colab Notebooks/pop/79.mp3\n",
            "/content/drive/My Drive/Colab Notebooks/pop/80.mp3\n",
            "/content/drive/My Drive/Colab Notebooks/pop/81.mp3\n",
            "/content/drive/My Drive/Colab Notebooks/pop/82.mp3\n",
            "/content/drive/My Drive/Colab Notebooks/pop/83.mp3\n",
            "/content/drive/My Drive/Colab Notebooks/pop/84.mp3\n",
            "/content/drive/My Drive/Colab Notebooks/pop/85.mp3\n",
            "/content/drive/My Drive/Colab Notebooks/pop/86.mp3\n",
            "/content/drive/My Drive/Colab Notebooks/pop/87.mp3\n",
            "/content/drive/My Drive/Colab Notebooks/pop/88.mp3\n",
            "/content/drive/My Drive/Colab Notebooks/pop/89.mp3\n",
            "/content/drive/My Drive/Colab Notebooks/pop/90.mp3\n",
            "/content/drive/My Drive/Colab Notebooks/pop/91.mp3\n",
            "/content/drive/My Drive/Colab Notebooks/pop/92.mp3\n",
            "/content/drive/My Drive/Colab Notebooks/pop/93.mp3\n",
            "/content/drive/My Drive/Colab Notebooks/pop/94.mp3\n",
            "/content/drive/My Drive/Colab Notebooks/pop/95.mp3\n",
            "/content/drive/My Drive/Colab Notebooks/pop/96.mp3\n",
            "/content/drive/My Drive/Colab Notebooks/pop/97.mp3\n",
            "/content/drive/My Drive/Colab Notebooks/pop/98.mp3\n",
            "/content/drive/My Drive/Colab Notebooks/pop/99.mp3\n",
            "/content/drive/My Drive/Colab Notebooks/pop/100.mp3\n"
          ]
        }
      ],
      "source": [
        "import re\n",
        "\n",
        "# Function to sort the files in human order\n",
        "def atoi(text):\n",
        "    return int(text) if text.isdigit() else text\n",
        "\n",
        "def natural_keys(text):\n",
        "    return [atoi(c) for c in re.split(r'(\\d+)', text)]\n",
        "\n",
        "# List all MP3 files in the 'pop' folder\n",
        "pop_files = [os.path.join(path_to_pop, file) for file in os.listdir(path_to_pop) if file.endswith('.mp3')]\n",
        "pop_files.sort(key=natural_keys)\n",
        "\n",
        "# Print the sorted file paths (optional)\n",
        "for file_path in pop_files:\n",
        "    print(file_path)\n"
      ]
    },
    {
      "cell_type": "code",
      "execution_count": null,
      "metadata": {
        "colab": {
          "base_uri": "https://localhost:8080/"
        },
        "id": "DkvlJQrlQIPo",
        "outputId": "d3a07561-6975-457c-de5c-821ecca0dd06"
      },
      "outputs": [
        {
          "output_type": "stream",
          "name": "stdout",
          "text": [
            "Loaded file: /content/drive/My Drive/Colab Notebooks/pop/1.mp3\n",
            "Loaded file: /content/drive/My Drive/Colab Notebooks/pop/2.mp3\n",
            "Loaded file: /content/drive/My Drive/Colab Notebooks/pop/3.mp3\n",
            "Loaded file: /content/drive/My Drive/Colab Notebooks/pop/4.mp3\n",
            "Loaded file: /content/drive/My Drive/Colab Notebooks/pop/5.mp3\n",
            "Loaded file: /content/drive/My Drive/Colab Notebooks/pop/6.mp3\n",
            "Loaded file: /content/drive/My Drive/Colab Notebooks/pop/7.mp3\n",
            "Loaded file: /content/drive/My Drive/Colab Notebooks/pop/8.mp3\n",
            "Loaded file: /content/drive/My Drive/Colab Notebooks/pop/9.mp3\n",
            "Loaded file: /content/drive/My Drive/Colab Notebooks/pop/10.mp3\n",
            "Loaded file: /content/drive/My Drive/Colab Notebooks/pop/11.mp3\n",
            "Loaded file: /content/drive/My Drive/Colab Notebooks/pop/12.mp3\n",
            "Loaded file: /content/drive/My Drive/Colab Notebooks/pop/13.mp3\n",
            "Loaded file: /content/drive/My Drive/Colab Notebooks/pop/14.mp3\n",
            "Loaded file: /content/drive/My Drive/Colab Notebooks/pop/15.mp3\n",
            "Loaded file: /content/drive/My Drive/Colab Notebooks/pop/16.mp3\n",
            "Loaded file: /content/drive/My Drive/Colab Notebooks/pop/17.mp3\n",
            "Loaded file: /content/drive/My Drive/Colab Notebooks/pop/18.mp3\n",
            "Loaded file: /content/drive/My Drive/Colab Notebooks/pop/19.mp3\n",
            "Loaded file: /content/drive/My Drive/Colab Notebooks/pop/20.mp3\n",
            "Loaded file: /content/drive/My Drive/Colab Notebooks/pop/21.mp3\n",
            "Loaded file: /content/drive/My Drive/Colab Notebooks/pop/22.mp3\n",
            "Loaded file: /content/drive/My Drive/Colab Notebooks/pop/23.mp3\n",
            "Loaded file: /content/drive/My Drive/Colab Notebooks/pop/24.mp3\n",
            "Loaded file: /content/drive/My Drive/Colab Notebooks/pop/25.mp3\n",
            "Loaded file: /content/drive/My Drive/Colab Notebooks/pop/26.mp3\n",
            "Loaded file: /content/drive/My Drive/Colab Notebooks/pop/27.mp3\n",
            "Loaded file: /content/drive/My Drive/Colab Notebooks/pop/28.mp3\n",
            "Loaded file: /content/drive/My Drive/Colab Notebooks/pop/29.mp3\n",
            "Loaded file: /content/drive/My Drive/Colab Notebooks/pop/30.mp3\n",
            "Loaded file: /content/drive/My Drive/Colab Notebooks/pop/31.mp3\n",
            "Loaded file: /content/drive/My Drive/Colab Notebooks/pop/32.mp3\n",
            "Loaded file: /content/drive/My Drive/Colab Notebooks/pop/33.mp3\n",
            "Loaded file: /content/drive/My Drive/Colab Notebooks/pop/34.mp3\n",
            "Loaded file: /content/drive/My Drive/Colab Notebooks/pop/35.mp3\n",
            "Loaded file: /content/drive/My Drive/Colab Notebooks/pop/36.mp3\n",
            "Loaded file: /content/drive/My Drive/Colab Notebooks/pop/37.mp3\n",
            "Loaded file: /content/drive/My Drive/Colab Notebooks/pop/38.mp3\n",
            "Loaded file: /content/drive/My Drive/Colab Notebooks/pop/39.mp3\n",
            "Loaded file: /content/drive/My Drive/Colab Notebooks/pop/40.mp3\n",
            "Loaded file: /content/drive/My Drive/Colab Notebooks/pop/41.mp3\n",
            "Loaded file: /content/drive/My Drive/Colab Notebooks/pop/42.mp3\n",
            "Loaded file: /content/drive/My Drive/Colab Notebooks/pop/43.mp3\n",
            "Loaded file: /content/drive/My Drive/Colab Notebooks/pop/44.mp3\n",
            "Loaded file: /content/drive/My Drive/Colab Notebooks/pop/45.mp3\n",
            "Loaded file: /content/drive/My Drive/Colab Notebooks/pop/46.mp3\n",
            "Loaded file: /content/drive/My Drive/Colab Notebooks/pop/47.mp3\n",
            "Loaded file: /content/drive/My Drive/Colab Notebooks/pop/48.mp3\n",
            "Loaded file: /content/drive/My Drive/Colab Notebooks/pop/49.mp3\n",
            "Loaded file: /content/drive/My Drive/Colab Notebooks/pop/50.mp3\n",
            "Loaded file: /content/drive/My Drive/Colab Notebooks/pop/51.mp3\n",
            "Loaded file: /content/drive/My Drive/Colab Notebooks/pop/52.mp3\n",
            "Loaded file: /content/drive/My Drive/Colab Notebooks/pop/53.mp3\n",
            "Loaded file: /content/drive/My Drive/Colab Notebooks/pop/54.mp3\n",
            "Loaded file: /content/drive/My Drive/Colab Notebooks/pop/55.mp3\n",
            "Loaded file: /content/drive/My Drive/Colab Notebooks/pop/56.mp3\n",
            "Loaded file: /content/drive/My Drive/Colab Notebooks/pop/57.mp3\n",
            "Loaded file: /content/drive/My Drive/Colab Notebooks/pop/58.mp3\n",
            "Loaded file: /content/drive/My Drive/Colab Notebooks/pop/59.mp3\n",
            "Loaded file: /content/drive/My Drive/Colab Notebooks/pop/60.mp3\n",
            "Loaded file: /content/drive/My Drive/Colab Notebooks/pop/61.mp3\n",
            "Loaded file: /content/drive/My Drive/Colab Notebooks/pop/62.mp3\n",
            "Loaded file: /content/drive/My Drive/Colab Notebooks/pop/63.mp3\n",
            "Loaded file: /content/drive/My Drive/Colab Notebooks/pop/64.mp3\n",
            "Loaded file: /content/drive/My Drive/Colab Notebooks/pop/65.mp3\n",
            "Loaded file: /content/drive/My Drive/Colab Notebooks/pop/66.mp3\n",
            "Loaded file: /content/drive/My Drive/Colab Notebooks/pop/67.mp3\n",
            "Loaded file: /content/drive/My Drive/Colab Notebooks/pop/68.mp3\n",
            "Loaded file: /content/drive/My Drive/Colab Notebooks/pop/69.mp3\n",
            "Loaded file: /content/drive/My Drive/Colab Notebooks/pop/70.mp3\n",
            "Loaded file: /content/drive/My Drive/Colab Notebooks/pop/71.mp3\n",
            "Loaded file: /content/drive/My Drive/Colab Notebooks/pop/72.mp3\n",
            "Loaded file: /content/drive/My Drive/Colab Notebooks/pop/73.mp3\n",
            "Loaded file: /content/drive/My Drive/Colab Notebooks/pop/74.mp3\n",
            "Loaded file: /content/drive/My Drive/Colab Notebooks/pop/75.mp3\n",
            "Loaded file: /content/drive/My Drive/Colab Notebooks/pop/76.mp3\n",
            "Loaded file: /content/drive/My Drive/Colab Notebooks/pop/77.mp3\n",
            "Loaded file: /content/drive/My Drive/Colab Notebooks/pop/78.mp3\n",
            "Loaded file: /content/drive/My Drive/Colab Notebooks/pop/79.mp3\n",
            "Loaded file: /content/drive/My Drive/Colab Notebooks/pop/80.mp3\n",
            "Loaded file: /content/drive/My Drive/Colab Notebooks/pop/81.mp3\n",
            "Loaded file: /content/drive/My Drive/Colab Notebooks/pop/82.mp3\n",
            "Loaded file: /content/drive/My Drive/Colab Notebooks/pop/83.mp3\n",
            "Loaded file: /content/drive/My Drive/Colab Notebooks/pop/84.mp3\n",
            "Loaded file: /content/drive/My Drive/Colab Notebooks/pop/85.mp3\n",
            "Loaded file: /content/drive/My Drive/Colab Notebooks/pop/86.mp3\n",
            "Loaded file: /content/drive/My Drive/Colab Notebooks/pop/87.mp3\n",
            "Loaded file: /content/drive/My Drive/Colab Notebooks/pop/88.mp3\n",
            "Loaded file: /content/drive/My Drive/Colab Notebooks/pop/89.mp3\n",
            "Loaded file: /content/drive/My Drive/Colab Notebooks/pop/90.mp3\n",
            "Loaded file: /content/drive/My Drive/Colab Notebooks/pop/91.mp3\n",
            "Loaded file: /content/drive/My Drive/Colab Notebooks/pop/92.mp3\n",
            "Loaded file: /content/drive/My Drive/Colab Notebooks/pop/93.mp3\n",
            "Loaded file: /content/drive/My Drive/Colab Notebooks/pop/94.mp3\n",
            "Loaded file: /content/drive/My Drive/Colab Notebooks/pop/95.mp3\n",
            "Loaded file: /content/drive/My Drive/Colab Notebooks/pop/96.mp3\n",
            "Loaded file: /content/drive/My Drive/Colab Notebooks/pop/97.mp3\n",
            "Loaded file: /content/drive/My Drive/Colab Notebooks/pop/98.mp3\n",
            "Loaded file: /content/drive/My Drive/Colab Notebooks/pop/99.mp3\n",
            "Loaded file: /content/drive/My Drive/Colab Notebooks/pop/100.mp3\n",
            "Loaded 100 audio files into memory.\n"
          ]
        }
      ],
      "source": [
        "import librosa\n",
        "\n",
        "# Initialize a list to hold your audio data and sample rates\n",
        "audio_data_pop = []\n",
        "\n",
        "# Loop through the sorted file paths and load each one\n",
        "for file_path in pop_files:\n",
        "    try:\n",
        "        # Load the audio file\n",
        "        audio, sr = librosa.load(file_path, sr=None)\n",
        "        # Append the audio data and sample rate to your list\n",
        "        audio_data_pop.append((audio, sr))\n",
        "        # Print a message after each successful load (optional)\n",
        "        print(f\"Loaded file: {file_path}\")\n",
        "    except Exception as e:\n",
        "        # Print out which file caused an exception and the exception message\n",
        "        print(f\"Could not load file {file_path}: {e}\")\n",
        "\n",
        "# Check if all files are loaded\n",
        "if len(audio_data_pop) == 100:\n",
        "    print(\"Loaded 100 audio files into memory.\")\n",
        "else:\n",
        "    print(f\"Loaded {len(audio_data_pop)} audio files into memory. Some files may not have been loaded correctly.\")\n"
      ]
    },
    {
      "cell_type": "code",
      "execution_count": null,
      "metadata": {
        "id": "u-V7KJtIQVoi"
      },
      "outputs": [],
      "source": [
        "import os\n",
        "\n",
        "# Base path as seen in the picture\n",
        "base_path = '/content/drive/My Drive/Colab Notebooks'\n",
        "\n",
        "# Path to the 'rock' folder\n",
        "path_to_rock = os.path.join(base_path, 'rock')\n"
      ]
    },
    {
      "cell_type": "code",
      "execution_count": null,
      "metadata": {
        "colab": {
          "base_uri": "https://localhost:8080/"
        },
        "id": "iQZ1c7luQs94",
        "outputId": "bcb94c9a-d934-441e-9ccb-521858b81070"
      },
      "outputs": [
        {
          "output_type": "stream",
          "name": "stdout",
          "text": [
            "/content/drive/My Drive/Colab Notebooks/rock/1.mp3\n",
            "/content/drive/My Drive/Colab Notebooks/rock/2.mp3\n",
            "/content/drive/My Drive/Colab Notebooks/rock/3.mp3\n",
            "/content/drive/My Drive/Colab Notebooks/rock/4.mp3\n",
            "/content/drive/My Drive/Colab Notebooks/rock/5.mp3\n",
            "/content/drive/My Drive/Colab Notebooks/rock/6.mp3\n",
            "/content/drive/My Drive/Colab Notebooks/rock/7.mp3\n",
            "/content/drive/My Drive/Colab Notebooks/rock/8.mp3\n",
            "/content/drive/My Drive/Colab Notebooks/rock/9.mp3\n",
            "/content/drive/My Drive/Colab Notebooks/rock/10.mp3\n",
            "/content/drive/My Drive/Colab Notebooks/rock/11.mp3\n",
            "/content/drive/My Drive/Colab Notebooks/rock/12.mp3\n",
            "/content/drive/My Drive/Colab Notebooks/rock/13.mp3\n",
            "/content/drive/My Drive/Colab Notebooks/rock/14.mp3\n",
            "/content/drive/My Drive/Colab Notebooks/rock/15.mp3\n",
            "/content/drive/My Drive/Colab Notebooks/rock/16.mp3\n",
            "/content/drive/My Drive/Colab Notebooks/rock/17.mp3\n",
            "/content/drive/My Drive/Colab Notebooks/rock/18.mp3\n",
            "/content/drive/My Drive/Colab Notebooks/rock/19.mp3\n",
            "/content/drive/My Drive/Colab Notebooks/rock/20.mp3\n",
            "/content/drive/My Drive/Colab Notebooks/rock/21.mp3\n",
            "/content/drive/My Drive/Colab Notebooks/rock/22.mp3\n",
            "/content/drive/My Drive/Colab Notebooks/rock/23.mp3\n",
            "/content/drive/My Drive/Colab Notebooks/rock/24.mp3\n",
            "/content/drive/My Drive/Colab Notebooks/rock/25.mp3\n",
            "/content/drive/My Drive/Colab Notebooks/rock/26.mp3\n",
            "/content/drive/My Drive/Colab Notebooks/rock/27.mp3\n",
            "/content/drive/My Drive/Colab Notebooks/rock/28.mp3\n",
            "/content/drive/My Drive/Colab Notebooks/rock/29.mp3\n",
            "/content/drive/My Drive/Colab Notebooks/rock/30.mp3\n",
            "/content/drive/My Drive/Colab Notebooks/rock/31.mp3\n",
            "/content/drive/My Drive/Colab Notebooks/rock/32.mp3\n",
            "/content/drive/My Drive/Colab Notebooks/rock/33.mp3\n",
            "/content/drive/My Drive/Colab Notebooks/rock/34.mp3\n",
            "/content/drive/My Drive/Colab Notebooks/rock/35.mp3\n",
            "/content/drive/My Drive/Colab Notebooks/rock/36.mp3\n",
            "/content/drive/My Drive/Colab Notebooks/rock/37.mp3\n",
            "/content/drive/My Drive/Colab Notebooks/rock/38.mp3\n",
            "/content/drive/My Drive/Colab Notebooks/rock/39.mp3\n",
            "/content/drive/My Drive/Colab Notebooks/rock/40.mp3\n",
            "/content/drive/My Drive/Colab Notebooks/rock/41.mp3\n",
            "/content/drive/My Drive/Colab Notebooks/rock/42.mp3\n",
            "/content/drive/My Drive/Colab Notebooks/rock/43.mp3\n",
            "/content/drive/My Drive/Colab Notebooks/rock/44.mp3\n",
            "/content/drive/My Drive/Colab Notebooks/rock/45.mp3\n",
            "/content/drive/My Drive/Colab Notebooks/rock/46.mp3\n",
            "/content/drive/My Drive/Colab Notebooks/rock/47.mp3\n",
            "/content/drive/My Drive/Colab Notebooks/rock/48.mp3\n",
            "/content/drive/My Drive/Colab Notebooks/rock/49.mp3\n",
            "/content/drive/My Drive/Colab Notebooks/rock/50.mp3\n",
            "/content/drive/My Drive/Colab Notebooks/rock/51.mp3\n",
            "/content/drive/My Drive/Colab Notebooks/rock/52.mp3\n",
            "/content/drive/My Drive/Colab Notebooks/rock/53.mp3\n",
            "/content/drive/My Drive/Colab Notebooks/rock/54.mp3\n",
            "/content/drive/My Drive/Colab Notebooks/rock/55.mp3\n",
            "/content/drive/My Drive/Colab Notebooks/rock/56.mp3\n",
            "/content/drive/My Drive/Colab Notebooks/rock/57.mp3\n",
            "/content/drive/My Drive/Colab Notebooks/rock/58.mp3\n",
            "/content/drive/My Drive/Colab Notebooks/rock/59.mp3\n",
            "/content/drive/My Drive/Colab Notebooks/rock/60.mp3\n",
            "/content/drive/My Drive/Colab Notebooks/rock/61.mp3\n",
            "/content/drive/My Drive/Colab Notebooks/rock/62.mp3\n",
            "/content/drive/My Drive/Colab Notebooks/rock/63.mp3\n",
            "/content/drive/My Drive/Colab Notebooks/rock/64.mp3\n",
            "/content/drive/My Drive/Colab Notebooks/rock/65.mp3\n",
            "/content/drive/My Drive/Colab Notebooks/rock/66.mp3\n",
            "/content/drive/My Drive/Colab Notebooks/rock/67.mp3\n",
            "/content/drive/My Drive/Colab Notebooks/rock/68.mp3\n",
            "/content/drive/My Drive/Colab Notebooks/rock/69.mp3\n",
            "/content/drive/My Drive/Colab Notebooks/rock/70.mp3\n",
            "/content/drive/My Drive/Colab Notebooks/rock/71.mp3\n",
            "/content/drive/My Drive/Colab Notebooks/rock/72.mp3\n",
            "/content/drive/My Drive/Colab Notebooks/rock/73.mp3\n",
            "/content/drive/My Drive/Colab Notebooks/rock/74.mp3\n",
            "/content/drive/My Drive/Colab Notebooks/rock/75.mp3\n",
            "/content/drive/My Drive/Colab Notebooks/rock/76.mp3\n",
            "/content/drive/My Drive/Colab Notebooks/rock/77.mp3\n",
            "/content/drive/My Drive/Colab Notebooks/rock/78.mp3\n",
            "/content/drive/My Drive/Colab Notebooks/rock/79.mp3\n",
            "/content/drive/My Drive/Colab Notebooks/rock/80.mp3\n",
            "/content/drive/My Drive/Colab Notebooks/rock/81.mp3\n",
            "/content/drive/My Drive/Colab Notebooks/rock/82.mp3\n",
            "/content/drive/My Drive/Colab Notebooks/rock/83.mp3\n",
            "/content/drive/My Drive/Colab Notebooks/rock/84.mp3\n",
            "/content/drive/My Drive/Colab Notebooks/rock/85.mp3\n",
            "/content/drive/My Drive/Colab Notebooks/rock/86.mp3\n",
            "/content/drive/My Drive/Colab Notebooks/rock/87.mp3\n",
            "/content/drive/My Drive/Colab Notebooks/rock/88.mp3\n",
            "/content/drive/My Drive/Colab Notebooks/rock/89.mp3\n",
            "/content/drive/My Drive/Colab Notebooks/rock/90.mp3\n",
            "/content/drive/My Drive/Colab Notebooks/rock/91.mp3\n",
            "/content/drive/My Drive/Colab Notebooks/rock/92.mp3\n",
            "/content/drive/My Drive/Colab Notebooks/rock/93.mp3\n",
            "/content/drive/My Drive/Colab Notebooks/rock/94.mp3\n",
            "/content/drive/My Drive/Colab Notebooks/rock/95.mp3\n",
            "/content/drive/My Drive/Colab Notebooks/rock/96.mp3\n",
            "/content/drive/My Drive/Colab Notebooks/rock/97.mp3\n",
            "/content/drive/My Drive/Colab Notebooks/rock/98.mp3\n",
            "/content/drive/My Drive/Colab Notebooks/rock/99.mp3\n",
            "/content/drive/My Drive/Colab Notebooks/rock/100.mp3\n"
          ]
        }
      ],
      "source": [
        "import re\n",
        "\n",
        "# Function to sort the files in human order\n",
        "def atoi(text):\n",
        "    return int(text) if text.isdigit() else text\n",
        "\n",
        "def natural_keys(text):\n",
        "    return [atoi(c) for c in re.split(r'(\\d+)', text)]\n",
        "\n",
        "# List all MP3 files in the 'rock' folder\n",
        "rock_files = [os.path.join(path_to_rock, file) for file in os.listdir(path_to_rock) if file.endswith('.mp3')]\n",
        "rock_files.sort(key=natural_keys)\n",
        "\n",
        "# Print the sorted file paths (optional)\n",
        "for file_path in rock_files:\n",
        "    print(file_path)\n"
      ]
    },
    {
      "cell_type": "code",
      "execution_count": null,
      "metadata": {
        "colab": {
          "base_uri": "https://localhost:8080/"
        },
        "id": "ApGZum7-Qz5O",
        "outputId": "b7d53fa7-e8f9-448c-8b1b-21f8723d7f66"
      },
      "outputs": [
        {
          "output_type": "stream",
          "name": "stdout",
          "text": [
            "Loaded file: /content/drive/My Drive/Colab Notebooks/rock/1.mp3\n",
            "Loaded file: /content/drive/My Drive/Colab Notebooks/rock/2.mp3\n",
            "Loaded file: /content/drive/My Drive/Colab Notebooks/rock/3.mp3\n",
            "Loaded file: /content/drive/My Drive/Colab Notebooks/rock/4.mp3\n",
            "Loaded file: /content/drive/My Drive/Colab Notebooks/rock/5.mp3\n",
            "Loaded file: /content/drive/My Drive/Colab Notebooks/rock/6.mp3\n",
            "Loaded file: /content/drive/My Drive/Colab Notebooks/rock/7.mp3\n",
            "Loaded file: /content/drive/My Drive/Colab Notebooks/rock/8.mp3\n",
            "Loaded file: /content/drive/My Drive/Colab Notebooks/rock/9.mp3\n",
            "Loaded file: /content/drive/My Drive/Colab Notebooks/rock/10.mp3\n",
            "Loaded file: /content/drive/My Drive/Colab Notebooks/rock/11.mp3\n",
            "Loaded file: /content/drive/My Drive/Colab Notebooks/rock/12.mp3\n",
            "Loaded file: /content/drive/My Drive/Colab Notebooks/rock/13.mp3\n",
            "Loaded file: /content/drive/My Drive/Colab Notebooks/rock/14.mp3\n",
            "Loaded file: /content/drive/My Drive/Colab Notebooks/rock/15.mp3\n",
            "Loaded file: /content/drive/My Drive/Colab Notebooks/rock/16.mp3\n",
            "Loaded file: /content/drive/My Drive/Colab Notebooks/rock/17.mp3\n",
            "Loaded file: /content/drive/My Drive/Colab Notebooks/rock/18.mp3\n",
            "Loaded file: /content/drive/My Drive/Colab Notebooks/rock/19.mp3\n",
            "Loaded file: /content/drive/My Drive/Colab Notebooks/rock/20.mp3\n",
            "Loaded file: /content/drive/My Drive/Colab Notebooks/rock/21.mp3\n",
            "Loaded file: /content/drive/My Drive/Colab Notebooks/rock/22.mp3\n",
            "Loaded file: /content/drive/My Drive/Colab Notebooks/rock/23.mp3\n",
            "Loaded file: /content/drive/My Drive/Colab Notebooks/rock/24.mp3\n",
            "Loaded file: /content/drive/My Drive/Colab Notebooks/rock/25.mp3\n",
            "Loaded file: /content/drive/My Drive/Colab Notebooks/rock/26.mp3\n",
            "Loaded file: /content/drive/My Drive/Colab Notebooks/rock/27.mp3\n",
            "Loaded file: /content/drive/My Drive/Colab Notebooks/rock/28.mp3\n",
            "Loaded file: /content/drive/My Drive/Colab Notebooks/rock/29.mp3\n",
            "Loaded file: /content/drive/My Drive/Colab Notebooks/rock/30.mp3\n",
            "Loaded file: /content/drive/My Drive/Colab Notebooks/rock/31.mp3\n",
            "Loaded file: /content/drive/My Drive/Colab Notebooks/rock/32.mp3\n",
            "Loaded file: /content/drive/My Drive/Colab Notebooks/rock/33.mp3\n",
            "Loaded file: /content/drive/My Drive/Colab Notebooks/rock/34.mp3\n",
            "Loaded file: /content/drive/My Drive/Colab Notebooks/rock/35.mp3\n",
            "Loaded file: /content/drive/My Drive/Colab Notebooks/rock/36.mp3\n",
            "Loaded file: /content/drive/My Drive/Colab Notebooks/rock/37.mp3\n",
            "Loaded file: /content/drive/My Drive/Colab Notebooks/rock/38.mp3\n",
            "Loaded file: /content/drive/My Drive/Colab Notebooks/rock/39.mp3\n",
            "Loaded file: /content/drive/My Drive/Colab Notebooks/rock/40.mp3\n",
            "Loaded file: /content/drive/My Drive/Colab Notebooks/rock/41.mp3\n",
            "Loaded file: /content/drive/My Drive/Colab Notebooks/rock/42.mp3\n",
            "Loaded file: /content/drive/My Drive/Colab Notebooks/rock/43.mp3\n",
            "Loaded file: /content/drive/My Drive/Colab Notebooks/rock/44.mp3\n",
            "Loaded file: /content/drive/My Drive/Colab Notebooks/rock/45.mp3\n",
            "Loaded file: /content/drive/My Drive/Colab Notebooks/rock/46.mp3\n",
            "Loaded file: /content/drive/My Drive/Colab Notebooks/rock/47.mp3\n",
            "Loaded file: /content/drive/My Drive/Colab Notebooks/rock/48.mp3\n",
            "Loaded file: /content/drive/My Drive/Colab Notebooks/rock/49.mp3\n",
            "Loaded file: /content/drive/My Drive/Colab Notebooks/rock/50.mp3\n",
            "Loaded file: /content/drive/My Drive/Colab Notebooks/rock/51.mp3\n",
            "Loaded file: /content/drive/My Drive/Colab Notebooks/rock/52.mp3\n",
            "Loaded file: /content/drive/My Drive/Colab Notebooks/rock/53.mp3\n",
            "Loaded file: /content/drive/My Drive/Colab Notebooks/rock/54.mp3\n",
            "Loaded file: /content/drive/My Drive/Colab Notebooks/rock/55.mp3\n",
            "Loaded file: /content/drive/My Drive/Colab Notebooks/rock/56.mp3\n",
            "Loaded file: /content/drive/My Drive/Colab Notebooks/rock/57.mp3\n",
            "Loaded file: /content/drive/My Drive/Colab Notebooks/rock/58.mp3\n",
            "Loaded file: /content/drive/My Drive/Colab Notebooks/rock/59.mp3\n",
            "Loaded file: /content/drive/My Drive/Colab Notebooks/rock/60.mp3\n",
            "Loaded file: /content/drive/My Drive/Colab Notebooks/rock/61.mp3\n",
            "Loaded file: /content/drive/My Drive/Colab Notebooks/rock/62.mp3\n",
            "Loaded file: /content/drive/My Drive/Colab Notebooks/rock/63.mp3\n",
            "Loaded file: /content/drive/My Drive/Colab Notebooks/rock/64.mp3\n",
            "Loaded file: /content/drive/My Drive/Colab Notebooks/rock/65.mp3\n",
            "Loaded file: /content/drive/My Drive/Colab Notebooks/rock/66.mp3\n",
            "Loaded file: /content/drive/My Drive/Colab Notebooks/rock/67.mp3\n",
            "Loaded file: /content/drive/My Drive/Colab Notebooks/rock/68.mp3\n",
            "Loaded file: /content/drive/My Drive/Colab Notebooks/rock/69.mp3\n",
            "Loaded file: /content/drive/My Drive/Colab Notebooks/rock/70.mp3\n",
            "Loaded file: /content/drive/My Drive/Colab Notebooks/rock/71.mp3\n",
            "Loaded file: /content/drive/My Drive/Colab Notebooks/rock/72.mp3\n",
            "Loaded file: /content/drive/My Drive/Colab Notebooks/rock/73.mp3\n",
            "Loaded file: /content/drive/My Drive/Colab Notebooks/rock/74.mp3\n",
            "Loaded file: /content/drive/My Drive/Colab Notebooks/rock/75.mp3\n",
            "Loaded file: /content/drive/My Drive/Colab Notebooks/rock/76.mp3\n",
            "Loaded file: /content/drive/My Drive/Colab Notebooks/rock/77.mp3\n",
            "Loaded file: /content/drive/My Drive/Colab Notebooks/rock/78.mp3\n",
            "Loaded file: /content/drive/My Drive/Colab Notebooks/rock/79.mp3\n",
            "Loaded file: /content/drive/My Drive/Colab Notebooks/rock/80.mp3\n",
            "Loaded file: /content/drive/My Drive/Colab Notebooks/rock/81.mp3\n",
            "Loaded file: /content/drive/My Drive/Colab Notebooks/rock/82.mp3\n",
            "Loaded file: /content/drive/My Drive/Colab Notebooks/rock/83.mp3\n",
            "Loaded file: /content/drive/My Drive/Colab Notebooks/rock/84.mp3\n",
            "Loaded file: /content/drive/My Drive/Colab Notebooks/rock/85.mp3\n",
            "Loaded file: /content/drive/My Drive/Colab Notebooks/rock/86.mp3\n",
            "Loaded file: /content/drive/My Drive/Colab Notebooks/rock/87.mp3\n",
            "Loaded file: /content/drive/My Drive/Colab Notebooks/rock/88.mp3\n",
            "Loaded file: /content/drive/My Drive/Colab Notebooks/rock/89.mp3\n",
            "Loaded file: /content/drive/My Drive/Colab Notebooks/rock/90.mp3\n",
            "Loaded file: /content/drive/My Drive/Colab Notebooks/rock/91.mp3\n",
            "Loaded file: /content/drive/My Drive/Colab Notebooks/rock/92.mp3\n",
            "Loaded file: /content/drive/My Drive/Colab Notebooks/rock/93.mp3\n",
            "Loaded file: /content/drive/My Drive/Colab Notebooks/rock/94.mp3\n",
            "Loaded file: /content/drive/My Drive/Colab Notebooks/rock/95.mp3\n",
            "Loaded file: /content/drive/My Drive/Colab Notebooks/rock/96.mp3\n",
            "Loaded file: /content/drive/My Drive/Colab Notebooks/rock/97.mp3\n",
            "Loaded file: /content/drive/My Drive/Colab Notebooks/rock/98.mp3\n",
            "Loaded file: /content/drive/My Drive/Colab Notebooks/rock/99.mp3\n",
            "Loaded file: /content/drive/My Drive/Colab Notebooks/rock/100.mp3\n",
            "Loaded 100 audio files into memory.\n"
          ]
        }
      ],
      "source": [
        "import librosa\n",
        "\n",
        "# Initialize a list to hold your audio data and sample rates\n",
        "audio_data_rock = []\n",
        "\n",
        "# Loop through the sorted file paths and load each one\n",
        "for file_path in rock_files:\n",
        "    try:\n",
        "        # Load the audio file\n",
        "        audio, sr = librosa.load(file_path, sr=None)\n",
        "        # Append the audio data and sample rate to your list\n",
        "        audio_data_rock.append((audio, sr))\n",
        "        # Print a message after each successful load (optional)\n",
        "        print(f\"Loaded file: {file_path}\")\n",
        "    except Exception as e:\n",
        "        # Print out which file caused an exception and the exception message\n",
        "        print(f\"Could not load file {file_path}: {e}\")\n",
        "\n",
        "# Check if all files are loaded\n",
        "if len(audio_data_rock) == 100:\n",
        "    print(\"Loaded 100 audio files into memory.\")\n",
        "else:\n",
        "    print(f\"Loaded {len(audio_data_rock)} audio files into memory. Some files may not have been loaded correctly.\")\n"
      ]
    },
    {
      "cell_type": "markdown",
      "metadata": {
        "id": "RT7TjldYTf-l"
      },
      "source": [
        "*Fourthly,\"Feature Extraction\"; I am performing feature extraction on the audio data for the different music genres, including Classical, Rock, Pop, and Electronic.*"
      ]
    },
    {
      "cell_type": "code",
      "execution_count": null,
      "metadata": {
        "colab": {
          "base_uri": "https://localhost:8080/"
        },
        "id": "wwMSZu7sRBBq",
        "outputId": "b9fd516b-5e38-4e0e-914c-2180b49b7dd9"
      },
      "outputs": [
        {
          "output_type": "stream",
          "name": "stdout",
          "text": [
            "Feature extraction for classical genre completed.\n"
          ]
        }
      ],
      "source": [
        "import numpy as np\n",
        "import librosa\n",
        "\n",
        "import numpy as np\n",
        "import librosa\n",
        "\n",
        "# Initialize lists to hold feature data for each file\n",
        "mfccs_classical = []\n",
        "chroma_classical = []\n",
        "mel_classical = []\n",
        "contrast_classical = []\n",
        "tonnetz_classical = []\n",
        "\n",
        "# Function to extract features from an audio file\n",
        "def extract_features(audio, sr):\n",
        "    # Mel-frequency cepstral coefficients\n",
        "    mfcc = librosa.feature.mfcc(y=audio, sr=sr)\n",
        "\n",
        "    # Chromagram from a waveform or power spectrogram\n",
        "    chroma = librosa.feature.chroma_stft(y=audio, sr=sr)\n",
        "\n",
        "    # Mel-scaled spectrogram\n",
        "    mel = librosa.feature.melspectrogram(y=audio, sr=sr)\n",
        "\n",
        "    # Spectral contrast\n",
        "    contrast = librosa.feature.spectral_contrast(y=audio, sr=sr)\n",
        "\n",
        "    # Tonnetz\n",
        "    tonnetz = librosa.feature.tonnetz(y=audio, sr=sr)\n",
        "\n",
        "    return mfcc, chroma, mel, contrast, tonnetz\n",
        "\n",
        "# Loop through the audio data and extract features\n",
        "for audio, sr in audio_data:\n",
        "    mfcc, chroma, mel, contrast, tonnetz = extract_features(audio, sr)\n",
        "    mfccs_classical.append(mfcc)\n",
        "    chroma_classical.append(chroma)\n",
        "    mel_classical.append(mel)\n",
        "    contrast_classical.append(contrast)\n",
        "    tonnetz_classical.append(tonnetz)\n",
        "\n",
        "print(\"Feature extraction for classical genre completed.\")\n"
      ]
    },
    {
      "cell_type": "code",
      "execution_count": null,
      "metadata": {
        "colab": {
          "base_uri": "https://localhost:8080/"
        },
        "id": "mES9pK74WaGB",
        "outputId": "e2622327-92ec-434e-b271-3ad895585815"
      },
      "outputs": [
        {
          "output_type": "stream",
          "name": "stdout",
          "text": [
            "Number of files in feature lists:\n",
            "MFCCs: 100\n",
            "Chroma: 100\n",
            "Mel: 100\n",
            "Contrast: 100\n",
            "Tonnetz: 100\n",
            "\n",
            "Feature dimensions for the first file:\n",
            "MFCCs: (20, 5171)\n",
            "Chroma: (12, 5171)\n"
          ]
        }
      ],
      "source": [
        "# Check the lengths of the feature lists\n",
        "print(\"Number of files in feature lists:\")\n",
        "print(f\"MFCCs: {len(mfccs_classical)}\")\n",
        "print(f\"Chroma: {len(chroma_classical)}\")\n",
        "print(f\"Mel: {len(mel_classical)}\")\n",
        "print(f\"Contrast: {len(contrast_classical)}\")\n",
        "print(f\"Tonnetz: {len(tonnetz_classical)}\")\n",
        "\n",
        "# Check dimensions of feature data for the first file\n",
        "print(\"\\nFeature dimensions for the first file:\")\n",
        "print(f\"MFCCs: {mfccs_classical[1].shape}\")\n",
        "print(f\"Chroma: {chroma_classical[1].shape}\")\n"
      ]
    },
    {
      "cell_type": "code",
      "execution_count": null,
      "metadata": {
        "colab": {
          "base_uri": "https://localhost:8080/"
        },
        "id": "Xy7KD6G5XwwX",
        "outputId": "b042deaa-2298-41a4-86b6-d126ed7a0031"
      },
      "outputs": [
        {
          "output_type": "stream",
          "name": "stdout",
          "text": [
            "Feature extraction for electronic genre completed.\n"
          ]
        }
      ],
      "source": [
        "import numpy as np\n",
        "import librosa\n",
        "\n",
        "# Initialize lists to hold feature data for each file in the electronic genre\n",
        "mfccs_electronic = []\n",
        "chroma_electronic = []\n",
        "mel_electronic = []\n",
        "contrast_electronic = []\n",
        "tonnetz_electronic = []\n",
        "\n",
        "# Loop through the audio data for the electronic genre and extract features\n",
        "for audio, sr in audio_data_electronic:\n",
        "    try:\n",
        "        mfcc, chroma, mel, contrast, tonnetz = extract_features(audio, sr)\n",
        "        mfccs_electronic.append(mfcc)\n",
        "        chroma_electronic.append(chroma)\n",
        "        mel_electronic.append(mel)\n",
        "        contrast_electronic.append(contrast)\n",
        "        tonnetz_electronic.append(tonnetz)\n",
        "    except Exception as e:\n",
        "        print(f\"Error extracting features from one of the files: {e}\")\n",
        "\n",
        "print(\"Feature extraction for electronic genre completed.\")\n"
      ]
    },
    {
      "cell_type": "code",
      "execution_count": null,
      "metadata": {
        "colab": {
          "base_uri": "https://localhost:8080/"
        },
        "id": "nqcxMxohZ26f",
        "outputId": "3e7ad6fc-6832-4972-8234-e0cd3e7fc247"
      },
      "outputs": [
        {
          "output_type": "stream",
          "name": "stdout",
          "text": [
            "Number of files in feature lists for electronic genre:\n",
            "MFCCs: 100\n",
            "Chroma: 100\n",
            "Mel: 100\n",
            "Contrast: 100\n",
            "Tonnetz: 100\n",
            "\n",
            "Feature dimensions for the first file in electronic genre:\n",
            "MFCCs: (20, 5171)\n",
            "Chroma: (12, 5171)\n",
            "Mel: (128, 5171)\n",
            "Contrast: (7, 5171)\n",
            "Tonnetz: (6, 5171)\n"
          ]
        }
      ],
      "source": [
        "# Check the lengths of the feature lists\n",
        "print(\"Number of files in feature lists for electronic genre:\")\n",
        "print(f\"MFCCs: {len(mfccs_electronic)}\")\n",
        "print(f\"Chroma: {len(chroma_electronic)}\")\n",
        "print(f\"Mel: {len(mel_electronic)}\")\n",
        "print(f\"Contrast: {len(contrast_electronic)}\")\n",
        "print(f\"Tonnetz: {len(tonnetz_electronic)}\")\n",
        "\n",
        "# Check dimensions of feature data for the first file in the electronic genre\n",
        "if len(mfccs_electronic) > 0:  # Ensure there is at least one file\n",
        "    print(\"\\nFeature dimensions for the first file in electronic genre:\")\n",
        "    print(f\"MFCCs: {mfccs_electronic[0].shape}\")\n",
        "    print(f\"Chroma: {chroma_electronic[0].shape}\")\n",
        "    print(f\"Mel: {mel_electronic[0].shape}\")\n",
        "    print(f\"Contrast: {contrast_electronic[0].shape}\")\n",
        "    print(f\"Tonnetz: {tonnetz_electronic[0].shape}\")\n",
        "else:\n",
        "    print(\"\\nNo features extracted for the electronic genre.\")"
      ]
    },
    {
      "cell_type": "code",
      "execution_count": null,
      "metadata": {
        "colab": {
          "base_uri": "https://localhost:8080/"
        },
        "id": "U3c94lbxa0nL",
        "outputId": "fa8c05f4-6187-4857-d924-4dda4b8456ae"
      },
      "outputs": [
        {
          "output_type": "stream",
          "name": "stdout",
          "text": [
            "Feature extraction for pop genre completed.\n"
          ]
        }
      ],
      "source": [
        "# Initialize lists to hold feature data for each file in the pop genre\n",
        "mfccs_pop = []\n",
        "chroma_pop = []\n",
        "mel_pop = []\n",
        "contrast_pop = []\n",
        "tonnetz_pop = []\n",
        "\n",
        "# Loop through the audio data for the pop genre and extract features\n",
        "for audio, sr in audio_data_pop:\n",
        "    try:\n",
        "        mfcc, chroma, mel, contrast, tonnetz = extract_features(audio, sr)\n",
        "        mfccs_pop.append(mfcc)\n",
        "        chroma_pop.append(chroma)\n",
        "        mel_pop.append(mel)\n",
        "        contrast_pop.append(contrast)\n",
        "        tonnetz_pop.append(tonnetz)\n",
        "    except Exception as e:\n",
        "        print(f\"Error extracting features from one of the files: {e}\")\n",
        "\n",
        "print(\"Feature extraction for pop genre completed.\")"
      ]
    },
    {
      "cell_type": "code",
      "execution_count": null,
      "metadata": {
        "colab": {
          "base_uri": "https://localhost:8080/"
        },
        "id": "mx4tpFdUcpsh",
        "outputId": "d6b63bfe-62fe-4c14-85fd-399c1069f9d8"
      },
      "outputs": [
        {
          "output_type": "stream",
          "name": "stdout",
          "text": [
            "Number of files in feature lists for pop genre:\n",
            "MFCCs: 100\n",
            "Chroma: 100\n",
            "Mel: 100\n",
            "Contrast: 100\n",
            "Tonnetz: 100\n",
            "\n",
            "Feature dimensions for the first file in pop genre:\n",
            "MFCCs: (20, 5171)\n",
            "Chroma: (12, 5171)\n",
            "Mel: (128, 5171)\n",
            "Contrast: (7, 5171)\n",
            "Tonnetz: (6, 5171)\n"
          ]
        }
      ],
      "source": [
        "# Check the lengths of the feature lists\n",
        "print(\"Number of files in feature lists for pop genre:\")\n",
        "print(f\"MFCCs: {len(mfccs_pop)}\")\n",
        "print(f\"Chroma: {len(chroma_pop)}\")\n",
        "print(f\"Mel: {len(mel_pop)}\")\n",
        "print(f\"Contrast: {len(contrast_pop)}\")\n",
        "print(f\"Tonnetz: {len(tonnetz_pop)}\")\n",
        "\n",
        "# Check dimensions of feature data for the first file in the pop genre\n",
        "if len(mfccs_pop) > 0:  # Ensure there is at least one file\n",
        "    print(\"\\nFeature dimensions for the first file in pop genre:\")\n",
        "    print(f\"MFCCs: {mfccs_pop[0].shape}\")\n",
        "    print(f\"Chroma: {chroma_pop[0].shape}\")\n",
        "    print(f\"Mel: {mel_pop[0].shape}\")\n",
        "    print(f\"Contrast: {contrast_pop[0].shape}\")\n",
        "    print(f\"Tonnetz: {tonnetz_pop[0].shape}\")\n",
        "else:\n",
        "    print(\"\\nNo features extracted for the pop genre.\")"
      ]
    },
    {
      "cell_type": "code",
      "execution_count": null,
      "metadata": {
        "colab": {
          "base_uri": "https://localhost:8080/"
        },
        "id": "P6wxqqgncted",
        "outputId": "31659dbc-f728-4079-b177-f91d95fd6f58"
      },
      "outputs": [
        {
          "output_type": "stream",
          "name": "stdout",
          "text": [
            "Feature extraction for rock genre completed.\n"
          ]
        }
      ],
      "source": [
        "# Initialize lists to hold feature data for each file in the rock genre\n",
        "mfccs_rock = []\n",
        "chroma_rock = []\n",
        "mel_rock = []\n",
        "contrast_rock = []\n",
        "tonnetz_rock = []\n",
        "\n",
        "# Loop through the audio data for the rock genre and extract features\n",
        "for audio, sr in audio_data_rock:\n",
        "    try:\n",
        "        mfcc, chroma, mel, contrast, tonnetz = extract_features(audio, sr)\n",
        "        mfccs_rock.append(mfcc)\n",
        "        chroma_rock.append(chroma)\n",
        "        mel_rock.append(mel)\n",
        "        contrast_rock.append(contrast)\n",
        "        tonnetz_rock.append(tonnetz)\n",
        "    except Exception as e:\n",
        "        print(f\"Error extracting features from one of the files: {e}\")\n",
        "\n",
        "print(\"Feature extraction for rock genre completed.\")"
      ]
    },
    {
      "cell_type": "code",
      "execution_count": null,
      "metadata": {
        "colab": {
          "base_uri": "https://localhost:8080/"
        },
        "id": "k_wA34HPe0SV",
        "outputId": "0bf27a93-b854-46c7-9d1b-bea561c1f8ca"
      },
      "outputs": [
        {
          "output_type": "stream",
          "name": "stdout",
          "text": [
            "Number of files in feature lists for rock genre:\n",
            "MFCCs: 100\n",
            "Chroma: 100\n",
            "Mel: 100\n",
            "Contrast: 100\n",
            "Tonnetz: 100\n",
            "\n",
            "Feature dimensions for the first file in rock genre:\n",
            "MFCCs: (20, 5171)\n",
            "Chroma: (12, 5171)\n",
            "Mel: (128, 5171)\n",
            "Contrast: (7, 5171)\n",
            "Tonnetz: (6, 5171)\n"
          ]
        }
      ],
      "source": [
        "# Check the lengths of the feature lists\n",
        "print(\"Number of files in feature lists for rock genre:\")\n",
        "print(f\"MFCCs: {len(mfccs_rock)}\")\n",
        "print(f\"Chroma: {len(chroma_rock)}\")\n",
        "print(f\"Mel: {len(mel_rock)}\")\n",
        "print(f\"Contrast: {len(contrast_rock)}\")\n",
        "print(f\"Tonnetz: {len(tonnetz_rock)}\")\n",
        "\n",
        "# Check dimensions of feature data for the first file in the rock genre\n",
        "if len(mfccs_rock) > 0:  # Ensure there is at least one file\n",
        "    print(\"\\nFeature dimensions for the first file in rock genre:\")\n",
        "    print(f\"MFCCs: {mfccs_rock[0].shape}\")\n",
        "    print(f\"Chroma: {chroma_rock[0].shape}\")\n",
        "    print(f\"Mel: {mel_rock[0].shape}\")\n",
        "    print(f\"Contrast: {contrast_rock[0].shape}\")\n",
        "    print(f\"Tonnetz: {tonnetz_rock[0].shape}\")\n",
        "else:\n",
        "    print(\"\\nNo features extracted for the rock genre.\")"
      ]
    },
    {
      "cell_type": "markdown",
      "source": [
        "*Fifthly,\"Feature Aggregation,\" I am calculating the mean of audio features across time frames for each music genre and feature type, including MFCCs, chroma, mel-scaled spectrograms, spectral contrast, and tonnetz. I defined a function called aggregate_features() to compute the mean along the time axis (axis=1) for each feature.*"
      ],
      "metadata": {
        "id": "MNy-OGW4P-bC"
      }
    },
    {
      "cell_type": "code",
      "execution_count": null,
      "metadata": {
        "colab": {
          "base_uri": "https://localhost:8080/"
        },
        "id": "5hmggaSMnuTK",
        "outputId": "376a8105-b610-4806-f63b-de81af3db4ba"
      },
      "outputs": [
        {
          "output_type": "stream",
          "name": "stdout",
          "text": [
            "Shape of aggregated feature arrays:\n",
            "MFCCs Classical: (100, 20)\n",
            "Chroma Classical: (100, 12)\n",
            "\n",
            "First few values of MFCCs for Classical genre:\n",
            "[-333.96432    147.23233     -7.0079765    2.8494134   -7.615041 ]\n"
          ]
        }
      ],
      "source": [
        "import numpy as np\n",
        "\n",
        "# Function to calculate the mean of features across time frames\n",
        "def aggregate_features(features):\n",
        "    return np.array([np.mean(feature, axis=1) for feature in features])  # Calculate mean across time frames (axis=1)\n",
        "\n",
        "# Aggregating features for each genre and feature type\n",
        "mfccs_classical_agg = aggregate_features(mfccs_classical)\n",
        "mfccs_rock_agg = aggregate_features(mfccs_rock)\n",
        "mfccs_electronic_agg = aggregate_features(mfccs_electronic)\n",
        "mfccs_pop_agg = aggregate_features(mfccs_pop)\n",
        "\n",
        "chroma_classical_agg = aggregate_features(chroma_classical)\n",
        "chroma_rock_agg = aggregate_features(chroma_rock)\n",
        "chroma_electronic_agg = aggregate_features(chroma_electronic)\n",
        "chroma_pop_agg = aggregate_features(chroma_pop)\n",
        "\n",
        "mel_classical_agg = aggregate_features(mel_classical)\n",
        "mel_rock_agg = aggregate_features(mel_rock)\n",
        "mel_electronic_agg = aggregate_features(mel_electronic)\n",
        "mel_pop_agg = aggregate_features(mel_pop)\n",
        "\n",
        "contrast_classical_agg = aggregate_features(contrast_classical)\n",
        "contrast_rock_agg = aggregate_features(contrast_rock)\n",
        "contrast_electronic_agg = aggregate_features(contrast_electronic)\n",
        "contrast_pop_agg = aggregate_features(contrast_pop)\n",
        "\n",
        "tonnetz_classical_agg = aggregate_features(tonnetz_classical)\n",
        "tonnetz_rock_agg = aggregate_features(tonnetz_rock)\n",
        "tonnetz_electronic_agg = aggregate_features(tonnetz_electronic)\n",
        "tonnetz_pop_agg = aggregate_features(tonnetz_pop)\n",
        "\n",
        "# Check the shape of the aggregated arrays\n",
        "print(\"Shape of aggregated feature arrays:\")\n",
        "print(f\"MFCCs Classical: {mfccs_classical_agg.shape}\")\n",
        "print(f\"Chroma Classical: {chroma_classical_agg.shape}\")\n",
        "# ... repeat for other features and genres\n",
        "\n",
        "# Inspect the first few values of one aggregated array\n",
        "print(\"\\nFirst few values of MFCCs for Classical genre:\")\n",
        "print(mfccs_classical_agg[0][:5])  # First 5 MFCC values of the first track\n",
        "\n"
      ]
    },
    {
      "cell_type": "markdown",
      "source": [
        "*Sixthly, \"Concatenating and Creating Feature DataFrame,\" I am arranging the calculated audio features in the correct order and concatenating them to create a comprehensive feature dataset. Ensuring that the features for each music genre (Classical, Rock, Electronic, and Pop) are concatenated in the specified track order.*"
      ],
      "metadata": {
        "id": "mt9TxRbJQH8y"
      }
    },
    {
      "cell_type": "code",
      "execution_count": null,
      "metadata": {
        "id": "pJTyRCnyqPxa"
      },
      "outputs": [],
      "source": [
        "# Correct order of concatenation based on the specified track order\n",
        "all_mfccs = np.concatenate((mfccs_classical_agg, mfccs_rock_agg, mfccs_electronic_agg, mfccs_pop_agg), axis=0)\n",
        "all_chroma = np.concatenate((chroma_classical_agg, chroma_rock_agg, chroma_electronic_agg, chroma_pop_agg), axis=0)\n",
        "all_mel = np.concatenate((mel_classical_agg, mel_rock_agg, mel_electronic_agg, mel_pop_agg), axis=0)\n",
        "all_contrast = np.concatenate((contrast_classical_agg, contrast_rock_agg, contrast_electronic_agg, contrast_pop_agg), axis=0)\n",
        "all_tonnetz = np.concatenate((tonnetz_classical_agg, tonnetz_rock_agg, tonnetz_electronic_agg, tonnetz_pop_agg), axis=0)\n",
        "\n",
        "# Create a DataFrame from the concatenated features\n",
        "features_df = pd.DataFrame({\n",
        "    'track_id': range(1, 401),\n",
        "    'mfccs': list(all_mfccs),\n",
        "    'chroma': list(all_chroma),\n",
        "    'mel': list(all_mel),\n",
        "    'contrast': list(all_contrast),\n",
        "    'tonnetz': list(all_tonnetz)\n",
        "})\n"
      ]
    },
    {
      "cell_type": "code",
      "execution_count": null,
      "metadata": {
        "colab": {
          "base_uri": "https://localhost:8080/"
        },
        "id": "UPvBcTF5qgwg",
        "outputId": "578702f3-f86f-4317-ae0b-8135de54548d"
      },
      "outputs": [
        {
          "output_type": "stream",
          "name": "stdout",
          "text": [
            "Shape of concatenated feature arrays:\n",
            "All MFCCs: (400, 20)\n",
            "All Chroma: (400, 12)\n",
            "\n",
            "First few values of the first track (Classical genre):\n",
            "MFCCs: [-333.96432    147.23233     -7.0079765    2.8494134   -7.615041 ]\n",
            "\n",
            "First few values of the last track (Pop genre):\n",
            "MFCCs: [-172.49162   166.02737   -36.308556   54.78486     7.259889]\n"
          ]
        }
      ],
      "source": [
        "# Check the shape of the concatenated feature arrays\n",
        "print(\"Shape of concatenated feature arrays:\")\n",
        "print(f\"All MFCCs: {all_mfccs.shape}\")\n",
        "print(f\"All Chroma: {all_chroma.shape}\")\n",
        "# ... repeat for other features\n",
        "\n",
        "# Inspect the first few values of the first and last tracks in each feature set\n",
        "print(\"\\nFirst few values of the first track (Classical genre):\")\n",
        "print(f\"MFCCs: {all_mfccs[0][:5]}\")  # First 5 MFCC values of the first classical track\n",
        "\n",
        "print(\"\\nFirst few values of the last track (Pop genre):\")\n",
        "print(f\"MFCCs: {all_mfccs[-1][:5]}\")  # First 5 MFCC values of the last pop track\n"
      ]
    },
    {
      "cell_type": "code",
      "execution_count": null,
      "metadata": {
        "colab": {
          "base_uri": "https://localhost:8080/"
        },
        "id": "mUJLUPPiuL5h",
        "outputId": "0333ee75-1415-4f3c-87c8-03ea8af1d002"
      },
      "outputs": [
        {
          "output_type": "stream",
          "name": "stdout",
          "text": [
            "Columns in the original data DataFrame:\n",
            "Index(['track id', ' genre', ' amazement', ' solemnity', ' tenderness',\n",
            "       ' nostalgia', ' calmness', ' power', ' joyful_activation', ' tension',\n",
            "       ' sadness', ' mood', ' liked', ' disliked', ' age', ' gender',\n",
            "       ' mother tongue', 'target_emotion'],\n",
            "      dtype='object')\n"
          ]
        }
      ],
      "source": [
        "# Print the column names of the original data DataFrame\n",
        "print(\"Columns in the original data DataFrame:\")\n",
        "print(data.columns)\n"
      ]
    },
    {
      "cell_type": "markdown",
      "source": [
        "*Seventhly, \"Merging Features with Annotations,\" I am preparing and merging the feature data with the existing annotations. This step ensures that the feature data aligns with the track IDs in the annotations data.*"
      ],
      "metadata": {
        "id": "uaOWVEcoQyr5"
      }
    },
    {
      "cell_type": "code",
      "execution_count": null,
      "metadata": {
        "id": "Fn2lPdAJtoRp",
        "colab": {
          "base_uri": "https://localhost:8080/"
        },
        "outputId": "42627714-1554-43ef-b968-f68ea4af8570"
      },
      "outputs": [
        {
          "output_type": "stream",
          "name": "stdout",
          "text": [
            "Merging completed. The combined DataFrame is ready for use.\n"
          ]
        }
      ],
      "source": [
        "import pandas as pd\n",
        "\n",
        "# Assuming 'features_df' is already created from the previous step\n",
        "\n",
        "\n",
        "# Rename 'track id' to 'track_id' in the data DataFrame for consistency\n",
        "data = data.rename(columns={'track id': 'track_id'})\n",
        "\n",
        "# Prepare the features DataFrame by extracting mean values from the feature arrays\n",
        "features_df_expanded = pd.DataFrame({\n",
        "    'track_id': range(1, 401),\n",
        "    'mfccs_mean': [np.mean(mfccs, axis=0) for mfccs in features_df['mfccs']],\n",
        "    'chroma_mean': [np.mean(chroma, axis=0) for chroma in features_df['chroma']],\n",
        "    'mel_mean': [np.mean(mel, axis=0) for mel in features_df['mel']],\n",
        "    'contrast_mean': [np.mean(contrast, axis=0) for contrast in features_df['contrast']],\n",
        "    'tonnetz_mean': [np.mean(tonnetz, axis=0) for tonnetz in features_df['tonnetz']]\n",
        "})\n",
        "\n",
        "# Merge the features with the annotations\n",
        "combined_df = pd.merge(data, features_df_expanded, on='track_id')\n",
        "\n",
        "# Optional: Save the combined DataFrame to a new CSV file\n",
        "# combined_df.to_csv('/content/drive/My Drive/Colab Notebooks/combined_data.csv', index=False)\n",
        "\n",
        "print(\"Merging completed. The combined DataFrame is ready for use.\")\n",
        "\n"
      ]
    },
    {
      "cell_type": "code",
      "execution_count": null,
      "metadata": {
        "colab": {
          "base_uri": "https://localhost:8080/"
        },
        "id": "o-tSbtvyvLSm",
        "outputId": "8e895ae8-79f4-471c-c4b9-9c5c9b2a9e19"
      },
      "outputs": [
        {
          "output_type": "stream",
          "name": "stdout",
          "text": [
            "Shape of the combined DataFrame:\n",
            "(8407, 23)\n",
            "\n",
            "First few rows of the combined DataFrame:\n",
            "   track_id      genre   amazement   solemnity   tenderness   nostalgia  \\\n",
            "0         1  classical           0           1            0           0   \n",
            "1         1  classical           0           0            0           1   \n",
            "2         1  classical           0           0            0           1   \n",
            "3         1  classical           0           0            0           0   \n",
            "4         1  classical           0           0            0           1   \n",
            "\n",
            "    calmness   power   joyful_activation   tension  ...   disliked   age  \\\n",
            "0          0       0                   1         1  ...          0    21   \n",
            "1          0       0                   0         0  ...          1    41   \n",
            "2          0       0                   0         0  ...          0    24   \n",
            "3          1       0                   0         0  ...          0    32   \n",
            "4          1       0                   0         0  ...          1    21   \n",
            "\n",
            "    gender   mother tongue  target_emotion  mfccs_mean chroma_mean  mel_mean  \\\n",
            "0        1         English           Happy  -12.757938    0.202082  2.014371   \n",
            "1        1           Dutch         Neutral  -12.757938    0.202082  2.014371   \n",
            "2        1         English             Sad  -12.757938    0.202082  2.014371   \n",
            "3        0         Spanish         Neutral  -12.757938    0.202082  2.014371   \n",
            "4        0         English         Neutral  -12.757938    0.202082  2.014371   \n",
            "\n",
            "   contrast_mean  tonnetz_mean  \n",
            "0       27.20407     -0.061202  \n",
            "1       27.20407     -0.061202  \n",
            "2       27.20407     -0.061202  \n",
            "3       27.20407     -0.061202  \n",
            "4       27.20407     -0.061202  \n",
            "\n",
            "[5 rows x 23 columns]\n",
            "\n",
            "Last few rows of the combined DataFrame:\n",
            "      track_id  genre   amazement   solemnity   tenderness   nostalgia  \\\n",
            "8402       400    pop           1           1            0           0   \n",
            "8403       400    pop           0           0            0           1   \n",
            "8404       400    pop           0           0            0           0   \n",
            "8405       400    pop           1           0            0           0   \n",
            "8406       400    pop           1           0            0           0   \n",
            "\n",
            "       calmness   power   joyful_activation   tension  ...   disliked   age  \\\n",
            "8402          0       0                   1         0  ...          0    26   \n",
            "8403          0       0                   1         0  ...          1    29   \n",
            "8404          0       0                   0         1  ...          1    34   \n",
            "8405          0       0                   1         1  ...          0    39   \n",
            "8406          0       0                   0         1  ...          1    18   \n",
            "\n",
            "       gender   mother tongue  target_emotion  mfccs_mean chroma_mean  \\\n",
            "8402        1         Russian       Surprised   -0.829252    0.419997   \n",
            "8403        0         Russian           Happy   -0.829252    0.419997   \n",
            "8404        1          Polish           Angry   -0.829252    0.419997   \n",
            "8405        1          French            Fear   -0.829252    0.419997   \n",
            "8406        1         Russian           Angry   -0.829252    0.419997   \n",
            "\n",
            "      mel_mean  contrast_mean  tonnetz_mean  \n",
            "8402  5.092833      22.948484      0.054723  \n",
            "8403  5.092833      22.948484      0.054723  \n",
            "8404  5.092833      22.948484      0.054723  \n",
            "8405  5.092833      22.948484      0.054723  \n",
            "8406  5.092833      22.948484      0.054723  \n",
            "\n",
            "[5 rows x 23 columns]\n",
            "\n",
            "Check for NaN values in the combined DataFrame:\n",
            "track_id              0\n",
            " genre                0\n",
            " amazement            0\n",
            " solemnity            0\n",
            " tenderness           0\n",
            " nostalgia            0\n",
            " calmness             0\n",
            " power                0\n",
            " joyful_activation    0\n",
            " tension              0\n",
            " sadness              0\n",
            " mood                 0\n",
            " liked                0\n",
            " disliked             0\n",
            " age                  0\n",
            " gender               0\n",
            " mother tongue        0\n",
            "target_emotion        0\n",
            "mfccs_mean            0\n",
            "chroma_mean           0\n",
            "mel_mean              0\n",
            "contrast_mean         0\n",
            "tonnetz_mean          0\n",
            "dtype: int64\n"
          ]
        }
      ],
      "source": [
        "# Check the shape of the combined DataFrame\n",
        "print(\"Shape of the combined DataFrame:\")\n",
        "print(combined_df.shape)\n",
        "\n",
        "# Inspect the first few rows of the combined DataFrame\n",
        "print(\"\\nFirst few rows of the combined DataFrame:\")\n",
        "print(combined_df.head())\n",
        "\n",
        "# Inspect the last few rows of the combined DataFrame\n",
        "print(\"\\nLast few rows of the combined DataFrame:\")\n",
        "print(combined_df.tail())\n",
        "\n",
        "# Check for NaN values\n",
        "print(\"\\nCheck for NaN values in the combined DataFrame:\")\n",
        "print(combined_df.isna().sum())\n"
      ]
    },
    {
      "cell_type": "markdown",
      "source": [
        "*Eighthly, \"Emotion Mapping and Mood Shift Detection,\" I am defining functions and applying them to the combined DataFrame (combined_df) to map emotions and detect significant mood shifts for each track. This step contributes to the emotional analysis of the music data.*"
      ],
      "metadata": {
        "id": "JpeLoRlIRiQG"
      }
    },
    {
      "cell_type": "code",
      "execution_count": null,
      "metadata": {
        "id": "aHpRPhtLxMQV"
      },
      "outputs": [],
      "source": [
        "# Function to determine if there is a significant mood shift for a track\n",
        "def significant_mood_shift(row, threshold=2):\n",
        "    track_data = combined_df[combined_df['track_id'] == row['track_id']]\n",
        "    mood_range = track_data[' mood'].max() - track_data[' mood'].min()\n",
        "    return mood_range >= threshold\n",
        "\n",
        "# Function to map emotions based on dataset rows\n",
        "# Function to map emotions based on dataset rows\n",
        "def map_emotions(row):\n",
        "    # High joy and high mood indicate happiness\n",
        "    if row[' liked'] == 1 and row[' mood'] >= 4:\n",
        "        if row[' joyful_activation'] == 1:\n",
        "            return 'Happy'\n",
        "        return 'Happy'\n",
        "    # High tension and low mood indicate anger or fear\n",
        "    if row[' tension'] == 1:\n",
        "        if row[' power'] == 1 or row[' disliked'] == 1:\n",
        "            return 'Angry'\n",
        "        if row[' amazement'] == 1:\n",
        "            return 'Fear'\n",
        "\n",
        "    # Sadness can be a standalone indicator if mood is low\n",
        "    if row[' sadness'] == 1 and row[' mood'] <= 2:\n",
        "        return 'Sad'\n",
        "    # Amazement combined with a mood shift indicates surprise\n",
        "    if row[' amazement'] == 1 and significant_mood_shift(row):\n",
        "        return 'Surprised'\n",
        "    # Disgust is indicated by low tenderness, especially with solemnity\n",
        "    if row[' tenderness'] == 0 and row[' mood'] <= 2:\n",
        "        if row[' solemnity'] == 1:\n",
        "            return 'Disgust'\n",
        "    # Neutral is a default for moderate mood without strong indicators\n",
        "    if row[' mood'] == 3:\n",
        "        if row[' tension'] == 0 and row[' sadness'] == 0 and row[' joyful_activation'] == 0:\n",
        "            return 'Neutral'\n",
        "    # If no strong emotion is detected, the default is to check for the most dominant\n",
        "    # emotional indicators present and map accordingly\n",
        "    dominant_emotion = 'Neutral'  # Default to 'Neutral'\n",
        "    if row[' joyful_activation'] == 1:\n",
        "        dominant_emotion = 'Happy'\n",
        "    elif row[' sadness'] == 1:\n",
        "        dominant_emotion = 'Sad'\n",
        "    elif row[' tension'] == 1:\n",
        "        dominant_emotion = 'Angry'\n",
        "    return dominant_emotion\n",
        "\n",
        "# Apply the mapping function to the combined DataFrame\n",
        "combined_df['target_emotion'] = combined_df.apply(map_emotions, axis=1)\n"
      ]
    },
    {
      "cell_type": "code",
      "execution_count": null,
      "metadata": {
        "colab": {
          "base_uri": "https://localhost:8080/"
        },
        "id": "eUK0lwsIx39e",
        "outputId": "713fb945-684d-4590-c536-b12d5ba112cc"
      },
      "outputs": [
        {
          "output_type": "stream",
          "name": "stdout",
          "text": [
            "Shape of the combined DataFrame:\n",
            "(8407, 23)\n",
            "\n",
            "First few rows of the combined DataFrame:\n",
            "   track_id      genre   amazement   solemnity   tenderness   nostalgia  \\\n",
            "0         1  classical           0           1            0           0   \n",
            "1         1  classical           0           0            0           1   \n",
            "2         1  classical           0           0            0           1   \n",
            "3         1  classical           0           0            0           0   \n",
            "4         1  classical           0           0            0           1   \n",
            "\n",
            "    calmness   power   joyful_activation   tension  ...   disliked   age  \\\n",
            "0          0       0                   1         1  ...          0    21   \n",
            "1          0       0                   0         0  ...          1    41   \n",
            "2          0       0                   0         0  ...          0    24   \n",
            "3          1       0                   0         0  ...          0    32   \n",
            "4          1       0                   0         0  ...          1    21   \n",
            "\n",
            "    gender   mother tongue  target_emotion  mfccs_mean chroma_mean  mel_mean  \\\n",
            "0        1         English           Happy  -12.757938    0.202082  2.014371   \n",
            "1        1           Dutch         Neutral  -12.757938    0.202082  2.014371   \n",
            "2        1         English             Sad  -12.757938    0.202082  2.014371   \n",
            "3        0         Spanish         Neutral  -12.757938    0.202082  2.014371   \n",
            "4        0         English         Neutral  -12.757938    0.202082  2.014371   \n",
            "\n",
            "   contrast_mean  tonnetz_mean  \n",
            "0       27.20407     -0.061202  \n",
            "1       27.20407     -0.061202  \n",
            "2       27.20407     -0.061202  \n",
            "3       27.20407     -0.061202  \n",
            "4       27.20407     -0.061202  \n",
            "\n",
            "[5 rows x 23 columns]\n",
            "\n",
            "Last few rows of the combined DataFrame:\n",
            "      track_id  genre   amazement   solemnity   tenderness   nostalgia  \\\n",
            "8402       400    pop           1           1            0           0   \n",
            "8403       400    pop           0           0            0           1   \n",
            "8404       400    pop           0           0            0           0   \n",
            "8405       400    pop           1           0            0           0   \n",
            "8406       400    pop           1           0            0           0   \n",
            "\n",
            "       calmness   power   joyful_activation   tension  ...   disliked   age  \\\n",
            "8402          0       0                   1         0  ...          0    26   \n",
            "8403          0       0                   1         0  ...          1    29   \n",
            "8404          0       0                   0         1  ...          1    34   \n",
            "8405          0       0                   1         1  ...          0    39   \n",
            "8406          0       0                   0         1  ...          1    18   \n",
            "\n",
            "       gender   mother tongue  target_emotion  mfccs_mean chroma_mean  \\\n",
            "8402        1         Russian       Surprised   -0.829252    0.419997   \n",
            "8403        0         Russian           Happy   -0.829252    0.419997   \n",
            "8404        1          Polish           Angry   -0.829252    0.419997   \n",
            "8405        1          French            Fear   -0.829252    0.419997   \n",
            "8406        1         Russian           Angry   -0.829252    0.419997   \n",
            "\n",
            "      mel_mean  contrast_mean  tonnetz_mean  \n",
            "8402  5.092833      22.948484      0.054723  \n",
            "8403  5.092833      22.948484      0.054723  \n",
            "8404  5.092833      22.948484      0.054723  \n",
            "8405  5.092833      22.948484      0.054723  \n",
            "8406  5.092833      22.948484      0.054723  \n",
            "\n",
            "[5 rows x 23 columns]\n",
            "\n",
            "Check for NaN values in the combined DataFrame:\n",
            "track_id              0\n",
            " genre                0\n",
            " amazement            0\n",
            " solemnity            0\n",
            " tenderness           0\n",
            " nostalgia            0\n",
            " calmness             0\n",
            " power                0\n",
            " joyful_activation    0\n",
            " tension              0\n",
            " sadness              0\n",
            " mood                 0\n",
            " liked                0\n",
            " disliked             0\n",
            " age                  0\n",
            " gender               0\n",
            " mother tongue        0\n",
            "target_emotion        0\n",
            "mfccs_mean            0\n",
            "chroma_mean           0\n",
            "mel_mean              0\n",
            "contrast_mean         0\n",
            "tonnetz_mean          0\n",
            "dtype: int64\n"
          ]
        }
      ],
      "source": [
        "# Check the shape of the combined DataFrame\n",
        "print(\"Shape of the combined DataFrame:\")\n",
        "print(combined_df.shape)\n",
        "\n",
        "# Inspect the first few rows of the combined DataFrame\n",
        "print(\"\\nFirst few rows of the combined DataFrame:\")\n",
        "print(combined_df.head())\n",
        "\n",
        "# Inspect the last few rows of the combined DataFrame\n",
        "print(\"\\nLast few rows of the combined DataFrame:\")\n",
        "print(combined_df.tail())\n",
        "\n",
        "# Check for NaN values\n",
        "print(\"\\nCheck for NaN values in the combined DataFrame:\")\n",
        "print(combined_df.isna().sum())\n"
      ]
    },
    {
      "cell_type": "code",
      "execution_count": null,
      "metadata": {
        "id": "PA-7g5BHcKhd"
      },
      "outputs": [],
      "source": [
        "# Example: Assuming 'mfccs_mean_x' and 'mfccs_mean_y' are duplicates, keep one and drop the other\n",
        "combined_df = combined_df.drop(columns=['mfccs_mean_y', 'chroma_mean_y', 'mel_mean_y', 'contrast_mean_y', 'tonnetz_mean_y'])\n",
        "\n"
      ]
    },
    {
      "cell_type": "code",
      "execution_count": null,
      "metadata": {
        "colab": {
          "base_uri": "https://localhost:8080/"
        },
        "id": "GmgamDJ3c4sq",
        "outputId": "631e365d-05aa-40de-cbf0-c9967cc6b8d2"
      },
      "outputs": [
        {
          "output_type": "stream",
          "name": "stdout",
          "text": [
            "Updated column names:\n",
            "Index(['track_id', ' genre', ' amazement', ' solemnity', ' tenderness',\n",
            "       ' nostalgia', ' calmness', ' power', ' joyful_activation', ' tension',\n",
            "       ' sadness', ' mood', ' liked', ' disliked', ' age', ' gender',\n",
            "       ' mother tongue', 'mfccs_mean', 'chroma_mean', 'mel_mean',\n",
            "       'contrast_mean', 'tonnetz_mean', 'target_emotion'],\n",
            "      dtype='object')\n"
          ]
        }
      ],
      "source": [
        "# Rename columns if necessary\n",
        "# Rename columns with '_x' suffix\n",
        "combined_df = combined_df.rename(columns=lambda x: x.replace('_x', ''))\n",
        "\n",
        "# Optionally, you can print the new column names to confirm the changes\n",
        "print(\"Updated column names:\")\n",
        "print(combined_df.columns)"
      ]
    },
    {
      "cell_type": "code",
      "execution_count": null,
      "metadata": {
        "colab": {
          "base_uri": "https://localhost:8080/"
        },
        "id": "7pvPD2LlQGD4",
        "outputId": "3e09331b-6506-4480-f293-901b9a42e90f"
      },
      "outputs": [
        {
          "name": "stdout",
          "output_type": "stream",
          "text": [
            "Number of duplicate rows: 140\n",
            "Duplicate rows:\n",
            "      track_id      genre   amazement   solemnity   tenderness   nostalgia  \\\n",
            "85           2  classical           0           0            1           0   \n",
            "89           2  classical           0           0            1           0   \n",
            "154          4  classical           0           0            0           0   \n",
            "648         14  classical           0           0            0           0   \n",
            "719         16  classical           0           0            0           0   \n",
            "...        ...        ...         ...         ...          ...         ...   \n",
            "8048       370        pop           0           0            0           1   \n",
            "8160       380        pop           0           1            0           0   \n",
            "8202       383        pop           0           0            1           0   \n",
            "8333       394        pop           0           0            0           0   \n",
            "8401       400        pop           0           0            0           0   \n",
            "\n",
            "       calmness   power   joyful_activation   tension  ...   disliked   age  \\\n",
            "85            0       0                   0         0  ...          0    34   \n",
            "89            0       0                   0         0  ...          0    34   \n",
            "154           1       0                   0         0  ...          0    36   \n",
            "648           0       0                   0         1  ...          0    33   \n",
            "719           0       0                   0         1  ...          0    25   \n",
            "...         ...     ...                 ...       ...  ...        ...   ...   \n",
            "8048          0       0                   0         0  ...          0    23   \n",
            "8160          0       0                   0         0  ...          0    20   \n",
            "8202          0       0                   1         0  ...          0    18   \n",
            "8333          0       1                   0         1  ...          0    26   \n",
            "8401          0       0                   0         1  ...          0    18   \n",
            "\n",
            "       gender   mother tongue  mfccs_mean  chroma_mean  mel_mean  \\\n",
            "85          1      Portuguese   -7.275162     0.263195  2.635717   \n",
            "89          1      Portuguese   -7.275162     0.263195  2.635717   \n",
            "154         1         Spanish  -11.663244     0.224967  0.665999   \n",
            "648         0         Russian   -8.262914     0.237719  1.345452   \n",
            "719         1         Russian   -7.180552     0.384132  1.369496   \n",
            "...       ...             ...         ...          ...       ...   \n",
            "8048        1         Russian   -5.061616     0.324619  3.533430   \n",
            "8160        1          German    6.020685     0.512947  8.198948   \n",
            "8202        0       Hungarian    2.447449     0.483473  6.571648   \n",
            "8333        1         Chinese    1.896784     0.454214  4.974402   \n",
            "8401        1           Dutch   -0.829252     0.419997  5.092833   \n",
            "\n",
            "      contrast_mean  tonnetz_mean  target_emotion  \n",
            "85        21.912947      0.044901         Neutral  \n",
            "89        21.912947      0.044901         Neutral  \n",
            "154       23.446459      0.048388             Sad  \n",
            "648       24.799191      0.026525             Sad  \n",
            "719       21.722778      0.014962           Happy  \n",
            "...             ...           ...             ...  \n",
            "8048      22.325946      0.050457             Sad  \n",
            "8160      21.514959      0.016176         Neutral  \n",
            "8202      20.528257     -0.001180           Happy  \n",
            "8333      21.265255      0.015793           Angry  \n",
            "8401      22.948484      0.054723           Angry  \n",
            "\n",
            "[140 rows x 23 columns]\n"
          ]
        }
      ],
      "source": [
        "# Find duplicate rows (excluding the first occurrence)\n",
        "duplicate_rows = combined_df[combined_df.duplicated()]\n",
        "\n",
        "# Check the number of duplicate rows\n",
        "print(f\"Number of duplicate rows: {duplicate_rows.shape[0]}\")\n",
        "\n",
        "# Display the duplicate rows\n",
        "if not duplicate_rows.empty:\n",
        "    print(\"Duplicate rows:\")\n",
        "    print(duplicate_rows)\n",
        "else:\n",
        "    print(\"No duplicate rows found.\")\n",
        "\n",
        "# Remove duplicate rows\n",
        "#combined_df = combined_df.drop_duplicates()\n",
        "\n"
      ]
    },
    {
      "cell_type": "code",
      "execution_count": null,
      "metadata": {
        "id": "X5RVqDq_QPED"
      },
      "outputs": [],
      "source": []
    },
    {
      "cell_type": "code",
      "execution_count": null,
      "metadata": {
        "colab": {
          "base_uri": "https://localhost:8080/"
        },
        "id": "0g8-kpviQPnh",
        "outputId": "ae2000e8-10b4-4748-b3f6-72b4dda4d74a"
      },
      "outputs": [
        {
          "output_type": "stream",
          "name": "stdout",
          "text": [
            "Shape of the combined DataFrame:\n",
            "(8407, 23)\n",
            "\n",
            "First few rows of the combined DataFrame:\n",
            "   track_id      genre   amazement   solemnity   tenderness   nostalgia  \\\n",
            "0         1  classical           0           1            0           0   \n",
            "1         1  classical           0           0            0           1   \n",
            "2         1  classical           0           0            0           1   \n",
            "3         1  classical           0           0            0           0   \n",
            "4         1  classical           0           0            0           1   \n",
            "\n",
            "    calmness   power   joyful_activation   tension  ...   disliked   age  \\\n",
            "0          0       0                   1         1  ...          0    21   \n",
            "1          0       0                   0         0  ...          1    41   \n",
            "2          0       0                   0         0  ...          0    24   \n",
            "3          1       0                   0         0  ...          0    32   \n",
            "4          1       0                   0         0  ...          1    21   \n",
            "\n",
            "    gender   mother tongue  target_emotion  mfccs_mean chroma_mean  mel_mean  \\\n",
            "0        1         English           Happy  -12.757938    0.202082  2.014371   \n",
            "1        1           Dutch         Neutral  -12.757938    0.202082  2.014371   \n",
            "2        1         English             Sad  -12.757938    0.202082  2.014371   \n",
            "3        0         Spanish         Neutral  -12.757938    0.202082  2.014371   \n",
            "4        0         English         Neutral  -12.757938    0.202082  2.014371   \n",
            "\n",
            "   contrast_mean  tonnetz_mean  \n",
            "0       27.20407     -0.061202  \n",
            "1       27.20407     -0.061202  \n",
            "2       27.20407     -0.061202  \n",
            "3       27.20407     -0.061202  \n",
            "4       27.20407     -0.061202  \n",
            "\n",
            "[5 rows x 23 columns]\n",
            "\n",
            "Last few rows of the combined DataFrame:\n",
            "      track_id  genre   amazement   solemnity   tenderness   nostalgia  \\\n",
            "8402       400    pop           1           1            0           0   \n",
            "8403       400    pop           0           0            0           1   \n",
            "8404       400    pop           0           0            0           0   \n",
            "8405       400    pop           1           0            0           0   \n",
            "8406       400    pop           1           0            0           0   \n",
            "\n",
            "       calmness   power   joyful_activation   tension  ...   disliked   age  \\\n",
            "8402          0       0                   1         0  ...          0    26   \n",
            "8403          0       0                   1         0  ...          1    29   \n",
            "8404          0       0                   0         1  ...          1    34   \n",
            "8405          0       0                   1         1  ...          0    39   \n",
            "8406          0       0                   0         1  ...          1    18   \n",
            "\n",
            "       gender   mother tongue  target_emotion  mfccs_mean chroma_mean  \\\n",
            "8402        1         Russian       Surprised   -0.829252    0.419997   \n",
            "8403        0         Russian           Happy   -0.829252    0.419997   \n",
            "8404        1          Polish           Angry   -0.829252    0.419997   \n",
            "8405        1          French            Fear   -0.829252    0.419997   \n",
            "8406        1         Russian           Angry   -0.829252    0.419997   \n",
            "\n",
            "      mel_mean  contrast_mean  tonnetz_mean  \n",
            "8402  5.092833      22.948484      0.054723  \n",
            "8403  5.092833      22.948484      0.054723  \n",
            "8404  5.092833      22.948484      0.054723  \n",
            "8405  5.092833      22.948484      0.054723  \n",
            "8406  5.092833      22.948484      0.054723  \n",
            "\n",
            "[5 rows x 23 columns]\n",
            "\n",
            "Check for NaN values in the combined DataFrame:\n",
            "track_id              0\n",
            " genre                0\n",
            " amazement            0\n",
            " solemnity            0\n",
            " tenderness           0\n",
            " nostalgia            0\n",
            " calmness             0\n",
            " power                0\n",
            " joyful_activation    0\n",
            " tension              0\n",
            " sadness              0\n",
            " mood                 0\n",
            " liked                0\n",
            " disliked             0\n",
            " age                  0\n",
            " gender               0\n",
            " mother tongue        0\n",
            "target_emotion        0\n",
            "mfccs_mean            0\n",
            "chroma_mean           0\n",
            "mel_mean              0\n",
            "contrast_mean         0\n",
            "tonnetz_mean          0\n",
            "dtype: int64\n"
          ]
        }
      ],
      "source": [
        "# Check the shape of the combined DataFrame\n",
        "print(\"Shape of the combined DataFrame:\")\n",
        "print(combined_df.shape)\n",
        "\n",
        "# Inspect the first few rows of the combined DataFrame\n",
        "print(\"\\nFirst few rows of the combined DataFrame:\")\n",
        "print(combined_df.head())\n",
        "\n",
        "# Inspect the last few rows of the combined DataFrame\n",
        "print(\"\\nLast few rows of the combined DataFrame:\")\n",
        "print(combined_df.tail())\n",
        "\n",
        "# Check for NaN values\n",
        "print(\"\\nCheck for NaN values in the combined DataFrame:\")\n",
        "print(combined_df.isna().sum())\n"
      ]
    },
    {
      "cell_type": "markdown",
      "source": [
        "*Ninthly \"Encoding Categorical Variables and Normalization,\" I am performing data preprocessing tasks to prepare the dataset for machine learning model training.*"
      ],
      "metadata": {
        "id": "kRMh-a5YSILy"
      }
    },
    {
      "cell_type": "code",
      "execution_count": null,
      "metadata": {
        "id": "505IPQJleAFA"
      },
      "outputs": [],
      "source": [
        "# Encoding categorical variables\n",
        "combined_df = pd.get_dummies(combined_df, columns=[' genre', ' mother tongue'])\n"
      ]
    },
    {
      "cell_type": "code",
      "execution_count": null,
      "metadata": {
        "id": "LQZbkN9geFqy"
      },
      "outputs": [],
      "source": [
        "from sklearn.preprocessing import MinMaxScaler\n",
        "\n",
        "# Features to be normalized (assuming these are your feature columns)\n",
        "features_to_normalize = ['mfccs_mean', 'chroma_mean', 'mel_mean', 'contrast_mean', 'tonnetz_mean', ' age']\n",
        "\n",
        "# Applying normalization\n",
        "scaler = MinMaxScaler()\n",
        "combined_df[features_to_normalize] = scaler.fit_transform(combined_df[features_to_normalize])\n"
      ]
    },
    {
      "cell_type": "code",
      "execution_count": null,
      "metadata": {
        "id": "nx2JsyBTeYsp"
      },
      "outputs": [],
      "source": [
        "# Assuming 'target_emotion' is your target variable\n",
        "X = combined_df.drop(columns=['track_id', 'target_emotion'])\n",
        "y = combined_df['target_emotion']\n"
      ]
    },
    {
      "cell_type": "markdown",
      "source": [
        "*Tenthly,\"Feature Selection using Recursive Feature Elimination with Cross-Validation (RFECV),\" I am performing feature selection to identify the most relevant features for the machine learning model.*"
      ],
      "metadata": {
        "id": "danOTu0cSX6l"
      }
    },
    {
      "cell_type": "code",
      "execution_count": null,
      "metadata": {
        "id": "rEndo3SVeeIG",
        "colab": {
          "base_uri": "https://localhost:8080/",
          "height": 591
        },
        "outputId": "44b5f93f-e1cb-4500-d593-80f531959a11"
      },
      "outputs": [
        {
          "output_type": "stream",
          "name": "stdout",
          "text": [
            "Optimal number of features:  16\n",
            "Best features:  Index([' amazement', ' solemnity', ' calmness', ' power', ' joyful_activation',\n",
            "       ' tension', ' sadness', ' mood', ' liked', ' disliked', ' age',\n",
            "       'mfccs_mean', 'chroma_mean', 'mel_mean', 'contrast_mean',\n",
            "       'tonnetz_mean'],\n",
            "      dtype='object')\n"
          ]
        },
        {
          "output_type": "display_data",
          "data": {
            "text/plain": [
              "<Figure size 640x480 with 1 Axes>"
            ],
            "image/png": "[encoded data removed]"
          },
          "metadata": {}
        },
        {
          "output_type": "stream",
          "name": "stdout",
          "text": [
            "Highest cross-validation accuracy: 0.9820\n"
          ]
        }
      ],
      "source": [
        "from sklearn.feature_selection import RFECV\n",
        "from sklearn.ensemble import RandomForestClassifier\n",
        "from sklearn.model_selection import StratifiedKFold\n",
        "import matplotlib.pyplot as plt\n",
        "\n",
        "# Initialize a classifier for RFECV\n",
        "classifier = RandomForestClassifier(random_state=42)\n",
        "\n",
        "# Create RFECV model\n",
        "rfecv = RFECV(estimator=classifier, step=1, cv=StratifiedKFold(5), scoring='accuracy')\n",
        "\n",
        "# Fit RFECV\n",
        "rfecv.fit(X, y)\n",
        "\n",
        "# Print optimal number of features and best features\n",
        "print(\"Optimal number of features: \", rfecv.n_features_)\n",
        "print(\"Best features: \", X.columns[rfecv.support_])\n",
        "\n",
        "# Plot number of features VS. cross-validation scores\n",
        "# Plot number of features VS. cross-validation scores\n",
        "plt.figure()\n",
        "plt.xlabel(\"Number of features selected\")\n",
        "plt.ylabel(\"Cross-validation score (number of correct classifications)\")\n",
        "\n",
        "# Use the correct attribute name based on your scikit-learn version\n",
        "try:\n",
        "    grid_scores = rfecv.grid_scores_\n",
        "except AttributeError:\n",
        "    grid_scores = rfecv.cv_results_['mean_test_score']\n",
        "\n",
        "plt.plot(range(1, len(grid_scores) + 1), grid_scores)\n",
        "plt.show()\n",
        "\n",
        "\n",
        "# Print the highest cross-validation accuracy\n",
        "print(f\"Highest cross-validation accuracy: {max(grid_scores):.4f}\")\n"
      ]
    },
    {
      "cell_type": "code",
      "execution_count": null,
      "metadata": {
        "id": "tfDLlb-Dniqs"
      },
      "outputs": [],
      "source": [
        "!pip install tensorflow==2.8.0"
      ]
    },
    {
      "cell_type": "code",
      "execution_count": null,
      "metadata": {
        "colab": {
          "base_uri": "https://localhost:8080/"
        },
        "id": "ilObInM-qhrh",
        "outputId": "fcf8933d-1f58-41ab-92ae-1709250b279c"
      },
      "outputs": [
        {
          "name": "stdout",
          "output_type": "stream",
          "text": [
            "Colab only includes TensorFlow 2.x; %tensorflow_version has no effect.\n"
          ]
        }
      ],
      "source": [
        "%tensorflow_version 2.x\n"
      ]
    },
    {
      "cell_type": "code",
      "execution_count": null,
      "metadata": {
        "colab": {
          "base_uri": "https://localhost:8080/"
        },
        "id": "dDJVNnZ4q6Mg",
        "outputId": "1d4e26c0-0c35-43e6-bbf9-b4e74ced2fe6"
      },
      "outputs": [
        {
          "name": "stdout",
          "output_type": "stream",
          "text": [
            "2.14.0\n"
          ]
        }
      ],
      "source": [
        "import tensorflow as tf\n",
        "from tensorflow import keras\n",
        "print(tf.__version__)\n"
      ]
    },
    {
      "cell_type": "markdown",
      "source": [
        "*Eleventhly, \"Data Preparation and Train-Test Split,\" I am preparing the dataset for machine learning, encoding the target variable, and splitting the data into training and testing sets.*"
      ],
      "metadata": {
        "id": "lGXWmHtQS3uX"
      }
    },
    {
      "cell_type": "code",
      "execution_count": null,
      "metadata": {
        "colab": {
          "base_uri": "https://localhost:8080/"
        },
        "id": "HNRQmMoSne-f",
        "outputId": "bde52318-e59d-4876-b725-ef90c7c41404"
      },
      "outputs": [
        {
          "output_type": "stream",
          "name": "stdout",
          "text": [
            "Data preparation and splitting done.\n"
          ]
        }
      ],
      "source": [
        "from sklearn.model_selection import train_test_split\n",
        "from sklearn.preprocessing import LabelEncoder\n",
        "from tensorflow.keras.utils import to_categorical\n",
        "\n",
        "# Assuming combined_df is your DataFrame with all data\n",
        "# Extract the selected features and the target variable\n",
        "features = combined_df[[' amazement', ' solemnity', ' calmness', ' power', ' joyful_activation',\n",
        "                        ' tension', ' sadness', ' mood', ' liked', ' disliked', ' age',\n",
        "                        'mfccs_mean', 'chroma_mean', 'mel_mean', 'contrast_mean',\n",
        "                        'tonnetz_mean']].values\n",
        "\n",
        "# 'target_emotion' is the column with the emotional labels\n",
        "target = combined_df['target_emotion'].values\n",
        "\n",
        "# Encode the categorical target variable\n",
        "label_encoder = LabelEncoder()\n",
        "encoded_target = label_encoder.fit_transform(target)\n",
        "\n",
        "# Convert the encoded target to categorical\n",
        "categorical_target = to_categorical(encoded_target)\n",
        "\n",
        "# Split the data into train and test sets\n",
        "X_train, X_test, y_train, y_test = train_test_split(features, categorical_target, test_size=0.2, random_state=42)\n",
        "\n",
        "print(\"Data preparation and splitting done.\")\n"
      ]
    },
    {
      "cell_type": "markdown",
      "source": [
        "*Twelfthly, \"Neural Network Model Training,\" I am defining and training a more complex Multi-Layer Perceptron (MLP) model for music emotion classification*."
      ],
      "metadata": {
        "id": "F1QoZY0xTRqf"
      }
    },
    {
      "cell_type": "code",
      "execution_count": null,
      "metadata": {
        "colab": {
          "base_uri": "https://localhost:8080/"
        },
        "id": "txyh1L7A4Nd0",
        "outputId": "f16e873b-7cd8-49a9-f05f-c130e9e23d8a"
      },
      "outputs": [
        {
          "output_type": "stream",
          "name": "stdout",
          "text": [
            "Epoch 1/100\n",
            "169/169 [==============================] - 1s 3ms/step - loss: 1.1454 - accuracy: 0.5645 - val_loss: 0.4753 - val_accuracy: 0.8580\n",
            "Epoch 2/100\n",
            "169/169 [==============================] - 0s 2ms/step - loss: 0.4939 - accuracy: 0.8381 - val_loss: 0.2329 - val_accuracy: 0.9197\n",
            "Epoch 3/100\n",
            "169/169 [==============================] - 0s 2ms/step - loss: 0.2993 - accuracy: 0.8941 - val_loss: 0.1411 - val_accuracy: 0.9435\n",
            "Epoch 4/100\n",
            "169/169 [==============================] - 0s 2ms/step - loss: 0.2034 - accuracy: 0.9271 - val_loss: 0.0792 - val_accuracy: 0.9747\n",
            "Epoch 5/100\n",
            "169/169 [==============================] - 0s 2ms/step - loss: 0.1627 - accuracy: 0.9414 - val_loss: 0.0528 - val_accuracy: 0.9859\n",
            "Epoch 6/100\n",
            "169/169 [==============================] - 0s 2ms/step - loss: 0.1268 - accuracy: 0.9556 - val_loss: 0.0402 - val_accuracy: 0.9896\n",
            "Epoch 7/100\n",
            "169/169 [==============================] - 0s 2ms/step - loss: 0.1032 - accuracy: 0.9654 - val_loss: 0.0366 - val_accuracy: 0.9896\n",
            "Epoch 8/100\n",
            "169/169 [==============================] - 1s 3ms/step - loss: 0.0834 - accuracy: 0.9710 - val_loss: 0.0245 - val_accuracy: 0.9933\n",
            "Epoch 9/100\n",
            "169/169 [==============================] - 0s 3ms/step - loss: 0.0871 - accuracy: 0.9736 - val_loss: 0.0250 - val_accuracy: 0.9926\n",
            "Epoch 10/100\n",
            "169/169 [==============================] - 0s 3ms/step - loss: 0.0656 - accuracy: 0.9803 - val_loss: 0.0274 - val_accuracy: 0.9911\n",
            "Epoch 11/100\n",
            "169/169 [==============================] - 0s 3ms/step - loss: 0.0586 - accuracy: 0.9822 - val_loss: 0.0174 - val_accuracy: 0.9963\n",
            "Epoch 12/100\n",
            "169/169 [==============================] - 1s 3ms/step - loss: 0.0592 - accuracy: 0.9820 - val_loss: 0.0177 - val_accuracy: 0.9963\n",
            "Epoch 13/100\n",
            "169/169 [==============================] - 0s 3ms/step - loss: 0.0496 - accuracy: 0.9857 - val_loss: 0.0159 - val_accuracy: 0.9941\n",
            "Epoch 14/100\n",
            "169/169 [==============================] - 1s 3ms/step - loss: 0.0493 - accuracy: 0.9861 - val_loss: 0.0184 - val_accuracy: 0.9970\n",
            "Epoch 15/100\n",
            "169/169 [==============================] - 0s 2ms/step - loss: 0.0463 - accuracy: 0.9855 - val_loss: 0.0179 - val_accuracy: 0.9926\n",
            "Epoch 16/100\n",
            "169/169 [==============================] - 0s 2ms/step - loss: 0.0440 - accuracy: 0.9868 - val_loss: 0.0168 - val_accuracy: 0.9948\n",
            "Epoch 17/100\n",
            "169/169 [==============================] - 0s 2ms/step - loss: 0.0420 - accuracy: 0.9881 - val_loss: 0.0165 - val_accuracy: 0.9941\n",
            "Epoch 18/100\n",
            "169/169 [==============================] - 0s 2ms/step - loss: 0.0424 - accuracy: 0.9883 - val_loss: 0.0200 - val_accuracy: 0.9926\n",
            "Epoch 19/100\n",
            "169/169 [==============================] - 0s 2ms/step - loss: 0.0327 - accuracy: 0.9900 - val_loss: 0.0145 - val_accuracy: 0.9955\n",
            "Epoch 20/100\n",
            "169/169 [==============================] - 0s 2ms/step - loss: 0.0349 - accuracy: 0.9894 - val_loss: 0.0152 - val_accuracy: 0.9970\n",
            "Epoch 21/100\n",
            "169/169 [==============================] - 0s 2ms/step - loss: 0.0373 - accuracy: 0.9894 - val_loss: 0.0149 - val_accuracy: 0.9955\n",
            "Epoch 22/100\n",
            "169/169 [==============================] - 0s 2ms/step - loss: 0.0339 - accuracy: 0.9907 - val_loss: 0.0132 - val_accuracy: 0.9963\n",
            "Epoch 23/100\n",
            "169/169 [==============================] - 0s 2ms/step - loss: 0.0296 - accuracy: 0.9907 - val_loss: 0.0124 - val_accuracy: 0.9970\n",
            "Epoch 24/100\n",
            "169/169 [==============================] - 0s 2ms/step - loss: 0.0340 - accuracy: 0.9890 - val_loss: 0.0189 - val_accuracy: 0.9926\n",
            "Epoch 25/100\n",
            "169/169 [==============================] - 0s 2ms/step - loss: 0.0311 - accuracy: 0.9916 - val_loss: 0.0159 - val_accuracy: 0.9963\n",
            "Epoch 26/100\n",
            "169/169 [==============================] - 0s 2ms/step - loss: 0.0307 - accuracy: 0.9922 - val_loss: 0.0138 - val_accuracy: 0.9941\n",
            "Epoch 27/100\n",
            "169/169 [==============================] - 0s 2ms/step - loss: 0.0304 - accuracy: 0.9920 - val_loss: 0.0130 - val_accuracy: 0.9970\n",
            "Epoch 28/100\n",
            "169/169 [==============================] - 0s 2ms/step - loss: 0.0286 - accuracy: 0.9924 - val_loss: 0.0152 - val_accuracy: 0.9948\n",
            "Epoch 29/100\n",
            "169/169 [==============================] - 0s 2ms/step - loss: 0.0307 - accuracy: 0.9914 - val_loss: 0.0145 - val_accuracy: 0.9970\n",
            "Epoch 30/100\n",
            "169/169 [==============================] - 0s 2ms/step - loss: 0.0263 - accuracy: 0.9928 - val_loss: 0.0162 - val_accuracy: 0.9941\n",
            "Epoch 31/100\n",
            "169/169 [==============================] - 0s 2ms/step - loss: 0.0283 - accuracy: 0.9928 - val_loss: 0.0148 - val_accuracy: 0.9955\n",
            "Epoch 32/100\n",
            "169/169 [==============================] - 0s 2ms/step - loss: 0.0232 - accuracy: 0.9928 - val_loss: 0.0145 - val_accuracy: 0.9948\n",
            "Epoch 33/100\n",
            "169/169 [==============================] - 0s 2ms/step - loss: 0.0238 - accuracy: 0.9928 - val_loss: 0.0148 - val_accuracy: 0.9955\n",
            "Epoch 34/100\n",
            "169/169 [==============================] - 0s 2ms/step - loss: 0.0270 - accuracy: 0.9924 - val_loss: 0.0151 - val_accuracy: 0.9948\n",
            "Epoch 35/100\n",
            "169/169 [==============================] - 0s 2ms/step - loss: 0.0226 - accuracy: 0.9939 - val_loss: 0.0160 - val_accuracy: 0.9948\n",
            "Epoch 36/100\n",
            "169/169 [==============================] - 0s 2ms/step - loss: 0.0254 - accuracy: 0.9926 - val_loss: 0.0141 - val_accuracy: 0.9955\n",
            "Epoch 37/100\n",
            "169/169 [==============================] - 0s 2ms/step - loss: 0.0243 - accuracy: 0.9920 - val_loss: 0.0139 - val_accuracy: 0.9963\n",
            "Epoch 38/100\n",
            "169/169 [==============================] - 0s 2ms/step - loss: 0.0228 - accuracy: 0.9933 - val_loss: 0.0143 - val_accuracy: 0.9955\n",
            "Epoch 39/100\n",
            "169/169 [==============================] - 0s 2ms/step - loss: 0.0216 - accuracy: 0.9942 - val_loss: 0.0148 - val_accuracy: 0.9963\n",
            "Epoch 40/100\n",
            "169/169 [==============================] - 0s 2ms/step - loss: 0.0197 - accuracy: 0.9942 - val_loss: 0.0162 - val_accuracy: 0.9948\n",
            "Epoch 41/100\n",
            "169/169 [==============================] - 1s 3ms/step - loss: 0.0218 - accuracy: 0.9933 - val_loss: 0.0157 - val_accuracy: 0.9963\n",
            "Epoch 42/100\n",
            "169/169 [==============================] - 0s 3ms/step - loss: 0.0217 - accuracy: 0.9948 - val_loss: 0.0176 - val_accuracy: 0.9955\n",
            "Epoch 43/100\n",
            "169/169 [==============================] - 0s 3ms/step - loss: 0.0218 - accuracy: 0.9941 - val_loss: 0.0166 - val_accuracy: 0.9948\n",
            "Epoch 44/100\n",
            "169/169 [==============================] - 0s 3ms/step - loss: 0.0238 - accuracy: 0.9929 - val_loss: 0.0135 - val_accuracy: 0.9955\n",
            "Epoch 45/100\n",
            "169/169 [==============================] - 1s 3ms/step - loss: 0.0259 - accuracy: 0.9924 - val_loss: 0.0112 - val_accuracy: 0.9963\n",
            "Epoch 46/100\n",
            "169/169 [==============================] - 0s 3ms/step - loss: 0.0214 - accuracy: 0.9933 - val_loss: 0.0154 - val_accuracy: 0.9941\n",
            "Epoch 47/100\n",
            "169/169 [==============================] - 0s 3ms/step - loss: 0.0214 - accuracy: 0.9941 - val_loss: 0.0127 - val_accuracy: 0.9955\n",
            "Epoch 48/100\n",
            "169/169 [==============================] - 0s 2ms/step - loss: 0.0189 - accuracy: 0.9948 - val_loss: 0.0185 - val_accuracy: 0.9941\n",
            "Epoch 49/100\n",
            "169/169 [==============================] - 0s 2ms/step - loss: 0.0282 - accuracy: 0.9909 - val_loss: 0.0168 - val_accuracy: 0.9933\n",
            "Epoch 50/100\n",
            "169/169 [==============================] - 0s 2ms/step - loss: 0.0181 - accuracy: 0.9948 - val_loss: 0.0135 - val_accuracy: 0.9955\n",
            "Epoch 51/100\n",
            "169/169 [==============================] - 0s 2ms/step - loss: 0.0207 - accuracy: 0.9944 - val_loss: 0.0137 - val_accuracy: 0.9941\n",
            "Epoch 52/100\n",
            "169/169 [==============================] - 0s 2ms/step - loss: 0.0200 - accuracy: 0.9942 - val_loss: 0.0128 - val_accuracy: 0.9970\n",
            "Epoch 53/100\n",
            "169/169 [==============================] - 0s 2ms/step - loss: 0.0204 - accuracy: 0.9933 - val_loss: 0.0142 - val_accuracy: 0.9941\n",
            "Epoch 54/100\n",
            "169/169 [==============================] - 0s 2ms/step - loss: 0.0208 - accuracy: 0.9933 - val_loss: 0.0127 - val_accuracy: 0.9955\n",
            "Epoch 55/100\n",
            "169/169 [==============================] - 0s 2ms/step - loss: 0.0213 - accuracy: 0.9933 - val_loss: 0.0127 - val_accuracy: 0.9941\n",
            "Epoch 56/100\n",
            "169/169 [==============================] - 0s 2ms/step - loss: 0.0166 - accuracy: 0.9950 - val_loss: 0.0118 - val_accuracy: 0.9970\n",
            "Epoch 57/100\n",
            "169/169 [==============================] - 0s 2ms/step - loss: 0.0194 - accuracy: 0.9939 - val_loss: 0.0137 - val_accuracy: 0.9955\n",
            "Epoch 58/100\n",
            "169/169 [==============================] - 0s 2ms/step - loss: 0.0179 - accuracy: 0.9944 - val_loss: 0.0129 - val_accuracy: 0.9955\n",
            "Epoch 59/100\n",
            "169/169 [==============================] - 0s 2ms/step - loss: 0.0222 - accuracy: 0.9933 - val_loss: 0.0144 - val_accuracy: 0.9955\n",
            "Epoch 60/100\n",
            "169/169 [==============================] - 0s 2ms/step - loss: 0.0182 - accuracy: 0.9935 - val_loss: 0.0125 - val_accuracy: 0.9963\n",
            "Epoch 61/100\n",
            "169/169 [==============================] - 0s 2ms/step - loss: 0.0167 - accuracy: 0.9957 - val_loss: 0.0133 - val_accuracy: 0.9955\n",
            "Epoch 62/100\n",
            "169/169 [==============================] - 0s 2ms/step - loss: 0.0146 - accuracy: 0.9955 - val_loss: 0.0127 - val_accuracy: 0.9970\n",
            "Epoch 63/100\n",
            "169/169 [==============================] - 0s 2ms/step - loss: 0.0196 - accuracy: 0.9939 - val_loss: 0.0140 - val_accuracy: 0.9955\n",
            "Epoch 64/100\n",
            "169/169 [==============================] - 0s 2ms/step - loss: 0.0176 - accuracy: 0.9931 - val_loss: 0.0130 - val_accuracy: 0.9955\n",
            "Epoch 65/100\n",
            "169/169 [==============================] - 0s 2ms/step - loss: 0.0197 - accuracy: 0.9941 - val_loss: 0.0135 - val_accuracy: 0.9948\n",
            "Epoch 66/100\n",
            "169/169 [==============================] - 0s 2ms/step - loss: 0.0196 - accuracy: 0.9933 - val_loss: 0.0130 - val_accuracy: 0.9963\n",
            "Epoch 67/100\n",
            "169/169 [==============================] - 0s 2ms/step - loss: 0.0169 - accuracy: 0.9948 - val_loss: 0.0147 - val_accuracy: 0.9955\n",
            "Epoch 68/100\n",
            "169/169 [==============================] - 0s 2ms/step - loss: 0.0158 - accuracy: 0.9950 - val_loss: 0.0199 - val_accuracy: 0.9933\n",
            "Epoch 69/100\n",
            "169/169 [==============================] - 0s 2ms/step - loss: 0.0181 - accuracy: 0.9954 - val_loss: 0.0154 - val_accuracy: 0.9955\n",
            "Epoch 70/100\n",
            "169/169 [==============================] - 0s 2ms/step - loss: 0.0152 - accuracy: 0.9950 - val_loss: 0.0192 - val_accuracy: 0.9941\n",
            "Epoch 71/100\n",
            "169/169 [==============================] - 0s 2ms/step - loss: 0.0187 - accuracy: 0.9946 - val_loss: 0.0167 - val_accuracy: 0.9963\n",
            "Epoch 72/100\n",
            "169/169 [==============================] - 0s 2ms/step - loss: 0.0171 - accuracy: 0.9944 - val_loss: 0.0162 - val_accuracy: 0.9955\n",
            "Epoch 73/100\n",
            "169/169 [==============================] - 0s 2ms/step - loss: 0.0137 - accuracy: 0.9950 - val_loss: 0.0150 - val_accuracy: 0.9963\n",
            "Epoch 74/100\n",
            "169/169 [==============================] - 0s 2ms/step - loss: 0.0137 - accuracy: 0.9955 - val_loss: 0.0178 - val_accuracy: 0.9941\n",
            "Epoch 75/100\n",
            "169/169 [==============================] - 1s 3ms/step - loss: 0.0180 - accuracy: 0.9942 - val_loss: 0.0154 - val_accuracy: 0.9970\n",
            "Epoch 76/100\n",
            "169/169 [==============================] - 0s 3ms/step - loss: 0.0165 - accuracy: 0.9937 - val_loss: 0.0158 - val_accuracy: 0.9955\n",
            "Epoch 77/100\n",
            "169/169 [==============================] - 0s 3ms/step - loss: 0.0158 - accuracy: 0.9939 - val_loss: 0.0171 - val_accuracy: 0.9955\n",
            "Epoch 78/100\n",
            "169/169 [==============================] - 0s 3ms/step - loss: 0.0197 - accuracy: 0.9941 - val_loss: 0.0169 - val_accuracy: 0.9970\n",
            "Epoch 79/100\n",
            "169/169 [==============================] - 0s 3ms/step - loss: 0.0186 - accuracy: 0.9935 - val_loss: 0.0148 - val_accuracy: 0.9955\n",
            "Epoch 80/100\n",
            "169/169 [==============================] - 1s 4ms/step - loss: 0.0151 - accuracy: 0.9946 - val_loss: 0.0150 - val_accuracy: 0.9963\n",
            "Epoch 81/100\n",
            "169/169 [==============================] - 1s 3ms/step - loss: 0.0134 - accuracy: 0.9955 - val_loss: 0.0172 - val_accuracy: 0.9948\n",
            "Epoch 82/100\n",
            "169/169 [==============================] - 0s 2ms/step - loss: 0.0141 - accuracy: 0.9954 - val_loss: 0.0159 - val_accuracy: 0.9963\n",
            "Epoch 83/100\n",
            "169/169 [==============================] - 0s 2ms/step - loss: 0.0166 - accuracy: 0.9944 - val_loss: 0.0147 - val_accuracy: 0.9970\n",
            "Epoch 84/100\n",
            "169/169 [==============================] - 0s 2ms/step - loss: 0.0147 - accuracy: 0.9946 - val_loss: 0.0190 - val_accuracy: 0.9955\n",
            "Epoch 85/100\n",
            "169/169 [==============================] - 0s 2ms/step - loss: 0.0186 - accuracy: 0.9935 - val_loss: 0.0182 - val_accuracy: 0.9955\n",
            "Epoch 86/100\n",
            "169/169 [==============================] - 0s 2ms/step - loss: 0.0166 - accuracy: 0.9933 - val_loss: 0.0158 - val_accuracy: 0.9970\n",
            "Epoch 87/100\n",
            "169/169 [==============================] - 0s 2ms/step - loss: 0.0194 - accuracy: 0.9937 - val_loss: 0.0145 - val_accuracy: 0.9948\n",
            "Epoch 88/100\n",
            "169/169 [==============================] - 0s 2ms/step - loss: 0.0158 - accuracy: 0.9939 - val_loss: 0.0169 - val_accuracy: 0.9948\n",
            "Epoch 89/100\n",
            "169/169 [==============================] - 0s 2ms/step - loss: 0.0151 - accuracy: 0.9961 - val_loss: 0.0142 - val_accuracy: 0.9955\n",
            "Epoch 90/100\n",
            "169/169 [==============================] - 0s 2ms/step - loss: 0.0124 - accuracy: 0.9963 - val_loss: 0.0170 - val_accuracy: 0.9955\n",
            "Epoch 91/100\n",
            "169/169 [==============================] - 0s 2ms/step - loss: 0.0174 - accuracy: 0.9950 - val_loss: 0.0158 - val_accuracy: 0.9963\n",
            "Epoch 92/100\n",
            "169/169 [==============================] - 0s 2ms/step - loss: 0.0150 - accuracy: 0.9959 - val_loss: 0.0134 - val_accuracy: 0.9963\n",
            "Epoch 93/100\n",
            "169/169 [==============================] - 0s 2ms/step - loss: 0.0164 - accuracy: 0.9939 - val_loss: 0.0138 - val_accuracy: 0.9955\n",
            "Epoch 94/100\n",
            "169/169 [==============================] - 0s 2ms/step - loss: 0.0112 - accuracy: 0.9965 - val_loss: 0.0149 - val_accuracy: 0.9963\n",
            "Epoch 95/100\n",
            "169/169 [==============================] - 0s 2ms/step - loss: 0.0196 - accuracy: 0.9948 - val_loss: 0.0144 - val_accuracy: 0.9970\n",
            "Epoch 96/100\n",
            "169/169 [==============================] - 0s 2ms/step - loss: 0.0180 - accuracy: 0.9948 - val_loss: 0.0122 - val_accuracy: 0.9970\n",
            "Epoch 97/100\n",
            "169/169 [==============================] - 0s 2ms/step - loss: 0.0194 - accuracy: 0.9944 - val_loss: 0.0126 - val_accuracy: 0.9970\n",
            "Epoch 98/100\n",
            "169/169 [==============================] - 0s 2ms/step - loss: 0.0131 - accuracy: 0.9957 - val_loss: 0.0134 - val_accuracy: 0.9970\n",
            "Epoch 99/100\n",
            "169/169 [==============================] - 0s 2ms/step - loss: 0.0179 - accuracy: 0.9946 - val_loss: 0.0130 - val_accuracy: 0.9955\n",
            "Epoch 100/100\n",
            "169/169 [==============================] - 0s 2ms/step - loss: 0.0142 - accuracy: 0.9952 - val_loss: 0.0135 - val_accuracy: 0.9955\n",
            "53/53 [==============================] - 0s 1ms/step - loss: 0.0131 - accuracy: 0.9976\n",
            "Test Accuracy: 0.9976\n"
          ]
        }
      ],
      "source": [
        "import tensorflow as tf\n",
        "from sklearn.model_selection import train_test_split\n",
        "from sklearn.preprocessing import LabelEncoder\n",
        "from tensorflow.keras.utils import to_categorical\n",
        "\n",
        "\n",
        "# Define a more complex MLP model\n",
        "model = tf.keras.Sequential([\n",
        "    tf.keras.layers.Dense(128, activation='relu', input_shape=(X_train.shape[1],)),\n",
        "    tf.keras.layers.Dropout(0.3),  # Dropout layer for regularization\n",
        "    tf.keras.layers.Dense(64, activation='relu'),\n",
        "    tf.keras.layers.Dropout(0.3),  # Another dropout layer\n",
        "    tf.keras.layers.Dense(32, activation='relu'),\n",
        "    tf.keras.layers.Dense(y_train.shape[1], activation='softmax')  # Output layer\n",
        "])\n",
        "\n",
        "# Compile the model\n",
        "model.compile(optimizer='adam', loss='categorical_crossentropy', metrics=['accuracy'])\n",
        "\n",
        "# Train the model\n",
        "model.fit(X_train, y_train, epochs=100, batch_size=32, validation_split=0.2)  # Increased epochs\n",
        "\n",
        "# Evaluate the model\n",
        "test_loss, test_accuracy = model.evaluate(X_test, y_test)\n",
        "print(f\"Test Accuracy: {test_accuracy:.4f}\")\n"
      ]
    },
    {
      "cell_type": "code",
      "source": [
        "from joblib import dump\n",
        "dump(model, 'my_keras_model.joblib')\n",
        "\n"
      ],
      "metadata": {
        "colab": {
          "base_uri": "https://localhost:8080/"
        },
        "id": "dqKQkjB6n1wd",
        "outputId": "81d8caf5-b556-406c-91b3-f1e9da99d2a2"
      },
      "execution_count": null,
      "outputs": [
        {
          "output_type": "execute_result",
          "data": {
            "text/plain": [
              "['my_keras_model.joblib']"
            ]
          },
          "metadata": {},
          "execution_count": 87
        }
      ]
    },
    {
      "cell_type": "markdown",
      "source": [
        "*Lastly, \"ROC-AUC Evaluation,\" I am enhancing the model evaluation by using the ROC-AUC (Receiver Operating Characteristic - Area Under the Curve) score as a metric.*"
      ],
      "metadata": {
        "id": "EXdA38pGTnGn"
      }
    },
    {
      "cell_type": "code",
      "execution_count": null,
      "metadata": {
        "colab": {
          "base_uri": "https://localhost:8080/"
        },
        "outputId": "a816fda4-de7a-476f-cf1e-18bbd09ba30a",
        "id": "DY4GjcGAiLTg"
      },
      "outputs": [
        {
          "output_type": "stream",
          "name": "stdout",
          "text": [
            "Epoch 1/100\n",
            "169/169 [==============================] - 2s 4ms/step - loss: 0.0159 - auc: 0.9997 - val_loss: 0.0170 - val_auc: 0.9994\n",
            "Epoch 2/100\n",
            "169/169 [==============================] - 0s 3ms/step - loss: 0.0170 - auc: 0.9998 - val_loss: 0.0150 - val_auc: 0.9994\n",
            "Epoch 3/100\n",
            "169/169 [==============================] - 0s 2ms/step - loss: 0.0141 - auc: 0.9980 - val_loss: 0.0167 - val_auc: 0.9993\n",
            "Epoch 4/100\n",
            "169/169 [==============================] - 0s 2ms/step - loss: 0.0170 - auc: 0.9997 - val_loss: 0.0157 - val_auc: 0.9998\n",
            "Epoch 5/100\n",
            "169/169 [==============================] - 0s 2ms/step - loss: 0.0137 - auc: 0.9999 - val_loss: 0.0167 - val_auc: 0.9993\n",
            "Epoch 6/100\n",
            "169/169 [==============================] - 0s 3ms/step - loss: 0.0167 - auc: 0.9998 - val_loss: 0.0156 - val_auc: 0.9994\n",
            "Epoch 7/100\n",
            "169/169 [==============================] - 0s 3ms/step - loss: 0.0141 - auc: 0.9998 - val_loss: 0.0151 - val_auc: 0.9996\n",
            "Epoch 8/100\n",
            "169/169 [==============================] - 0s 2ms/step - loss: 0.0152 - auc: 0.9998 - val_loss: 0.0269 - val_auc: 0.9989\n",
            "Epoch 9/100\n",
            "169/169 [==============================] - 0s 2ms/step - loss: 0.0186 - auc: 0.9998 - val_loss: 0.0180 - val_auc: 0.9998\n",
            "Epoch 10/100\n",
            "169/169 [==============================] - 1s 3ms/step - loss: 0.0161 - auc: 0.9999 - val_loss: 0.0132 - val_auc: 0.9994\n",
            "Epoch 11/100\n",
            "169/169 [==============================] - 1s 3ms/step - loss: 0.0121 - auc: 0.9999 - val_loss: 0.0159 - val_auc: 0.9993\n",
            "Epoch 12/100\n",
            "169/169 [==============================] - 1s 4ms/step - loss: 0.0111 - auc: 0.9999 - val_loss: 0.0112 - val_auc: 0.9998\n",
            "Epoch 13/100\n",
            "169/169 [==============================] - 1s 3ms/step - loss: 0.0101 - auc: 0.9999 - val_loss: 0.0126 - val_auc: 0.9998\n",
            "Epoch 14/100\n",
            "169/169 [==============================] - 1s 4ms/step - loss: 0.0110 - auc: 0.9999 - val_loss: 0.0147 - val_auc: 0.9998\n",
            "Epoch 15/100\n",
            "169/169 [==============================] - 1s 3ms/step - loss: 0.0136 - auc: 0.9980 - val_loss: 0.0137 - val_auc: 0.9998\n",
            "Epoch 16/100\n",
            "169/169 [==============================] - 0s 2ms/step - loss: 0.0141 - auc: 0.9999 - val_loss: 0.0136 - val_auc: 0.9994\n",
            "Epoch 17/100\n",
            "169/169 [==============================] - 0s 2ms/step - loss: 0.0157 - auc: 0.9999 - val_loss: 0.0158 - val_auc: 0.9993\n",
            "Epoch 18/100\n",
            "169/169 [==============================] - 0s 3ms/step - loss: 0.0158 - auc: 0.9979 - val_loss: 0.0133 - val_auc: 0.9996\n",
            "Epoch 19/100\n",
            "169/169 [==============================] - 0s 2ms/step - loss: 0.0171 - auc: 0.9998 - val_loss: 0.0128 - val_auc: 0.9998\n",
            "Epoch 20/100\n",
            "169/169 [==============================] - 0s 2ms/step - loss: 0.0161 - auc: 0.9998 - val_loss: 0.0174 - val_auc: 0.9996\n",
            "Epoch 21/100\n",
            "169/169 [==============================] - 0s 2ms/step - loss: 0.0139 - auc: 0.9998 - val_loss: 0.0146 - val_auc: 0.9998\n",
            "Epoch 22/100\n",
            "169/169 [==============================] - 0s 2ms/step - loss: 0.0095 - auc: 0.9999 - val_loss: 0.0113 - val_auc: 0.9999\n",
            "Epoch 23/100\n",
            "169/169 [==============================] - 0s 2ms/step - loss: 0.0147 - auc: 0.9980 - val_loss: 0.0140 - val_auc: 0.9994\n",
            "Epoch 24/100\n",
            "169/169 [==============================] - 0s 2ms/step - loss: 0.0153 - auc: 0.9998 - val_loss: 0.0136 - val_auc: 0.9994\n",
            "Epoch 25/100\n",
            "169/169 [==============================] - 0s 2ms/step - loss: 0.0131 - auc: 0.9996 - val_loss: 0.0152 - val_auc: 0.9998\n",
            "Epoch 26/100\n",
            "169/169 [==============================] - 0s 2ms/step - loss: 0.0139 - auc: 0.9999 - val_loss: 0.0113 - val_auc: 0.9998\n",
            "Epoch 27/100\n",
            "169/169 [==============================] - 0s 3ms/step - loss: 0.0126 - auc: 0.9999 - val_loss: 0.0204 - val_auc: 0.9993\n",
            "Epoch 28/100\n",
            "169/169 [==============================] - 0s 2ms/step - loss: 0.0135 - auc: 0.9999 - val_loss: 0.0245 - val_auc: 0.9992\n",
            "Epoch 29/100\n",
            "169/169 [==============================] - 0s 2ms/step - loss: 0.0091 - auc: 0.9999 - val_loss: 0.0159 - val_auc: 0.9993\n",
            "Epoch 30/100\n",
            "169/169 [==============================] - 0s 2ms/step - loss: 0.0152 - auc: 0.9998 - val_loss: 0.0167 - val_auc: 0.9993\n",
            "Epoch 31/100\n",
            "169/169 [==============================] - 0s 3ms/step - loss: 0.0132 - auc: 0.9999 - val_loss: 0.0180 - val_auc: 0.9989\n",
            "Epoch 32/100\n",
            "169/169 [==============================] - 0s 3ms/step - loss: 0.0207 - auc: 0.9996 - val_loss: 0.0168 - val_auc: 0.9993\n",
            "Epoch 33/100\n",
            "169/169 [==============================] - 0s 2ms/step - loss: 0.0140 - auc: 0.9997 - val_loss: 0.0160 - val_auc: 0.9993\n",
            "Epoch 34/100\n",
            "169/169 [==============================] - 0s 2ms/step - loss: 0.0169 - auc: 0.9996 - val_loss: 0.0160 - val_auc: 0.9992\n",
            "Epoch 35/100\n",
            "169/169 [==============================] - 0s 3ms/step - loss: 0.0133 - auc: 0.9999 - val_loss: 0.0172 - val_auc: 0.9993\n",
            "Epoch 36/100\n",
            "169/169 [==============================] - 0s 3ms/step - loss: 0.0154 - auc: 0.9999 - val_loss: 0.0171 - val_auc: 0.9993\n",
            "Epoch 37/100\n",
            "169/169 [==============================] - 0s 3ms/step - loss: 0.0131 - auc: 0.9990 - val_loss: 0.0166 - val_auc: 0.9994\n",
            "Epoch 38/100\n",
            "169/169 [==============================] - 0s 3ms/step - loss: 0.0123 - auc: 0.9999 - val_loss: 0.0176 - val_auc: 0.9993\n",
            "Epoch 39/100\n",
            "169/169 [==============================] - 1s 4ms/step - loss: 0.0088 - auc: 1.0000 - val_loss: 0.0151 - val_auc: 0.9994\n",
            "Epoch 40/100\n",
            "169/169 [==============================] - 1s 4ms/step - loss: 0.0099 - auc: 0.9990 - val_loss: 0.0144 - val_auc: 0.9994\n",
            "Epoch 41/100\n",
            "169/169 [==============================] - 1s 3ms/step - loss: 0.0142 - auc: 0.9980 - val_loss: 0.0163 - val_auc: 0.9994\n",
            "Epoch 42/100\n",
            "169/169 [==============================] - 1s 4ms/step - loss: 0.0142 - auc: 0.9999 - val_loss: 0.0163 - val_auc: 0.9993\n",
            "Epoch 43/100\n",
            "169/169 [==============================] - 1s 3ms/step - loss: 0.0135 - auc: 0.9999 - val_loss: 0.0121 - val_auc: 0.9999\n",
            "Epoch 44/100\n",
            "169/169 [==============================] - 1s 4ms/step - loss: 0.0137 - auc: 0.9999 - val_loss: 0.0137 - val_auc: 0.9998\n",
            "Epoch 45/100\n",
            "169/169 [==============================] - 0s 3ms/step - loss: 0.0133 - auc: 0.9999 - val_loss: 0.0153 - val_auc: 0.9996\n",
            "Epoch 46/100\n",
            "169/169 [==============================] - 0s 3ms/step - loss: 0.0128 - auc: 0.9999 - val_loss: 0.0149 - val_auc: 0.9996\n",
            "Epoch 47/100\n",
            "169/169 [==============================] - 0s 2ms/step - loss: 0.0131 - auc: 0.9999 - val_loss: 0.0214 - val_auc: 0.9998\n",
            "Epoch 48/100\n",
            "169/169 [==============================] - 0s 2ms/step - loss: 0.0168 - auc: 0.9998 - val_loss: 0.0157 - val_auc: 0.9994\n",
            "Epoch 49/100\n",
            "169/169 [==============================] - 0s 3ms/step - loss: 0.0142 - auc: 0.9999 - val_loss: 0.0151 - val_auc: 0.9994\n",
            "Epoch 50/100\n",
            "169/169 [==============================] - 1s 3ms/step - loss: 0.0130 - auc: 1.0000 - val_loss: 0.0174 - val_auc: 0.9994\n",
            "Epoch 51/100\n",
            "169/169 [==============================] - 0s 2ms/step - loss: 0.0117 - auc: 0.9997 - val_loss: 0.0115 - val_auc: 0.9998\n",
            "Epoch 52/100\n",
            "169/169 [==============================] - 0s 2ms/step - loss: 0.0104 - auc: 0.9999 - val_loss: 0.0172 - val_auc: 0.9994\n",
            "Epoch 53/100\n",
            "169/169 [==============================] - 0s 2ms/step - loss: 0.0109 - auc: 0.9999 - val_loss: 0.0181 - val_auc: 0.9994\n",
            "Epoch 54/100\n",
            "169/169 [==============================] - 0s 2ms/step - loss: 0.0108 - auc: 1.0000 - val_loss: 0.0180 - val_auc: 0.9992\n",
            "Epoch 55/100\n",
            "169/169 [==============================] - 0s 2ms/step - loss: 0.0144 - auc: 0.9988 - val_loss: 0.0171 - val_auc: 0.9990\n",
            "Epoch 56/100\n",
            "169/169 [==============================] - 0s 2ms/step - loss: 0.0118 - auc: 1.0000 - val_loss: 0.0155 - val_auc: 0.9994\n",
            "Epoch 57/100\n",
            "169/169 [==============================] - 0s 3ms/step - loss: 0.0105 - auc: 1.0000 - val_loss: 0.0183 - val_auc: 0.9992\n",
            "Epoch 58/100\n",
            "169/169 [==============================] - 0s 2ms/step - loss: 0.0105 - auc: 0.9999 - val_loss: 0.0198 - val_auc: 0.9992\n",
            "Epoch 59/100\n",
            "169/169 [==============================] - 0s 3ms/step - loss: 0.0098 - auc: 0.9999 - val_loss: 0.0195 - val_auc: 0.9992\n",
            "Epoch 60/100\n",
            "169/169 [==============================] - 0s 2ms/step - loss: 0.0099 - auc: 1.0000 - val_loss: 0.0171 - val_auc: 0.9994\n",
            "Epoch 61/100\n",
            "169/169 [==============================] - 0s 2ms/step - loss: 0.0127 - auc: 0.9998 - val_loss: 0.0160 - val_auc: 0.9994\n",
            "Epoch 62/100\n",
            "169/169 [==============================] - 0s 2ms/step - loss: 0.0167 - auc: 0.9998 - val_loss: 0.0150 - val_auc: 0.9996\n",
            "Epoch 63/100\n",
            "169/169 [==============================] - 0s 2ms/step - loss: 0.0131 - auc: 0.9999 - val_loss: 0.0127 - val_auc: 0.9996\n",
            "Epoch 64/100\n",
            "169/169 [==============================] - 0s 3ms/step - loss: 0.0102 - auc: 1.0000 - val_loss: 0.0143 - val_auc: 0.9998\n",
            "Epoch 65/100\n",
            "169/169 [==============================] - 0s 2ms/step - loss: 0.0090 - auc: 1.0000 - val_loss: 0.0154 - val_auc: 0.9992\n",
            "Epoch 66/100\n",
            "169/169 [==============================] - 0s 2ms/step - loss: 0.0110 - auc: 0.9999 - val_loss: 0.0137 - val_auc: 0.9996\n",
            "Epoch 67/100\n",
            "169/169 [==============================] - 0s 2ms/step - loss: 0.0155 - auc: 0.9998 - val_loss: 0.0146 - val_auc: 0.9996\n",
            "Epoch 68/100\n",
            "169/169 [==============================] - 0s 3ms/step - loss: 0.0107 - auc: 1.0000 - val_loss: 0.0186 - val_auc: 0.9990\n",
            "Epoch 69/100\n",
            "169/169 [==============================] - 1s 4ms/step - loss: 0.0133 - auc: 0.9999 - val_loss: 0.0153 - val_auc: 0.9993\n",
            "Epoch 70/100\n",
            "169/169 [==============================] - 1s 4ms/step - loss: 0.0126 - auc: 0.9998 - val_loss: 0.0160 - val_auc: 0.9993\n",
            "Epoch 71/100\n",
            "169/169 [==============================] - 1s 3ms/step - loss: 0.0160 - auc: 0.9996 - val_loss: 0.0200 - val_auc: 0.9993\n",
            "Epoch 72/100\n",
            "169/169 [==============================] - 1s 3ms/step - loss: 0.0081 - auc: 1.0000 - val_loss: 0.0167 - val_auc: 0.9998\n",
            "Epoch 73/100\n",
            "169/169 [==============================] - 1s 3ms/step - loss: 0.0138 - auc: 0.9999 - val_loss: 0.0170 - val_auc: 0.9994\n",
            "Epoch 74/100\n",
            "169/169 [==============================] - 0s 2ms/step - loss: 0.0100 - auc: 1.0000 - val_loss: 0.0214 - val_auc: 0.9992\n",
            "Epoch 75/100\n",
            "169/169 [==============================] - 0s 2ms/step - loss: 0.0142 - auc: 0.9999 - val_loss: 0.0206 - val_auc: 0.9991\n",
            "Epoch 76/100\n",
            "169/169 [==============================] - 0s 2ms/step - loss: 0.0124 - auc: 0.9999 - val_loss: 0.0188 - val_auc: 0.9992\n",
            "Epoch 77/100\n",
            "169/169 [==============================] - 0s 2ms/step - loss: 0.0158 - auc: 0.9997 - val_loss: 0.0195 - val_auc: 0.9991\n",
            "Epoch 78/100\n",
            "169/169 [==============================] - 0s 2ms/step - loss: 0.0123 - auc: 0.9999 - val_loss: 0.0178 - val_auc: 0.9992\n",
            "Epoch 79/100\n",
            "169/169 [==============================] - 0s 3ms/step - loss: 0.0114 - auc: 0.9981 - val_loss: 0.0189 - val_auc: 0.9990\n",
            "Epoch 80/100\n",
            "169/169 [==============================] - 0s 2ms/step - loss: 0.0148 - auc: 0.9989 - val_loss: 0.0178 - val_auc: 0.9990\n",
            "Epoch 81/100\n",
            "169/169 [==============================] - 0s 2ms/step - loss: 0.0088 - auc: 1.0000 - val_loss: 0.0188 - val_auc: 0.9990\n",
            "Epoch 82/100\n",
            "169/169 [==============================] - 0s 2ms/step - loss: 0.0082 - auc: 1.0000 - val_loss: 0.0176 - val_auc: 0.9992\n",
            "Epoch 83/100\n",
            "169/169 [==============================] - 0s 2ms/step - loss: 0.0096 - auc: 0.9990 - val_loss: 0.0194 - val_auc: 0.9990\n",
            "Epoch 84/100\n",
            "169/169 [==============================] - 0s 2ms/step - loss: 0.0098 - auc: 0.9990 - val_loss: 0.0196 - val_auc: 0.9993\n",
            "Epoch 85/100\n",
            "169/169 [==============================] - 0s 2ms/step - loss: 0.0124 - auc: 0.9999 - val_loss: 0.0160 - val_auc: 0.9998\n",
            "Epoch 86/100\n",
            "169/169 [==============================] - 0s 3ms/step - loss: 0.0115 - auc: 0.9999 - val_loss: 0.0165 - val_auc: 0.9992\n",
            "Epoch 87/100\n",
            "169/169 [==============================] - 0s 2ms/step - loss: 0.0091 - auc: 1.0000 - val_loss: 0.0196 - val_auc: 0.9992\n",
            "Epoch 88/100\n",
            "169/169 [==============================] - 0s 2ms/step - loss: 0.0097 - auc: 0.9999 - val_loss: 0.0161 - val_auc: 0.9992\n",
            "Epoch 89/100\n",
            "169/169 [==============================] - 0s 2ms/step - loss: 0.0120 - auc: 0.9999 - val_loss: 0.0168 - val_auc: 0.9994\n",
            "Epoch 90/100\n",
            "169/169 [==============================] - 0s 2ms/step - loss: 0.0168 - auc: 0.9999 - val_loss: 0.0193 - val_auc: 0.9994\n",
            "Epoch 91/100\n",
            "169/169 [==============================] - 0s 2ms/step - loss: 0.0098 - auc: 1.0000 - val_loss: 0.0202 - val_auc: 0.9992\n",
            "Epoch 92/100\n",
            "169/169 [==============================] - 0s 2ms/step - loss: 0.0092 - auc: 1.0000 - val_loss: 0.0206 - val_auc: 0.9990\n",
            "Epoch 93/100\n",
            "169/169 [==============================] - 0s 2ms/step - loss: 0.0081 - auc: 1.0000 - val_loss: 0.0196 - val_auc: 0.9991\n",
            "Epoch 94/100\n",
            "169/169 [==============================] - 0s 2ms/step - loss: 0.0063 - auc: 1.0000 - val_loss: 0.0199 - val_auc: 0.9990\n",
            "Epoch 95/100\n",
            "169/169 [==============================] - 0s 2ms/step - loss: 0.0099 - auc: 1.0000 - val_loss: 0.0179 - val_auc: 0.9990\n",
            "Epoch 96/100\n",
            "169/169 [==============================] - 0s 3ms/step - loss: 0.0066 - auc: 1.0000 - val_loss: 0.0198 - val_auc: 0.9990\n",
            "Epoch 97/100\n",
            "169/169 [==============================] - 0s 3ms/step - loss: 0.0096 - auc: 0.9990 - val_loss: 0.0222 - val_auc: 0.9992\n",
            "Epoch 98/100\n",
            "169/169 [==============================] - 1s 4ms/step - loss: 0.0111 - auc: 0.9999 - val_loss: 0.0229 - val_auc: 0.9990\n",
            "Epoch 99/100\n",
            "169/169 [==============================] - 1s 4ms/step - loss: 0.0136 - auc: 0.9980 - val_loss: 0.0239 - val_auc: 0.9990\n",
            "Epoch 100/100\n",
            "169/169 [==============================] - 1s 3ms/step - loss: 0.0141 - auc: 0.9996 - val_loss: 0.0257 - val_auc: 0.9990\n",
            "53/53 [==============================] - 0s 1ms/step\n",
            "ROC-AUC Score: 0.9998048658107133\n"
          ]
        }
      ],
      "source": [
        "import tensorflow.keras.metrics as metrics\n",
        "\n",
        "model.compile(optimizer='adam',\n",
        "              loss='categorical_crossentropy',\n",
        "              metrics=[metrics.AUC(name='auc', multi_label=True)])\n",
        "# Train the model\n",
        "model.fit(X_train, y_train, epochs=100, batch_size=32, validation_split=0.2)\n",
        "# Predict probabilities for the test set\n",
        "y_pred_probs = model.predict(X_test)\n",
        "\n",
        "# Calculate the ROC-AUC score\n",
        "from sklearn.metrics import roc_auc_score\n",
        "roc_auc = roc_auc_score(y_test, y_pred_probs, multi_class='ovr')\n",
        "print(\"ROC-AUC Score:\", roc_auc)\n"
      ]
    },
    {
      "cell_type": "code",
      "execution_count": null,
      "metadata": {
        "id": "yAkipmB5OSaV"
      },
      "outputs": [],
      "source": [
        "import pandas as pd\n",
        "\n",
        "# Assuming combined_df is your original DataFrame with all the data\n",
        "\n",
        "\n",
        "# Select the features columns\n",
        "features_columns = ['track_id']\n",
        "\n",
        "# Create the new DataFrame with selected features and target emotion\n",
        "new_combined_df = combined_df[features_columns + ['target_emotion']]\n",
        "\n"
      ]
    },
    {
      "cell_type": "code",
      "source": [
        "def generate_file_path(track_id):\n",
        "    base_path = \"/content/drive/My Drive/Colab Notebooks/\"\n",
        "    if 1 <= track_id <= 100:\n",
        "        genre = \"classical\"\n",
        "    elif 101 <= track_id <= 200:\n",
        "        genre = \"rock\"\n",
        "    elif 201 <= track_id <= 300:\n",
        "        genre = \"electronic\"\n",
        "    elif 301 <= track_id <= 400:\n",
        "        genre = \"pop\"\n",
        "    else:\n",
        "        return None\n",
        "    file_number = track_id % 100 if track_id % 100 != 0 else 100\n",
        "    return f\"{base_path}{genre}/{file_number}.mp3\""
      ],
      "metadata": {
        "id": "HaUEHoXQC_bu"
      },
      "execution_count": null,
      "outputs": []
    },
    {
      "cell_type": "code",
      "source": [
        "# Assuming new_combined_df is a subset of another DataFrame\n",
        "new_combined_df = new_combined_df.copy()\n",
        "new_combined_df['file_path'] = new_combined_df['track_id'].apply(generate_file_path)"
      ],
      "metadata": {
        "id": "GT8imIi9DAqk"
      },
      "execution_count": null,
      "outputs": []
    },
    {
      "cell_type": "code",
      "source": [
        "new_combined_df.to_csv('new_combined_data.csv', index=False)"
      ],
      "metadata": {
        "id": "cFLjfkJNtPF1"
      },
      "execution_count": null,
      "outputs": []
    },
    {
      "cell_type": "code",
      "execution_count": null,
      "metadata": {
        "colab": {
          "base_uri": "https://localhost:8080/",
          "height": 17
        },
        "id": "GA3HJ53zOlYQ",
        "outputId": "a20f047e-e65a-4ed1-abc9-b08a3ef7dc12"
      },
      "outputs": [
        {
          "output_type": "display_data",
          "data": {
            "text/plain": [
              "<IPython.core.display.Javascript object>"
            ],
            "application/javascript": [
              "\n",
              "    async function download(id, filename, size) {\n",
              "      if (!google.colab.kernel.accessAllowed) {\n",
              "        return;\n",
              "      }\n",
              "      const div = document.createElement('div');\n",
              "      const label = document.createElement('label');\n",
              "      label.textContent = `Downloading \"${filename}\": `;\n",
              "      div.appendChild(label);\n",
              "      const progress = document.createElement('progress');\n",
              "      progress.max = size;\n",
              "      div.appendChild(progress);\n",
              "      document.body.appendChild(div);\n",
              "\n",
              "      const buffers = [];\n",
              "      let downloaded = 0;\n",
              "\n",
              "      const channel = await google.colab.kernel.comms.open(id);\n",
              "      // Send a message to notify the kernel that we're ready.\n",
              "      channel.send({})\n",
              "\n",
              "      for await (const message of channel.messages) {\n",
              "        // Send a message to notify the kernel that we're ready.\n",
              "        channel.send({})\n",
              "        if (message.buffers) {\n",
              "          for (const buffer of message.buffers) {\n",
              "            buffers.push(buffer);\n",
              "            downloaded += buffer.byteLength;\n",
              "            progress.value = downloaded;\n",
              "          }\n",
              "        }\n",
              "      }\n",
              "      const blob = new Blob(buffers, {type: 'application/binary'});\n",
              "      const a = document.createElement('a');\n",
              "      a.href = window.URL.createObjectURL(blob);\n",
              "      a.download = filename;\n",
              "      div.appendChild(a);\n",
              "      a.click();\n",
              "      div.remove();\n",
              "    }\n",
              "  "
            ]
          },
          "metadata": {}
        },
        {
          "output_type": "display_data",
          "data": {
            "text/plain": [
              "<IPython.core.display.Javascript object>"
            ],
            "application/javascript": [
              "download(\"download_31234a4e-6656-47f9-a46c-91f0c811cc95\", \"new_combined_data.csv\", 86220)"
            ]
          },
          "metadata": {}
        }
      ],
      "source": [
        "from google.colab import files\n",
        "files.download('new_combined_data.csv')"
      ]
    },
    {
      "cell_type": "code",
      "source": [
        "print(new_combined_df.head())\n",
        "print(new_combined_df.tail())"
      ],
      "metadata": {
        "id": "yys-dc2jP0tN",
        "colab": {
          "base_uri": "https://localhost:8080/"
        },
        "outputId": "80b30db8-86a1-46f5-8c65-cd7570185daa"
      },
      "execution_count": null,
      "outputs": [
        {
          "output_type": "stream",
          "name": "stdout",
          "text": [
            "   track_id target_emotion                                          file_path\n",
            "0         1          Happy  /content/drive/My Drive/Colab Notebooks/classi...\n",
            "1         1        Neutral  /content/drive/My Drive/Colab Notebooks/classi...\n",
            "2         1            Sad  /content/drive/My Drive/Colab Notebooks/classi...\n",
            "3         1        Neutral  /content/drive/My Drive/Colab Notebooks/classi...\n",
            "4         1        Neutral  /content/drive/My Drive/Colab Notebooks/classi...\n",
            "      track_id target_emotion  \\\n",
            "8402       400      Surprised   \n",
            "8403       400          Happy   \n",
            "8404       400          Angry   \n",
            "8405       400           Fear   \n",
            "8406       400          Angry   \n",
            "\n",
            "                                              file_path  \n",
            "8402  /content/drive/My Drive/Colab Notebooks/pop/10...  \n",
            "8403  /content/drive/My Drive/Colab Notebooks/pop/10...  \n",
            "8404  /content/drive/My Drive/Colab Notebooks/pop/10...  \n",
            "8405  /content/drive/My Drive/Colab Notebooks/pop/10...  \n",
            "8406  /content/drive/My Drive/Colab Notebooks/pop/10...  \n"
          ]
        }
      ]
    },
    {
      "cell_type": "code",
      "execution_count": null,
      "metadata": {
        "colab": {
          "base_uri": "https://localhost:8080/"
        },
        "id": "Beh8AkoXvPoW",
        "outputId": "8c38a73d-044b-4a64-c983-6c2450d32fa2"
      },
      "outputs": [
        {
          "name": "stdout",
          "output_type": "stream",
          "text": [
            "Collecting pymysql\n",
            "  Downloading PyMySQL-1.1.0-py3-none-any.whl (44 kB)\n",
            "\u001b[2K     \u001b[90m━━━━━━━━━━━━━━━━━━━━━━━━━━━━━━━━━━━━━━━━\u001b[0m \u001b[32m44.8/44.8 kB\u001b[0m \u001b[31m685.3 kB/s\u001b[0m eta \u001b[36m0:00:00\u001b[0m\n",
            "\u001b[?25hInstalling collected packages: pymysql\n",
            "Successfully installed pymysql-1.1.0\n"
          ]
        }
      ],
      "source": [
        "!pip install pymysql\n"
      ]
    },
    {
      "cell_type": "code",
      "source": [
        "!pip install pymysql"
      ],
      "metadata": {
        "id": "yfhDXKxMV-wa"
      },
      "execution_count": null,
      "outputs": []
    }
  ],
  "metadata": {
    "colab": {
      "provenance": []
    },
    "kernelspec": {
      "display_name": "Python 3",
      "name": "python3"
    },
    "language_info": {
      "name": "python"
    }
  },
  "nbformat": 4,
  "nbformat_minor": 0
}